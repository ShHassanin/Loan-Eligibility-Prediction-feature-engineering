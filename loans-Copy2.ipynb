{
 "cells": [
  {
   "cell_type": "code",
   "execution_count": 1,
   "id": "44f8163a",
   "metadata": {},
   "outputs": [
    {
     "name": "stdout",
     "output_type": "stream",
     "text": [
      "Requirement already satisfied: imblearn in c:\\anaconda\\envs\\machine_learning\\lib\\site-packages (0.0)\n",
      "Requirement already satisfied: imbalanced-learn in c:\\anaconda\\envs\\machine_learning\\lib\\site-packages (from imblearn) (0.10.1)\n",
      "Requirement already satisfied: numpy>=1.17.3 in c:\\anaconda\\envs\\machine_learning\\lib\\site-packages (from imbalanced-learn->imblearn) (1.23.5)\n",
      "Requirement already satisfied: scipy>=1.3.2 in c:\\anaconda\\envs\\machine_learning\\lib\\site-packages (from imbalanced-learn->imblearn) (1.11.3)\n",
      "Requirement already satisfied: scikit-learn>=1.0.2 in c:\\anaconda\\envs\\machine_learning\\lib\\site-packages (from imbalanced-learn->imblearn) (1.2.2)\n",
      "Requirement already satisfied: joblib>=1.1.1 in c:\\anaconda\\envs\\machine_learning\\lib\\site-packages (from imbalanced-learn->imblearn) (1.2.0)\n",
      "Requirement already satisfied: threadpoolctl>=2.0.0 in c:\\anaconda\\envs\\machine_learning\\lib\\site-packages (from imbalanced-learn->imblearn) (3.1.0)\n"
     ]
    },
    {
     "name": "stderr",
     "output_type": "stream",
     "text": [
      "\n",
      "[notice] A new release of pip is available: 23.3.2 -> 24.0\n",
      "[notice] To update, run: python.exe -m pip install --upgrade pip\n"
     ]
    }
   ],
   "source": [
    "!pip install imblearn"
   ]
  },
  {
   "cell_type": "markdown",
   "id": "b74326de",
   "metadata": {},
   "source": [
    "<a href=\"https://loan-eligibility-prediction-feature-engineering.streamlit.app/\">App Link<a/>"
   ]
  },
  {
   "cell_type": "code",
   "execution_count": 196,
   "id": "7e5e1e86",
   "metadata": {},
   "outputs": [],
   "source": [
    "import warnings \n",
    "warnings.filterwarnings('ignore')\n",
    "\n",
    "import pandas as pd\n",
    "import numpy as np\n",
    "import plotly.express as px\n",
    "import matplotlib.pyplot as plt\n",
    "import seaborn as sns\n",
    "\n",
    "import sklearn\n",
    "import imblearn\n",
    "from sklearn.impute import KNNImputer , SimpleImputer\n",
    "\n",
    "#from sklearn.metrics import confusion_matrix,classification_report\n",
    "#import category_encoders \n",
    "#from category_encoders import BinaryEncoder,HashingEncoder\n",
    "from sklearn.preprocessing import OneHotEncoder\n",
    "from imblearn.pipeline import Pipeline , make_pipeline\n",
    "from imblearn.over_sampling import SMOTE ,SMOTEN ,SMOTENC, SVMSMOTE ,BorderlineSMOTE \n",
    "\n",
    "\n",
    "from sklearn.preprocessing import StandardScaler, MinMaxScaler, RobustScaler\n",
    "from sklearn.linear_model import LogisticRegression , Lasso ,LassoCV , RidgeClassifier , RidgeClassifierCV ,Ridge ,RidgeCV\n",
    "from sklearn.neighbors import KNeighborsClassifier\n",
    "from sklearn.naive_bayes import GaussianNB\n",
    "from sklearn.svm import SVC\n",
    "\n",
    "from sklearn.tree import DecisionTreeClassifier\n",
    "from sklearn.ensemble import RandomForestClassifier, AdaBoostClassifier, GradientBoostingClassifier\n",
    "from xgboost import XGBClassifier\n",
    "from sklearn.compose import ColumnTransformer\n",
    "from sklearn.pipeline import FeatureUnion\n",
    "from sklearn.feature_selection import SequentialFeatureSelector,RFE\n",
    "\n",
    "from sklearn.model_selection import cross_validate , GridSearchCV\n",
    "#from sklearn.metrics import RocCurveDisplay\n",
    "\n",
    "import joblib as jb"
   ]
  },
  {
   "cell_type": "code",
   "execution_count": 111,
   "id": "fe8d2a22",
   "metadata": {},
   "outputs": [],
   "source": [
    "ml = pd.read_csv('loans_cleaned.csv')"
   ]
  },
  {
   "cell_type": "code",
   "execution_count": 112,
   "id": "6ed95566",
   "metadata": {},
   "outputs": [
    {
     "data": {
      "text/html": [
       "<div>\n",
       "<style scoped>\n",
       "    .dataframe tbody tr th:only-of-type {\n",
       "        vertical-align: middle;\n",
       "    }\n",
       "\n",
       "    .dataframe tbody tr th {\n",
       "        vertical-align: top;\n",
       "    }\n",
       "\n",
       "    .dataframe thead th {\n",
       "        text-align: right;\n",
       "    }\n",
       "</style>\n",
       "<table border=\"1\" class=\"dataframe\">\n",
       "  <thead>\n",
       "    <tr style=\"text-align: right;\">\n",
       "      <th></th>\n",
       "      <th>Loan_ID</th>\n",
       "      <th>Gender</th>\n",
       "      <th>Married</th>\n",
       "      <th>Dependents</th>\n",
       "      <th>Education</th>\n",
       "      <th>Self_Employed</th>\n",
       "      <th>ApplicantIncome</th>\n",
       "      <th>CoapplicantIncome</th>\n",
       "      <th>LoanAmount</th>\n",
       "      <th>Loan_Amount_Term</th>\n",
       "      <th>Credit_History</th>\n",
       "      <th>Property_Area</th>\n",
       "      <th>Loan_Status</th>\n",
       "    </tr>\n",
       "  </thead>\n",
       "  <tbody>\n",
       "    <tr>\n",
       "      <th>0</th>\n",
       "      <td>LP001002</td>\n",
       "      <td>Male</td>\n",
       "      <td>No</td>\n",
       "      <td>0.0</td>\n",
       "      <td>Graduate</td>\n",
       "      <td>No</td>\n",
       "      <td>5849</td>\n",
       "      <td>0.0</td>\n",
       "      <td>NaN</td>\n",
       "      <td>360.0</td>\n",
       "      <td>1.0</td>\n",
       "      <td>Urban</td>\n",
       "      <td>1</td>\n",
       "    </tr>\n",
       "    <tr>\n",
       "      <th>1</th>\n",
       "      <td>LP001003</td>\n",
       "      <td>Male</td>\n",
       "      <td>Yes</td>\n",
       "      <td>1.0</td>\n",
       "      <td>Graduate</td>\n",
       "      <td>No</td>\n",
       "      <td>4583</td>\n",
       "      <td>1508.0</td>\n",
       "      <td>128.0</td>\n",
       "      <td>360.0</td>\n",
       "      <td>1.0</td>\n",
       "      <td>Rural</td>\n",
       "      <td>0</td>\n",
       "    </tr>\n",
       "    <tr>\n",
       "      <th>2</th>\n",
       "      <td>LP001005</td>\n",
       "      <td>Male</td>\n",
       "      <td>Yes</td>\n",
       "      <td>0.0</td>\n",
       "      <td>Graduate</td>\n",
       "      <td>Yes</td>\n",
       "      <td>3000</td>\n",
       "      <td>0.0</td>\n",
       "      <td>66.0</td>\n",
       "      <td>360.0</td>\n",
       "      <td>1.0</td>\n",
       "      <td>Urban</td>\n",
       "      <td>1</td>\n",
       "    </tr>\n",
       "    <tr>\n",
       "      <th>3</th>\n",
       "      <td>LP001006</td>\n",
       "      <td>Male</td>\n",
       "      <td>Yes</td>\n",
       "      <td>0.0</td>\n",
       "      <td>Not Graduate</td>\n",
       "      <td>No</td>\n",
       "      <td>2583</td>\n",
       "      <td>2358.0</td>\n",
       "      <td>120.0</td>\n",
       "      <td>360.0</td>\n",
       "      <td>1.0</td>\n",
       "      <td>Urban</td>\n",
       "      <td>1</td>\n",
       "    </tr>\n",
       "    <tr>\n",
       "      <th>4</th>\n",
       "      <td>LP001008</td>\n",
       "      <td>Male</td>\n",
       "      <td>No</td>\n",
       "      <td>0.0</td>\n",
       "      <td>Graduate</td>\n",
       "      <td>No</td>\n",
       "      <td>6000</td>\n",
       "      <td>0.0</td>\n",
       "      <td>141.0</td>\n",
       "      <td>360.0</td>\n",
       "      <td>1.0</td>\n",
       "      <td>Urban</td>\n",
       "      <td>1</td>\n",
       "    </tr>\n",
       "    <tr>\n",
       "      <th>...</th>\n",
       "      <td>...</td>\n",
       "      <td>...</td>\n",
       "      <td>...</td>\n",
       "      <td>...</td>\n",
       "      <td>...</td>\n",
       "      <td>...</td>\n",
       "      <td>...</td>\n",
       "      <td>...</td>\n",
       "      <td>...</td>\n",
       "      <td>...</td>\n",
       "      <td>...</td>\n",
       "      <td>...</td>\n",
       "      <td>...</td>\n",
       "    </tr>\n",
       "    <tr>\n",
       "      <th>609</th>\n",
       "      <td>LP002978</td>\n",
       "      <td>Female</td>\n",
       "      <td>No</td>\n",
       "      <td>0.0</td>\n",
       "      <td>Graduate</td>\n",
       "      <td>No</td>\n",
       "      <td>2900</td>\n",
       "      <td>0.0</td>\n",
       "      <td>71.0</td>\n",
       "      <td>360.0</td>\n",
       "      <td>1.0</td>\n",
       "      <td>Rural</td>\n",
       "      <td>1</td>\n",
       "    </tr>\n",
       "    <tr>\n",
       "      <th>610</th>\n",
       "      <td>LP002979</td>\n",
       "      <td>Male</td>\n",
       "      <td>Yes</td>\n",
       "      <td>3.0</td>\n",
       "      <td>Graduate</td>\n",
       "      <td>No</td>\n",
       "      <td>4106</td>\n",
       "      <td>0.0</td>\n",
       "      <td>40.0</td>\n",
       "      <td>180.0</td>\n",
       "      <td>1.0</td>\n",
       "      <td>Rural</td>\n",
       "      <td>1</td>\n",
       "    </tr>\n",
       "    <tr>\n",
       "      <th>611</th>\n",
       "      <td>LP002983</td>\n",
       "      <td>Male</td>\n",
       "      <td>Yes</td>\n",
       "      <td>1.0</td>\n",
       "      <td>Graduate</td>\n",
       "      <td>No</td>\n",
       "      <td>8072</td>\n",
       "      <td>240.0</td>\n",
       "      <td>253.0</td>\n",
       "      <td>360.0</td>\n",
       "      <td>1.0</td>\n",
       "      <td>Urban</td>\n",
       "      <td>1</td>\n",
       "    </tr>\n",
       "    <tr>\n",
       "      <th>612</th>\n",
       "      <td>LP002984</td>\n",
       "      <td>Male</td>\n",
       "      <td>Yes</td>\n",
       "      <td>2.0</td>\n",
       "      <td>Graduate</td>\n",
       "      <td>No</td>\n",
       "      <td>7583</td>\n",
       "      <td>0.0</td>\n",
       "      <td>187.0</td>\n",
       "      <td>360.0</td>\n",
       "      <td>1.0</td>\n",
       "      <td>Urban</td>\n",
       "      <td>1</td>\n",
       "    </tr>\n",
       "    <tr>\n",
       "      <th>613</th>\n",
       "      <td>LP002990</td>\n",
       "      <td>Female</td>\n",
       "      <td>No</td>\n",
       "      <td>0.0</td>\n",
       "      <td>Graduate</td>\n",
       "      <td>Yes</td>\n",
       "      <td>4583</td>\n",
       "      <td>0.0</td>\n",
       "      <td>133.0</td>\n",
       "      <td>360.0</td>\n",
       "      <td>0.0</td>\n",
       "      <td>Semiurban</td>\n",
       "      <td>0</td>\n",
       "    </tr>\n",
       "  </tbody>\n",
       "</table>\n",
       "<p>614 rows × 13 columns</p>\n",
       "</div>"
      ],
      "text/plain": [
       "      Loan_ID  Gender Married  Dependents     Education Self_Employed  \\\n",
       "0    LP001002    Male      No         0.0      Graduate            No   \n",
       "1    LP001003    Male     Yes         1.0      Graduate            No   \n",
       "2    LP001005    Male     Yes         0.0      Graduate           Yes   \n",
       "3    LP001006    Male     Yes         0.0  Not Graduate            No   \n",
       "4    LP001008    Male      No         0.0      Graduate            No   \n",
       "..        ...     ...     ...         ...           ...           ...   \n",
       "609  LP002978  Female      No         0.0      Graduate            No   \n",
       "610  LP002979    Male     Yes         3.0      Graduate            No   \n",
       "611  LP002983    Male     Yes         1.0      Graduate            No   \n",
       "612  LP002984    Male     Yes         2.0      Graduate            No   \n",
       "613  LP002990  Female      No         0.0      Graduate           Yes   \n",
       "\n",
       "     ApplicantIncome  CoapplicantIncome  LoanAmount  Loan_Amount_Term  \\\n",
       "0               5849                0.0         NaN             360.0   \n",
       "1               4583             1508.0       128.0             360.0   \n",
       "2               3000                0.0        66.0             360.0   \n",
       "3               2583             2358.0       120.0             360.0   \n",
       "4               6000                0.0       141.0             360.0   \n",
       "..               ...                ...         ...               ...   \n",
       "609             2900                0.0        71.0             360.0   \n",
       "610             4106                0.0        40.0             180.0   \n",
       "611             8072              240.0       253.0             360.0   \n",
       "612             7583                0.0       187.0             360.0   \n",
       "613             4583                0.0       133.0             360.0   \n",
       "\n",
       "     Credit_History Property_Area  Loan_Status  \n",
       "0               1.0         Urban            1  \n",
       "1               1.0         Rural            0  \n",
       "2               1.0         Urban            1  \n",
       "3               1.0         Urban            1  \n",
       "4               1.0         Urban            1  \n",
       "..              ...           ...          ...  \n",
       "609             1.0         Rural            1  \n",
       "610             1.0         Rural            1  \n",
       "611             1.0         Urban            1  \n",
       "612             1.0         Urban            1  \n",
       "613             0.0     Semiurban            0  \n",
       "\n",
       "[614 rows x 13 columns]"
      ]
     },
     "execution_count": 112,
     "metadata": {},
     "output_type": "execute_result"
    }
   ],
   "source": [
    "ml"
   ]
  },
  {
   "cell_type": "code",
   "execution_count": 113,
   "id": "353fcf20",
   "metadata": {},
   "outputs": [],
   "source": [
    "ml.drop('Loan_ID',axis=1,inplace=True)"
   ]
  },
  {
   "cell_type": "code",
   "execution_count": 114,
   "id": "c622e963",
   "metadata": {},
   "outputs": [
    {
     "name": "stdout",
     "output_type": "stream",
     "text": [
      "<class 'pandas.core.frame.DataFrame'>\n",
      "RangeIndex: 614 entries, 0 to 613\n",
      "Data columns (total 12 columns):\n",
      " #   Column             Non-Null Count  Dtype  \n",
      "---  ------             --------------  -----  \n",
      " 0   Gender             601 non-null    object \n",
      " 1   Married            611 non-null    object \n",
      " 2   Dependents         599 non-null    float64\n",
      " 3   Education          614 non-null    object \n",
      " 4   Self_Employed      582 non-null    object \n",
      " 5   ApplicantIncome    614 non-null    int64  \n",
      " 6   CoapplicantIncome  614 non-null    float64\n",
      " 7   LoanAmount         592 non-null    float64\n",
      " 8   Loan_Amount_Term   600 non-null    float64\n",
      " 9   Credit_History     564 non-null    float64\n",
      " 10  Property_Area      614 non-null    object \n",
      " 11  Loan_Status        614 non-null    int64  \n",
      "dtypes: float64(5), int64(2), object(5)\n",
      "memory usage: 57.7+ KB\n"
     ]
    }
   ],
   "source": [
    "ml.info()"
   ]
  },
  {
   "cell_type": "code",
   "execution_count": 115,
   "id": "d854dc13",
   "metadata": {},
   "outputs": [
    {
     "data": {
      "text/plain": [
       "0"
      ]
     },
     "execution_count": 115,
     "metadata": {},
     "output_type": "execute_result"
    }
   ],
   "source": [
    "ml.duplicated().sum()"
   ]
  },
  {
   "cell_type": "code",
   "execution_count": 116,
   "id": "65290396",
   "metadata": {},
   "outputs": [
    {
     "data": {
      "text/plain": [
       "Gender                 2\n",
       "Married                2\n",
       "Dependents             4\n",
       "Education              2\n",
       "Self_Employed          2\n",
       "ApplicantIncome      505\n",
       "CoapplicantIncome    287\n",
       "LoanAmount           203\n",
       "Loan_Amount_Term      10\n",
       "Credit_History         2\n",
       "Property_Area          3\n",
       "Loan_Status            2\n",
       "dtype: int64"
      ]
     },
     "execution_count": 116,
     "metadata": {},
     "output_type": "execute_result"
    }
   ],
   "source": [
    "ml.nunique()"
   ]
  },
  {
   "cell_type": "code",
   "execution_count": 117,
   "id": "ac327d6b",
   "metadata": {},
   "outputs": [
    {
     "data": {
      "text/plain": [
       "Gender               13\n",
       "Married               3\n",
       "Dependents           15\n",
       "Education             0\n",
       "Self_Employed        32\n",
       "ApplicantIncome       0\n",
       "CoapplicantIncome     0\n",
       "LoanAmount           22\n",
       "Loan_Amount_Term     14\n",
       "Credit_History       50\n",
       "Property_Area         0\n",
       "Loan_Status           0\n",
       "dtype: int64"
      ]
     },
     "execution_count": 117,
     "metadata": {},
     "output_type": "execute_result"
    }
   ],
   "source": [
    "ml.isna().sum()"
   ]
  },
  {
   "cell_type": "code",
   "execution_count": null,
   "id": "0bcb2e71",
   "metadata": {},
   "outputs": [],
   "source": []
  },
  {
   "cell_type": "code",
   "execution_count": 118,
   "id": "4846a86a",
   "metadata": {},
   "outputs": [
    {
     "data": {
      "application/vnd.plotly.v1+json": {
       "config": {
        "plotlyServerURL": "https://plot.ly"
       },
       "data": [
        {
         "coloraxis": "coloraxis",
         "hovertemplate": "x: %{x}<br>y: %{y}<br>color: %{z}<extra></extra>",
         "name": "0",
         "texttemplate": "%{z}",
         "type": "heatmap",
         "x": [
          "Dependents",
          "ApplicantIncome",
          "CoapplicantIncome",
          "LoanAmount",
          "Loan_Amount_Term",
          "Credit_History",
          "Loan_Status"
         ],
         "xaxis": "x",
         "y": [
          "Dependents",
          "ApplicantIncome",
          "CoapplicantIncome",
          "LoanAmount",
          "Loan_Amount_Term",
          "Credit_History",
          "Loan_Status"
         ],
         "yaxis": "y",
         "z": [
          [
           1,
           0.11867863415941973,
           0.027259336667826,
           0.16399716042360282,
           -0.10048350785425492,
           -0.05008233443553535,
           0.006781284954637514
          ],
          [
           0.11867863415941973,
           1,
           -0.11660458122889955,
           0.5709090389885663,
           -0.04530608706258189,
           -0.014714878100313102,
           -0.0047095226593515584
          ],
          [
           0.027259336667826,
           -0.11660458122889955,
           1,
           0.18861940442311742,
           -0.059878008731631405,
           -0.00205627644650305,
           -0.059187313487850064
          ],
          [
           0.16399716042360282,
           0.5709090389885663,
           0.18861940442311742,
           1,
           0.0394472509159701,
           -0.008432772365243776,
           -0.037317768699794175
          ],
          [
           -0.10048350785425492,
           -0.04530608706258189,
           -0.059878008731631405,
           0.0394472509159701,
           1,
           0.001470109869839285,
           -0.021267658123862963
          ],
          [
           -0.05008233443553535,
           -0.014714878100313102,
           -0.00205627644650305,
           -0.008432772365243776,
           0.001470109869839285,
           1,
           0.5616781574653794
          ],
          [
           0.006781284954637514,
           -0.0047095226593515584,
           -0.059187313487850064,
           -0.037317768699794175,
           -0.021267658123862963,
           0.5616781574653794,
           1
          ]
         ]
        }
       ],
       "layout": {
        "coloraxis": {
         "colorscale": [
          [
           0,
           "#0d0887"
          ],
          [
           0.1111111111111111,
           "#46039f"
          ],
          [
           0.2222222222222222,
           "#7201a8"
          ],
          [
           0.3333333333333333,
           "#9c179e"
          ],
          [
           0.4444444444444444,
           "#bd3786"
          ],
          [
           0.5555555555555556,
           "#d8576b"
          ],
          [
           0.6666666666666666,
           "#ed7953"
          ],
          [
           0.7777777777777778,
           "#fb9f3a"
          ],
          [
           0.8888888888888888,
           "#fdca26"
          ],
          [
           1,
           "#f0f921"
          ]
         ]
        },
        "height": 1200,
        "margin": {
         "t": 60
        },
        "template": {
         "data": {
          "bar": [
           {
            "error_x": {
             "color": "#2a3f5f"
            },
            "error_y": {
             "color": "#2a3f5f"
            },
            "marker": {
             "line": {
              "color": "#E5ECF6",
              "width": 0.5
             },
             "pattern": {
              "fillmode": "overlay",
              "size": 10,
              "solidity": 0.2
             }
            },
            "type": "bar"
           }
          ],
          "barpolar": [
           {
            "marker": {
             "line": {
              "color": "#E5ECF6",
              "width": 0.5
             },
             "pattern": {
              "fillmode": "overlay",
              "size": 10,
              "solidity": 0.2
             }
            },
            "type": "barpolar"
           }
          ],
          "carpet": [
           {
            "aaxis": {
             "endlinecolor": "#2a3f5f",
             "gridcolor": "white",
             "linecolor": "white",
             "minorgridcolor": "white",
             "startlinecolor": "#2a3f5f"
            },
            "baxis": {
             "endlinecolor": "#2a3f5f",
             "gridcolor": "white",
             "linecolor": "white",
             "minorgridcolor": "white",
             "startlinecolor": "#2a3f5f"
            },
            "type": "carpet"
           }
          ],
          "choropleth": [
           {
            "colorbar": {
             "outlinewidth": 0,
             "ticks": ""
            },
            "type": "choropleth"
           }
          ],
          "contour": [
           {
            "colorbar": {
             "outlinewidth": 0,
             "ticks": ""
            },
            "colorscale": [
             [
              0,
              "#0d0887"
             ],
             [
              0.1111111111111111,
              "#46039f"
             ],
             [
              0.2222222222222222,
              "#7201a8"
             ],
             [
              0.3333333333333333,
              "#9c179e"
             ],
             [
              0.4444444444444444,
              "#bd3786"
             ],
             [
              0.5555555555555556,
              "#d8576b"
             ],
             [
              0.6666666666666666,
              "#ed7953"
             ],
             [
              0.7777777777777778,
              "#fb9f3a"
             ],
             [
              0.8888888888888888,
              "#fdca26"
             ],
             [
              1,
              "#f0f921"
             ]
            ],
            "type": "contour"
           }
          ],
          "contourcarpet": [
           {
            "colorbar": {
             "outlinewidth": 0,
             "ticks": ""
            },
            "type": "contourcarpet"
           }
          ],
          "heatmap": [
           {
            "colorbar": {
             "outlinewidth": 0,
             "ticks": ""
            },
            "colorscale": [
             [
              0,
              "#0d0887"
             ],
             [
              0.1111111111111111,
              "#46039f"
             ],
             [
              0.2222222222222222,
              "#7201a8"
             ],
             [
              0.3333333333333333,
              "#9c179e"
             ],
             [
              0.4444444444444444,
              "#bd3786"
             ],
             [
              0.5555555555555556,
              "#d8576b"
             ],
             [
              0.6666666666666666,
              "#ed7953"
             ],
             [
              0.7777777777777778,
              "#fb9f3a"
             ],
             [
              0.8888888888888888,
              "#fdca26"
             ],
             [
              1,
              "#f0f921"
             ]
            ],
            "type": "heatmap"
           }
          ],
          "heatmapgl": [
           {
            "colorbar": {
             "outlinewidth": 0,
             "ticks": ""
            },
            "colorscale": [
             [
              0,
              "#0d0887"
             ],
             [
              0.1111111111111111,
              "#46039f"
             ],
             [
              0.2222222222222222,
              "#7201a8"
             ],
             [
              0.3333333333333333,
              "#9c179e"
             ],
             [
              0.4444444444444444,
              "#bd3786"
             ],
             [
              0.5555555555555556,
              "#d8576b"
             ],
             [
              0.6666666666666666,
              "#ed7953"
             ],
             [
              0.7777777777777778,
              "#fb9f3a"
             ],
             [
              0.8888888888888888,
              "#fdca26"
             ],
             [
              1,
              "#f0f921"
             ]
            ],
            "type": "heatmapgl"
           }
          ],
          "histogram": [
           {
            "marker": {
             "pattern": {
              "fillmode": "overlay",
              "size": 10,
              "solidity": 0.2
             }
            },
            "type": "histogram"
           }
          ],
          "histogram2d": [
           {
            "colorbar": {
             "outlinewidth": 0,
             "ticks": ""
            },
            "colorscale": [
             [
              0,
              "#0d0887"
             ],
             [
              0.1111111111111111,
              "#46039f"
             ],
             [
              0.2222222222222222,
              "#7201a8"
             ],
             [
              0.3333333333333333,
              "#9c179e"
             ],
             [
              0.4444444444444444,
              "#bd3786"
             ],
             [
              0.5555555555555556,
              "#d8576b"
             ],
             [
              0.6666666666666666,
              "#ed7953"
             ],
             [
              0.7777777777777778,
              "#fb9f3a"
             ],
             [
              0.8888888888888888,
              "#fdca26"
             ],
             [
              1,
              "#f0f921"
             ]
            ],
            "type": "histogram2d"
           }
          ],
          "histogram2dcontour": [
           {
            "colorbar": {
             "outlinewidth": 0,
             "ticks": ""
            },
            "colorscale": [
             [
              0,
              "#0d0887"
             ],
             [
              0.1111111111111111,
              "#46039f"
             ],
             [
              0.2222222222222222,
              "#7201a8"
             ],
             [
              0.3333333333333333,
              "#9c179e"
             ],
             [
              0.4444444444444444,
              "#bd3786"
             ],
             [
              0.5555555555555556,
              "#d8576b"
             ],
             [
              0.6666666666666666,
              "#ed7953"
             ],
             [
              0.7777777777777778,
              "#fb9f3a"
             ],
             [
              0.8888888888888888,
              "#fdca26"
             ],
             [
              1,
              "#f0f921"
             ]
            ],
            "type": "histogram2dcontour"
           }
          ],
          "mesh3d": [
           {
            "colorbar": {
             "outlinewidth": 0,
             "ticks": ""
            },
            "type": "mesh3d"
           }
          ],
          "parcoords": [
           {
            "line": {
             "colorbar": {
              "outlinewidth": 0,
              "ticks": ""
             }
            },
            "type": "parcoords"
           }
          ],
          "pie": [
           {
            "automargin": true,
            "type": "pie"
           }
          ],
          "scatter": [
           {
            "fillpattern": {
             "fillmode": "overlay",
             "size": 10,
             "solidity": 0.2
            },
            "type": "scatter"
           }
          ],
          "scatter3d": [
           {
            "line": {
             "colorbar": {
              "outlinewidth": 0,
              "ticks": ""
             }
            },
            "marker": {
             "colorbar": {
              "outlinewidth": 0,
              "ticks": ""
             }
            },
            "type": "scatter3d"
           }
          ],
          "scattercarpet": [
           {
            "marker": {
             "colorbar": {
              "outlinewidth": 0,
              "ticks": ""
             }
            },
            "type": "scattercarpet"
           }
          ],
          "scattergeo": [
           {
            "marker": {
             "colorbar": {
              "outlinewidth": 0,
              "ticks": ""
             }
            },
            "type": "scattergeo"
           }
          ],
          "scattergl": [
           {
            "marker": {
             "colorbar": {
              "outlinewidth": 0,
              "ticks": ""
             }
            },
            "type": "scattergl"
           }
          ],
          "scattermapbox": [
           {
            "marker": {
             "colorbar": {
              "outlinewidth": 0,
              "ticks": ""
             }
            },
            "type": "scattermapbox"
           }
          ],
          "scatterpolar": [
           {
            "marker": {
             "colorbar": {
              "outlinewidth": 0,
              "ticks": ""
             }
            },
            "type": "scatterpolar"
           }
          ],
          "scatterpolargl": [
           {
            "marker": {
             "colorbar": {
              "outlinewidth": 0,
              "ticks": ""
             }
            },
            "type": "scatterpolargl"
           }
          ],
          "scatterternary": [
           {
            "marker": {
             "colorbar": {
              "outlinewidth": 0,
              "ticks": ""
             }
            },
            "type": "scatterternary"
           }
          ],
          "surface": [
           {
            "colorbar": {
             "outlinewidth": 0,
             "ticks": ""
            },
            "colorscale": [
             [
              0,
              "#0d0887"
             ],
             [
              0.1111111111111111,
              "#46039f"
             ],
             [
              0.2222222222222222,
              "#7201a8"
             ],
             [
              0.3333333333333333,
              "#9c179e"
             ],
             [
              0.4444444444444444,
              "#bd3786"
             ],
             [
              0.5555555555555556,
              "#d8576b"
             ],
             [
              0.6666666666666666,
              "#ed7953"
             ],
             [
              0.7777777777777778,
              "#fb9f3a"
             ],
             [
              0.8888888888888888,
              "#fdca26"
             ],
             [
              1,
              "#f0f921"
             ]
            ],
            "type": "surface"
           }
          ],
          "table": [
           {
            "cells": {
             "fill": {
              "color": "#EBF0F8"
             },
             "line": {
              "color": "white"
             }
            },
            "header": {
             "fill": {
              "color": "#C8D4E3"
             },
             "line": {
              "color": "white"
             }
            },
            "type": "table"
           }
          ]
         },
         "layout": {
          "annotationdefaults": {
           "arrowcolor": "#2a3f5f",
           "arrowhead": 0,
           "arrowwidth": 1
          },
          "autotypenumbers": "strict",
          "coloraxis": {
           "colorbar": {
            "outlinewidth": 0,
            "ticks": ""
           }
          },
          "colorscale": {
           "diverging": [
            [
             0,
             "#8e0152"
            ],
            [
             0.1,
             "#c51b7d"
            ],
            [
             0.2,
             "#de77ae"
            ],
            [
             0.3,
             "#f1b6da"
            ],
            [
             0.4,
             "#fde0ef"
            ],
            [
             0.5,
             "#f7f7f7"
            ],
            [
             0.6,
             "#e6f5d0"
            ],
            [
             0.7,
             "#b8e186"
            ],
            [
             0.8,
             "#7fbc41"
            ],
            [
             0.9,
             "#4d9221"
            ],
            [
             1,
             "#276419"
            ]
           ],
           "sequential": [
            [
             0,
             "#0d0887"
            ],
            [
             0.1111111111111111,
             "#46039f"
            ],
            [
             0.2222222222222222,
             "#7201a8"
            ],
            [
             0.3333333333333333,
             "#9c179e"
            ],
            [
             0.4444444444444444,
             "#bd3786"
            ],
            [
             0.5555555555555556,
             "#d8576b"
            ],
            [
             0.6666666666666666,
             "#ed7953"
            ],
            [
             0.7777777777777778,
             "#fb9f3a"
            ],
            [
             0.8888888888888888,
             "#fdca26"
            ],
            [
             1,
             "#f0f921"
            ]
           ],
           "sequentialminus": [
            [
             0,
             "#0d0887"
            ],
            [
             0.1111111111111111,
             "#46039f"
            ],
            [
             0.2222222222222222,
             "#7201a8"
            ],
            [
             0.3333333333333333,
             "#9c179e"
            ],
            [
             0.4444444444444444,
             "#bd3786"
            ],
            [
             0.5555555555555556,
             "#d8576b"
            ],
            [
             0.6666666666666666,
             "#ed7953"
            ],
            [
             0.7777777777777778,
             "#fb9f3a"
            ],
            [
             0.8888888888888888,
             "#fdca26"
            ],
            [
             1,
             "#f0f921"
            ]
           ]
          },
          "colorway": [
           "#636efa",
           "#EF553B",
           "#00cc96",
           "#ab63fa",
           "#FFA15A",
           "#19d3f3",
           "#FF6692",
           "#B6E880",
           "#FF97FF",
           "#FECB52"
          ],
          "font": {
           "color": "#2a3f5f"
          },
          "geo": {
           "bgcolor": "white",
           "lakecolor": "white",
           "landcolor": "#E5ECF6",
           "showlakes": true,
           "showland": true,
           "subunitcolor": "white"
          },
          "hoverlabel": {
           "align": "left"
          },
          "hovermode": "closest",
          "mapbox": {
           "style": "light"
          },
          "paper_bgcolor": "white",
          "plot_bgcolor": "#E5ECF6",
          "polar": {
           "angularaxis": {
            "gridcolor": "white",
            "linecolor": "white",
            "ticks": ""
           },
           "bgcolor": "#E5ECF6",
           "radialaxis": {
            "gridcolor": "white",
            "linecolor": "white",
            "ticks": ""
           }
          },
          "scene": {
           "xaxis": {
            "backgroundcolor": "#E5ECF6",
            "gridcolor": "white",
            "gridwidth": 2,
            "linecolor": "white",
            "showbackground": true,
            "ticks": "",
            "zerolinecolor": "white"
           },
           "yaxis": {
            "backgroundcolor": "#E5ECF6",
            "gridcolor": "white",
            "gridwidth": 2,
            "linecolor": "white",
            "showbackground": true,
            "ticks": "",
            "zerolinecolor": "white"
           },
           "zaxis": {
            "backgroundcolor": "#E5ECF6",
            "gridcolor": "white",
            "gridwidth": 2,
            "linecolor": "white",
            "showbackground": true,
            "ticks": "",
            "zerolinecolor": "white"
           }
          },
          "shapedefaults": {
           "line": {
            "color": "#2a3f5f"
           }
          },
          "ternary": {
           "aaxis": {
            "gridcolor": "white",
            "linecolor": "white",
            "ticks": ""
           },
           "baxis": {
            "gridcolor": "white",
            "linecolor": "white",
            "ticks": ""
           },
           "bgcolor": "#E5ECF6",
           "caxis": {
            "gridcolor": "white",
            "linecolor": "white",
            "ticks": ""
           }
          },
          "title": {
           "x": 0.05
          },
          "xaxis": {
           "automargin": true,
           "gridcolor": "white",
           "linecolor": "white",
           "ticks": "",
           "title": {
            "standoff": 15
           },
           "zerolinecolor": "white",
           "zerolinewidth": 2
          },
          "yaxis": {
           "automargin": true,
           "gridcolor": "white",
           "linecolor": "white",
           "ticks": "",
           "title": {
            "standoff": 15
           },
           "zerolinecolor": "white",
           "zerolinewidth": 2
          }
         }
        },
        "width": 1000,
        "xaxis": {
         "anchor": "y",
         "constrain": "domain",
         "domain": [
          0,
          1
         ],
         "scaleanchor": "y"
        },
        "yaxis": {
         "anchor": "x",
         "autorange": "reversed",
         "constrain": "domain",
         "domain": [
          0,
          1
         ]
        }
       }
      },
      "text/html": [
       "<div>                            <div id=\"57536736-02a1-42d9-aa3e-efea82b4b54c\" class=\"plotly-graph-div\" style=\"height:1200px; width:1000px;\"></div>            <script type=\"text/javascript\">                require([\"plotly\"], function(Plotly) {                    window.PLOTLYENV=window.PLOTLYENV || {};                                    if (document.getElementById(\"57536736-02a1-42d9-aa3e-efea82b4b54c\")) {                    Plotly.newPlot(                        \"57536736-02a1-42d9-aa3e-efea82b4b54c\",                        [{\"coloraxis\":\"coloraxis\",\"name\":\"0\",\"texttemplate\":\"%{z}\",\"x\":[\"Dependents\",\"ApplicantIncome\",\"CoapplicantIncome\",\"LoanAmount\",\"Loan_Amount_Term\",\"Credit_History\",\"Loan_Status\"],\"y\":[\"Dependents\",\"ApplicantIncome\",\"CoapplicantIncome\",\"LoanAmount\",\"Loan_Amount_Term\",\"Credit_History\",\"Loan_Status\"],\"z\":[[1.0,0.11867863415941973,0.027259336667826,0.16399716042360282,-0.10048350785425492,-0.05008233443553535,0.006781284954637514],[0.11867863415941973,1.0,-0.11660458122889955,0.5709090389885663,-0.04530608706258189,-0.014714878100313102,-0.0047095226593515584],[0.027259336667826,-0.11660458122889955,1.0,0.18861940442311742,-0.059878008731631405,-0.00205627644650305,-0.059187313487850064],[0.16399716042360282,0.5709090389885663,0.18861940442311742,1.0,0.0394472509159701,-0.008432772365243776,-0.037317768699794175],[-0.10048350785425492,-0.04530608706258189,-0.059878008731631405,0.0394472509159701,1.0,0.001470109869839285,-0.021267658123862963],[-0.05008233443553535,-0.014714878100313102,-0.00205627644650305,-0.008432772365243776,0.001470109869839285,1.0,0.5616781574653794],[0.006781284954637514,-0.0047095226593515584,-0.059187313487850064,-0.037317768699794175,-0.021267658123862963,0.5616781574653794,1.0]],\"type\":\"heatmap\",\"xaxis\":\"x\",\"yaxis\":\"y\",\"hovertemplate\":\"x: %{x}<br>y: %{y}<br>color: %{z}<extra></extra>\"}],                        {\"template\":{\"data\":{\"histogram2dcontour\":[{\"type\":\"histogram2dcontour\",\"colorbar\":{\"outlinewidth\":0,\"ticks\":\"\"},\"colorscale\":[[0.0,\"#0d0887\"],[0.1111111111111111,\"#46039f\"],[0.2222222222222222,\"#7201a8\"],[0.3333333333333333,\"#9c179e\"],[0.4444444444444444,\"#bd3786\"],[0.5555555555555556,\"#d8576b\"],[0.6666666666666666,\"#ed7953\"],[0.7777777777777778,\"#fb9f3a\"],[0.8888888888888888,\"#fdca26\"],[1.0,\"#f0f921\"]]}],\"choropleth\":[{\"type\":\"choropleth\",\"colorbar\":{\"outlinewidth\":0,\"ticks\":\"\"}}],\"histogram2d\":[{\"type\":\"histogram2d\",\"colorbar\":{\"outlinewidth\":0,\"ticks\":\"\"},\"colorscale\":[[0.0,\"#0d0887\"],[0.1111111111111111,\"#46039f\"],[0.2222222222222222,\"#7201a8\"],[0.3333333333333333,\"#9c179e\"],[0.4444444444444444,\"#bd3786\"],[0.5555555555555556,\"#d8576b\"],[0.6666666666666666,\"#ed7953\"],[0.7777777777777778,\"#fb9f3a\"],[0.8888888888888888,\"#fdca26\"],[1.0,\"#f0f921\"]]}],\"heatmap\":[{\"type\":\"heatmap\",\"colorbar\":{\"outlinewidth\":0,\"ticks\":\"\"},\"colorscale\":[[0.0,\"#0d0887\"],[0.1111111111111111,\"#46039f\"],[0.2222222222222222,\"#7201a8\"],[0.3333333333333333,\"#9c179e\"],[0.4444444444444444,\"#bd3786\"],[0.5555555555555556,\"#d8576b\"],[0.6666666666666666,\"#ed7953\"],[0.7777777777777778,\"#fb9f3a\"],[0.8888888888888888,\"#fdca26\"],[1.0,\"#f0f921\"]]}],\"heatmapgl\":[{\"type\":\"heatmapgl\",\"colorbar\":{\"outlinewidth\":0,\"ticks\":\"\"},\"colorscale\":[[0.0,\"#0d0887\"],[0.1111111111111111,\"#46039f\"],[0.2222222222222222,\"#7201a8\"],[0.3333333333333333,\"#9c179e\"],[0.4444444444444444,\"#bd3786\"],[0.5555555555555556,\"#d8576b\"],[0.6666666666666666,\"#ed7953\"],[0.7777777777777778,\"#fb9f3a\"],[0.8888888888888888,\"#fdca26\"],[1.0,\"#f0f921\"]]}],\"contourcarpet\":[{\"type\":\"contourcarpet\",\"colorbar\":{\"outlinewidth\":0,\"ticks\":\"\"}}],\"contour\":[{\"type\":\"contour\",\"colorbar\":{\"outlinewidth\":0,\"ticks\":\"\"},\"colorscale\":[[0.0,\"#0d0887\"],[0.1111111111111111,\"#46039f\"],[0.2222222222222222,\"#7201a8\"],[0.3333333333333333,\"#9c179e\"],[0.4444444444444444,\"#bd3786\"],[0.5555555555555556,\"#d8576b\"],[0.6666666666666666,\"#ed7953\"],[0.7777777777777778,\"#fb9f3a\"],[0.8888888888888888,\"#fdca26\"],[1.0,\"#f0f921\"]]}],\"surface\":[{\"type\":\"surface\",\"colorbar\":{\"outlinewidth\":0,\"ticks\":\"\"},\"colorscale\":[[0.0,\"#0d0887\"],[0.1111111111111111,\"#46039f\"],[0.2222222222222222,\"#7201a8\"],[0.3333333333333333,\"#9c179e\"],[0.4444444444444444,\"#bd3786\"],[0.5555555555555556,\"#d8576b\"],[0.6666666666666666,\"#ed7953\"],[0.7777777777777778,\"#fb9f3a\"],[0.8888888888888888,\"#fdca26\"],[1.0,\"#f0f921\"]]}],\"mesh3d\":[{\"type\":\"mesh3d\",\"colorbar\":{\"outlinewidth\":0,\"ticks\":\"\"}}],\"scatter\":[{\"fillpattern\":{\"fillmode\":\"overlay\",\"size\":10,\"solidity\":0.2},\"type\":\"scatter\"}],\"parcoords\":[{\"type\":\"parcoords\",\"line\":{\"colorbar\":{\"outlinewidth\":0,\"ticks\":\"\"}}}],\"scatterpolargl\":[{\"type\":\"scatterpolargl\",\"marker\":{\"colorbar\":{\"outlinewidth\":0,\"ticks\":\"\"}}}],\"bar\":[{\"error_x\":{\"color\":\"#2a3f5f\"},\"error_y\":{\"color\":\"#2a3f5f\"},\"marker\":{\"line\":{\"color\":\"#E5ECF6\",\"width\":0.5},\"pattern\":{\"fillmode\":\"overlay\",\"size\":10,\"solidity\":0.2}},\"type\":\"bar\"}],\"scattergeo\":[{\"type\":\"scattergeo\",\"marker\":{\"colorbar\":{\"outlinewidth\":0,\"ticks\":\"\"}}}],\"scatterpolar\":[{\"type\":\"scatterpolar\",\"marker\":{\"colorbar\":{\"outlinewidth\":0,\"ticks\":\"\"}}}],\"histogram\":[{\"marker\":{\"pattern\":{\"fillmode\":\"overlay\",\"size\":10,\"solidity\":0.2}},\"type\":\"histogram\"}],\"scattergl\":[{\"type\":\"scattergl\",\"marker\":{\"colorbar\":{\"outlinewidth\":0,\"ticks\":\"\"}}}],\"scatter3d\":[{\"type\":\"scatter3d\",\"line\":{\"colorbar\":{\"outlinewidth\":0,\"ticks\":\"\"}},\"marker\":{\"colorbar\":{\"outlinewidth\":0,\"ticks\":\"\"}}}],\"scattermapbox\":[{\"type\":\"scattermapbox\",\"marker\":{\"colorbar\":{\"outlinewidth\":0,\"ticks\":\"\"}}}],\"scatterternary\":[{\"type\":\"scatterternary\",\"marker\":{\"colorbar\":{\"outlinewidth\":0,\"ticks\":\"\"}}}],\"scattercarpet\":[{\"type\":\"scattercarpet\",\"marker\":{\"colorbar\":{\"outlinewidth\":0,\"ticks\":\"\"}}}],\"carpet\":[{\"aaxis\":{\"endlinecolor\":\"#2a3f5f\",\"gridcolor\":\"white\",\"linecolor\":\"white\",\"minorgridcolor\":\"white\",\"startlinecolor\":\"#2a3f5f\"},\"baxis\":{\"endlinecolor\":\"#2a3f5f\",\"gridcolor\":\"white\",\"linecolor\":\"white\",\"minorgridcolor\":\"white\",\"startlinecolor\":\"#2a3f5f\"},\"type\":\"carpet\"}],\"table\":[{\"cells\":{\"fill\":{\"color\":\"#EBF0F8\"},\"line\":{\"color\":\"white\"}},\"header\":{\"fill\":{\"color\":\"#C8D4E3\"},\"line\":{\"color\":\"white\"}},\"type\":\"table\"}],\"barpolar\":[{\"marker\":{\"line\":{\"color\":\"#E5ECF6\",\"width\":0.5},\"pattern\":{\"fillmode\":\"overlay\",\"size\":10,\"solidity\":0.2}},\"type\":\"barpolar\"}],\"pie\":[{\"automargin\":true,\"type\":\"pie\"}]},\"layout\":{\"autotypenumbers\":\"strict\",\"colorway\":[\"#636efa\",\"#EF553B\",\"#00cc96\",\"#ab63fa\",\"#FFA15A\",\"#19d3f3\",\"#FF6692\",\"#B6E880\",\"#FF97FF\",\"#FECB52\"],\"font\":{\"color\":\"#2a3f5f\"},\"hovermode\":\"closest\",\"hoverlabel\":{\"align\":\"left\"},\"paper_bgcolor\":\"white\",\"plot_bgcolor\":\"#E5ECF6\",\"polar\":{\"bgcolor\":\"#E5ECF6\",\"angularaxis\":{\"gridcolor\":\"white\",\"linecolor\":\"white\",\"ticks\":\"\"},\"radialaxis\":{\"gridcolor\":\"white\",\"linecolor\":\"white\",\"ticks\":\"\"}},\"ternary\":{\"bgcolor\":\"#E5ECF6\",\"aaxis\":{\"gridcolor\":\"white\",\"linecolor\":\"white\",\"ticks\":\"\"},\"baxis\":{\"gridcolor\":\"white\",\"linecolor\":\"white\",\"ticks\":\"\"},\"caxis\":{\"gridcolor\":\"white\",\"linecolor\":\"white\",\"ticks\":\"\"}},\"coloraxis\":{\"colorbar\":{\"outlinewidth\":0,\"ticks\":\"\"}},\"colorscale\":{\"sequential\":[[0.0,\"#0d0887\"],[0.1111111111111111,\"#46039f\"],[0.2222222222222222,\"#7201a8\"],[0.3333333333333333,\"#9c179e\"],[0.4444444444444444,\"#bd3786\"],[0.5555555555555556,\"#d8576b\"],[0.6666666666666666,\"#ed7953\"],[0.7777777777777778,\"#fb9f3a\"],[0.8888888888888888,\"#fdca26\"],[1.0,\"#f0f921\"]],\"sequentialminus\":[[0.0,\"#0d0887\"],[0.1111111111111111,\"#46039f\"],[0.2222222222222222,\"#7201a8\"],[0.3333333333333333,\"#9c179e\"],[0.4444444444444444,\"#bd3786\"],[0.5555555555555556,\"#d8576b\"],[0.6666666666666666,\"#ed7953\"],[0.7777777777777778,\"#fb9f3a\"],[0.8888888888888888,\"#fdca26\"],[1.0,\"#f0f921\"]],\"diverging\":[[0,\"#8e0152\"],[0.1,\"#c51b7d\"],[0.2,\"#de77ae\"],[0.3,\"#f1b6da\"],[0.4,\"#fde0ef\"],[0.5,\"#f7f7f7\"],[0.6,\"#e6f5d0\"],[0.7,\"#b8e186\"],[0.8,\"#7fbc41\"],[0.9,\"#4d9221\"],[1,\"#276419\"]]},\"xaxis\":{\"gridcolor\":\"white\",\"linecolor\":\"white\",\"ticks\":\"\",\"title\":{\"standoff\":15},\"zerolinecolor\":\"white\",\"automargin\":true,\"zerolinewidth\":2},\"yaxis\":{\"gridcolor\":\"white\",\"linecolor\":\"white\",\"ticks\":\"\",\"title\":{\"standoff\":15},\"zerolinecolor\":\"white\",\"automargin\":true,\"zerolinewidth\":2},\"scene\":{\"xaxis\":{\"backgroundcolor\":\"#E5ECF6\",\"gridcolor\":\"white\",\"linecolor\":\"white\",\"showbackground\":true,\"ticks\":\"\",\"zerolinecolor\":\"white\",\"gridwidth\":2},\"yaxis\":{\"backgroundcolor\":\"#E5ECF6\",\"gridcolor\":\"white\",\"linecolor\":\"white\",\"showbackground\":true,\"ticks\":\"\",\"zerolinecolor\":\"white\",\"gridwidth\":2},\"zaxis\":{\"backgroundcolor\":\"#E5ECF6\",\"gridcolor\":\"white\",\"linecolor\":\"white\",\"showbackground\":true,\"ticks\":\"\",\"zerolinecolor\":\"white\",\"gridwidth\":2}},\"shapedefaults\":{\"line\":{\"color\":\"#2a3f5f\"}},\"annotationdefaults\":{\"arrowcolor\":\"#2a3f5f\",\"arrowhead\":0,\"arrowwidth\":1},\"geo\":{\"bgcolor\":\"white\",\"landcolor\":\"#E5ECF6\",\"subunitcolor\":\"white\",\"showland\":true,\"showlakes\":true,\"lakecolor\":\"white\"},\"title\":{\"x\":0.05},\"mapbox\":{\"style\":\"light\"}}},\"xaxis\":{\"anchor\":\"y\",\"domain\":[0.0,1.0],\"scaleanchor\":\"y\",\"constrain\":\"domain\"},\"yaxis\":{\"anchor\":\"x\",\"domain\":[0.0,1.0],\"autorange\":\"reversed\",\"constrain\":\"domain\"},\"coloraxis\":{\"colorscale\":[[0.0,\"#0d0887\"],[0.1111111111111111,\"#46039f\"],[0.2222222222222222,\"#7201a8\"],[0.3333333333333333,\"#9c179e\"],[0.4444444444444444,\"#bd3786\"],[0.5555555555555556,\"#d8576b\"],[0.6666666666666666,\"#ed7953\"],[0.7777777777777778,\"#fb9f3a\"],[0.8888888888888888,\"#fdca26\"],[1.0,\"#f0f921\"]]},\"margin\":{\"t\":60},\"height\":1200,\"width\":1000},                        {\"responsive\": true}                    ).then(function(){\n",
       "                            \n",
       "var gd = document.getElementById('57536736-02a1-42d9-aa3e-efea82b4b54c');\n",
       "var x = new MutationObserver(function (mutations, observer) {{\n",
       "        var display = window.getComputedStyle(gd).display;\n",
       "        if (!display || display === 'none') {{\n",
       "            console.log([gd, 'removed!']);\n",
       "            Plotly.purge(gd);\n",
       "            observer.disconnect();\n",
       "        }}\n",
       "}});\n",
       "\n",
       "// Listen for the removal of the full notebook cells\n",
       "var notebookContainer = gd.closest('#notebook-container');\n",
       "if (notebookContainer) {{\n",
       "    x.observe(notebookContainer, {childList: true});\n",
       "}}\n",
       "\n",
       "// Listen for the clearing of the current output cell\n",
       "var outputEl = gd.closest('.output');\n",
       "if (outputEl) {{\n",
       "    x.observe(outputEl, {childList: true});\n",
       "}}\n",
       "\n",
       "                        })                };                });            </script>        </div>"
      ]
     },
     "metadata": {},
     "output_type": "display_data"
    }
   ],
   "source": [
    "px.imshow(ml.corr(numeric_only=True),text_auto=True , width=1000,height=1200)"
   ]
  },
  {
   "cell_type": "code",
   "execution_count": null,
   "id": "af3cfa21",
   "metadata": {},
   "outputs": [],
   "source": []
  },
  {
   "cell_type": "markdown",
   "id": "1bd47854",
   "metadata": {},
   "source": [
    "# Feature Engineering"
   ]
  },
  {
   "cell_type": "code",
   "execution_count": null,
   "id": "45e8aaad",
   "metadata": {},
   "outputs": [],
   "source": []
  },
  {
   "cell_type": "code",
   "execution_count": 119,
   "id": "c3ee6f31",
   "metadata": {},
   "outputs": [],
   "source": [
    "ml['min_installment'] = ml['LoanAmount']*1000 *(1-.2) / ml['Loan_Amount_Term']  # supposed 20% pre for loan "
   ]
  },
  {
   "cell_type": "code",
   "execution_count": 120,
   "id": "6ff62459",
   "metadata": {},
   "outputs": [],
   "source": [
    "ml['ratio_of_income'] = ml['min_installment'] / ml['ApplicantIncome']*100"
   ]
  },
  {
   "cell_type": "code",
   "execution_count": 121,
   "id": "d49a485a",
   "metadata": {},
   "outputs": [
    {
     "data": {
      "text/plain": [
       "count    578.000000\n",
       "mean      10.120997\n",
       "std       20.051338\n",
       "min        0.670253\n",
       "25%        5.484486\n",
       "50%        7.074611\n",
       "75%       10.023864\n",
       "max      373.931624\n",
       "Name: ratio_of_income, dtype: float64"
      ]
     },
     "execution_count": 121,
     "metadata": {},
     "output_type": "execute_result"
    }
   ],
   "source": [
    "ml['ratio_of_income'].describe()"
   ]
  },
  {
   "cell_type": "code",
   "execution_count": 122,
   "id": "d76f891b",
   "metadata": {},
   "outputs": [],
   "source": [
    "#df['ratio_of_all_incomes'] = df['min_installment'] / (df['ApplicantIncome'] + df['CoapplicantIncome'])*100"
   ]
  },
  {
   "cell_type": "code",
   "execution_count": 123,
   "id": "e14f31d3",
   "metadata": {},
   "outputs": [],
   "source": [
    "#df['diff'] = df['ApplicantIncome'] -  df['min_installment']"
   ]
  },
  {
   "cell_type": "code",
   "execution_count": 124,
   "id": "0bca0537",
   "metadata": {},
   "outputs": [],
   "source": [
    "#the rest of whole incomes after minimum installment\n",
    "#ml['diff_all'] = ml['ApplicantIncome'] + ml['CoapplicantIncome'] -  ml['min_installment']   "
   ]
  },
  {
   "cell_type": "code",
   "execution_count": 125,
   "id": "aaee81bb",
   "metadata": {},
   "outputs": [],
   "source": [
    "#ml['diff_all'].qcut(x, q, labels=None, retbins=False, precision=3, duplicates='raise')"
   ]
  },
  {
   "cell_type": "code",
   "execution_count": null,
   "id": "27f7e243",
   "metadata": {},
   "outputs": [],
   "source": []
  },
  {
   "cell_type": "code",
   "execution_count": 126,
   "id": "5810e353",
   "metadata": {},
   "outputs": [
    {
     "data": {
      "text/plain": [
       "Loan_Status\n",
       "1    0.687296\n",
       "0    0.312704\n",
       "Name: proportion, dtype: float64"
      ]
     },
     "execution_count": 126,
     "metadata": {},
     "output_type": "execute_result"
    }
   ],
   "source": [
    "ml['Loan_Status'].value_counts(normalize=True)"
   ]
  },
  {
   "cell_type": "code",
   "execution_count": null,
   "id": "22de33b4",
   "metadata": {},
   "outputs": [],
   "source": []
  },
  {
   "cell_type": "code",
   "execution_count": 127,
   "id": "670bd889",
   "metadata": {},
   "outputs": [
    {
     "data": {
      "text/html": [
       "<div>\n",
       "<style scoped>\n",
       "    .dataframe tbody tr th:only-of-type {\n",
       "        vertical-align: middle;\n",
       "    }\n",
       "\n",
       "    .dataframe tbody tr th {\n",
       "        vertical-align: top;\n",
       "    }\n",
       "\n",
       "    .dataframe thead th {\n",
       "        text-align: right;\n",
       "    }\n",
       "</style>\n",
       "<table border=\"1\" class=\"dataframe\">\n",
       "  <thead>\n",
       "    <tr style=\"text-align: right;\">\n",
       "      <th></th>\n",
       "      <th>Dependents</th>\n",
       "      <th>ApplicantIncome</th>\n",
       "      <th>CoapplicantIncome</th>\n",
       "      <th>LoanAmount</th>\n",
       "      <th>Loan_Amount_Term</th>\n",
       "      <th>Credit_History</th>\n",
       "      <th>Loan_Status</th>\n",
       "      <th>min_installment</th>\n",
       "      <th>ratio_of_income</th>\n",
       "      <th>diff_all</th>\n",
       "    </tr>\n",
       "  </thead>\n",
       "  <tbody>\n",
       "    <tr>\n",
       "      <th>count</th>\n",
       "      <td>599.000000</td>\n",
       "      <td>614.000000</td>\n",
       "      <td>614.000000</td>\n",
       "      <td>592.000000</td>\n",
       "      <td>600.00000</td>\n",
       "      <td>564.000000</td>\n",
       "      <td>614.000000</td>\n",
       "      <td>578.000000</td>\n",
       "      <td>578.000000</td>\n",
       "      <td>578.000000</td>\n",
       "    </tr>\n",
       "    <tr>\n",
       "      <th>mean</th>\n",
       "      <td>0.762938</td>\n",
       "      <td>5403.459283</td>\n",
       "      <td>1621.245798</td>\n",
       "      <td>146.412162</td>\n",
       "      <td>342.00000</td>\n",
       "      <td>0.842199</td>\n",
       "      <td>0.687296</td>\n",
       "      <td>384.239880</td>\n",
       "      <td>10.120997</td>\n",
       "      <td>6691.381089</td>\n",
       "    </tr>\n",
       "    <tr>\n",
       "      <th>std</th>\n",
       "      <td>1.015216</td>\n",
       "      <td>6109.041673</td>\n",
       "      <td>2926.248369</td>\n",
       "      <td>85.587325</td>\n",
       "      <td>65.12041</td>\n",
       "      <td>0.364878</td>\n",
       "      <td>0.463973</td>\n",
       "      <td>420.366948</td>\n",
       "      <td>20.051338</td>\n",
       "      <td>6455.041863</td>\n",
       "    </tr>\n",
       "    <tr>\n",
       "      <th>min</th>\n",
       "      <td>0.000000</td>\n",
       "      <td>150.000000</td>\n",
       "      <td>0.000000</td>\n",
       "      <td>9.000000</td>\n",
       "      <td>12.00000</td>\n",
       "      <td>0.000000</td>\n",
       "      <td>0.000000</td>\n",
       "      <td>20.000000</td>\n",
       "      <td>0.670253</td>\n",
       "      <td>36.555556</td>\n",
       "    </tr>\n",
       "    <tr>\n",
       "      <th>25%</th>\n",
       "      <td>0.000000</td>\n",
       "      <td>2877.500000</td>\n",
       "      <td>0.000000</td>\n",
       "      <td>100.000000</td>\n",
       "      <td>360.00000</td>\n",
       "      <td>1.000000</td>\n",
       "      <td>0.000000</td>\n",
       "      <td>228.888889</td>\n",
       "      <td>5.484486</td>\n",
       "      <td>3863.527778</td>\n",
       "    </tr>\n",
       "    <tr>\n",
       "      <th>50%</th>\n",
       "      <td>0.000000</td>\n",
       "      <td>3812.500000</td>\n",
       "      <td>1188.500000</td>\n",
       "      <td>128.000000</td>\n",
       "      <td>360.00000</td>\n",
       "      <td>1.000000</td>\n",
       "      <td>1.000000</td>\n",
       "      <td>292.222222</td>\n",
       "      <td>7.074611</td>\n",
       "      <td>5046.388889</td>\n",
       "    </tr>\n",
       "    <tr>\n",
       "      <th>75%</th>\n",
       "      <td>2.000000</td>\n",
       "      <td>5795.000000</td>\n",
       "      <td>2297.250000</td>\n",
       "      <td>168.000000</td>\n",
       "      <td>360.00000</td>\n",
       "      <td>1.000000</td>\n",
       "      <td>1.000000</td>\n",
       "      <td>411.111111</td>\n",
       "      <td>10.023864</td>\n",
       "      <td>7052.222222</td>\n",
       "    </tr>\n",
       "    <tr>\n",
       "      <th>max</th>\n",
       "      <td>3.000000</td>\n",
       "      <td>81000.000000</td>\n",
       "      <td>41667.000000</td>\n",
       "      <td>700.000000</td>\n",
       "      <td>480.00000</td>\n",
       "      <td>1.000000</td>\n",
       "      <td>1.000000</td>\n",
       "      <td>7400.000000</td>\n",
       "      <td>373.931624</td>\n",
       "      <td>80200.000000</td>\n",
       "    </tr>\n",
       "  </tbody>\n",
       "</table>\n",
       "</div>"
      ],
      "text/plain": [
       "       Dependents  ApplicantIncome  CoapplicantIncome  LoanAmount  \\\n",
       "count  599.000000       614.000000         614.000000  592.000000   \n",
       "mean     0.762938      5403.459283        1621.245798  146.412162   \n",
       "std      1.015216      6109.041673        2926.248369   85.587325   \n",
       "min      0.000000       150.000000           0.000000    9.000000   \n",
       "25%      0.000000      2877.500000           0.000000  100.000000   \n",
       "50%      0.000000      3812.500000        1188.500000  128.000000   \n",
       "75%      2.000000      5795.000000        2297.250000  168.000000   \n",
       "max      3.000000     81000.000000       41667.000000  700.000000   \n",
       "\n",
       "       Loan_Amount_Term  Credit_History  Loan_Status  min_installment  \\\n",
       "count         600.00000      564.000000   614.000000       578.000000   \n",
       "mean          342.00000        0.842199     0.687296       384.239880   \n",
       "std            65.12041        0.364878     0.463973       420.366948   \n",
       "min            12.00000        0.000000     0.000000        20.000000   \n",
       "25%           360.00000        1.000000     0.000000       228.888889   \n",
       "50%           360.00000        1.000000     1.000000       292.222222   \n",
       "75%           360.00000        1.000000     1.000000       411.111111   \n",
       "max           480.00000        1.000000     1.000000      7400.000000   \n",
       "\n",
       "       ratio_of_income      diff_all  \n",
       "count       578.000000    578.000000  \n",
       "mean         10.120997   6691.381089  \n",
       "std          20.051338   6455.041863  \n",
       "min           0.670253     36.555556  \n",
       "25%           5.484486   3863.527778  \n",
       "50%           7.074611   5046.388889  \n",
       "75%          10.023864   7052.222222  \n",
       "max         373.931624  80200.000000  "
      ]
     },
     "execution_count": 127,
     "metadata": {},
     "output_type": "execute_result"
    }
   ],
   "source": [
    "ml.describe()"
   ]
  },
  {
   "cell_type": "code",
   "execution_count": 128,
   "id": "1ef686ae",
   "metadata": {},
   "outputs": [
    {
     "data": {
      "text/html": [
       "<div>\n",
       "<style scoped>\n",
       "    .dataframe tbody tr th:only-of-type {\n",
       "        vertical-align: middle;\n",
       "    }\n",
       "\n",
       "    .dataframe tbody tr th {\n",
       "        vertical-align: top;\n",
       "    }\n",
       "\n",
       "    .dataframe thead th {\n",
       "        text-align: right;\n",
       "    }\n",
       "</style>\n",
       "<table border=\"1\" class=\"dataframe\">\n",
       "  <thead>\n",
       "    <tr style=\"text-align: right;\">\n",
       "      <th></th>\n",
       "      <th>Gender</th>\n",
       "      <th>Married</th>\n",
       "      <th>Dependents</th>\n",
       "      <th>Education</th>\n",
       "      <th>Self_Employed</th>\n",
       "      <th>ApplicantIncome</th>\n",
       "      <th>CoapplicantIncome</th>\n",
       "      <th>LoanAmount</th>\n",
       "      <th>Loan_Amount_Term</th>\n",
       "      <th>Credit_History</th>\n",
       "      <th>Property_Area</th>\n",
       "      <th>Loan_Status</th>\n",
       "      <th>min_installment</th>\n",
       "      <th>ratio_of_income</th>\n",
       "      <th>diff_all</th>\n",
       "    </tr>\n",
       "  </thead>\n",
       "  <tbody>\n",
       "    <tr>\n",
       "      <th>216</th>\n",
       "      <td>Male</td>\n",
       "      <td>Yes</td>\n",
       "      <td>0.0</td>\n",
       "      <td>Graduate</td>\n",
       "      <td>No</td>\n",
       "      <td>150</td>\n",
       "      <td>1800.0</td>\n",
       "      <td>135.0</td>\n",
       "      <td>360.0</td>\n",
       "      <td>1.0</td>\n",
       "      <td>Rural</td>\n",
       "      <td>0</td>\n",
       "      <td>300.000000</td>\n",
       "      <td>200.000000</td>\n",
       "      <td>1650.000000</td>\n",
       "    </tr>\n",
       "    <tr>\n",
       "      <th>468</th>\n",
       "      <td>Female</td>\n",
       "      <td>Yes</td>\n",
       "      <td>2.0</td>\n",
       "      <td>Not Graduate</td>\n",
       "      <td>NaN</td>\n",
       "      <td>210</td>\n",
       "      <td>2917.0</td>\n",
       "      <td>98.0</td>\n",
       "      <td>360.0</td>\n",
       "      <td>1.0</td>\n",
       "      <td>Semiurban</td>\n",
       "      <td>1</td>\n",
       "      <td>217.777778</td>\n",
       "      <td>103.703704</td>\n",
       "      <td>2909.222222</td>\n",
       "    </tr>\n",
       "    <tr>\n",
       "      <th>497</th>\n",
       "      <td>Male</td>\n",
       "      <td>Yes</td>\n",
       "      <td>0.0</td>\n",
       "      <td>Graduate</td>\n",
       "      <td>No</td>\n",
       "      <td>4625</td>\n",
       "      <td>2857.0</td>\n",
       "      <td>111.0</td>\n",
       "      <td>12.0</td>\n",
       "      <td>NaN</td>\n",
       "      <td>Urban</td>\n",
       "      <td>1</td>\n",
       "      <td>7400.000000</td>\n",
       "      <td>160.000000</td>\n",
       "      <td>82.000000</td>\n",
       "    </tr>\n",
       "    <tr>\n",
       "      <th>600</th>\n",
       "      <td>Female</td>\n",
       "      <td>No</td>\n",
       "      <td>3.0</td>\n",
       "      <td>Graduate</td>\n",
       "      <td>NaN</td>\n",
       "      <td>416</td>\n",
       "      <td>41667.0</td>\n",
       "      <td>350.0</td>\n",
       "      <td>180.0</td>\n",
       "      <td>NaN</td>\n",
       "      <td>Urban</td>\n",
       "      <td>0</td>\n",
       "      <td>1555.555556</td>\n",
       "      <td>373.931624</td>\n",
       "      <td>40527.444444</td>\n",
       "    </tr>\n",
       "  </tbody>\n",
       "</table>\n",
       "</div>"
      ],
      "text/plain": [
       "     Gender Married  Dependents     Education Self_Employed  ApplicantIncome  \\\n",
       "216    Male     Yes         0.0      Graduate            No              150   \n",
       "468  Female     Yes         2.0  Not Graduate           NaN              210   \n",
       "497    Male     Yes         0.0      Graduate            No             4625   \n",
       "600  Female      No         3.0      Graduate           NaN              416   \n",
       "\n",
       "     CoapplicantIncome  LoanAmount  Loan_Amount_Term  Credit_History  \\\n",
       "216             1800.0       135.0             360.0             1.0   \n",
       "468             2917.0        98.0             360.0             1.0   \n",
       "497             2857.0       111.0              12.0             NaN   \n",
       "600            41667.0       350.0             180.0             NaN   \n",
       "\n",
       "    Property_Area  Loan_Status  min_installment  ratio_of_income      diff_all  \n",
       "216         Rural            0       300.000000       200.000000   1650.000000  \n",
       "468     Semiurban            1       217.777778       103.703704   2909.222222  \n",
       "497         Urban            1      7400.000000       160.000000     82.000000  \n",
       "600         Urban            0      1555.555556       373.931624  40527.444444  "
      ]
     },
     "execution_count": 128,
     "metadata": {},
     "output_type": "execute_result"
    }
   ],
   "source": [
    "ml[ml['ratio_of_income']>=100]"
   ]
  },
  {
   "cell_type": "code",
   "execution_count": 129,
   "id": "a9ea66a2",
   "metadata": {},
   "outputs": [
    {
     "data": {
      "text/html": [
       "<div>\n",
       "<style scoped>\n",
       "    .dataframe tbody tr th:only-of-type {\n",
       "        vertical-align: middle;\n",
       "    }\n",
       "\n",
       "    .dataframe tbody tr th {\n",
       "        vertical-align: top;\n",
       "    }\n",
       "\n",
       "    .dataframe thead th {\n",
       "        text-align: right;\n",
       "    }\n",
       "</style>\n",
       "<table border=\"1\" class=\"dataframe\">\n",
       "  <thead>\n",
       "    <tr style=\"text-align: right;\">\n",
       "      <th></th>\n",
       "      <th>Gender</th>\n",
       "      <th>Married</th>\n",
       "      <th>Dependents</th>\n",
       "      <th>Education</th>\n",
       "      <th>Self_Employed</th>\n",
       "      <th>ApplicantIncome</th>\n",
       "      <th>CoapplicantIncome</th>\n",
       "      <th>LoanAmount</th>\n",
       "      <th>Loan_Amount_Term</th>\n",
       "      <th>Credit_History</th>\n",
       "      <th>Property_Area</th>\n",
       "      <th>Loan_Status</th>\n",
       "      <th>min_installment</th>\n",
       "      <th>ratio_of_income</th>\n",
       "      <th>diff_all</th>\n",
       "    </tr>\n",
       "  </thead>\n",
       "  <tbody>\n",
       "    <tr>\n",
       "      <th>188</th>\n",
       "      <td>NaN</td>\n",
       "      <td>Yes</td>\n",
       "      <td>0.0</td>\n",
       "      <td>Graduate</td>\n",
       "      <td>Yes</td>\n",
       "      <td>674</td>\n",
       "      <td>5296.0</td>\n",
       "      <td>168.0</td>\n",
       "      <td>360.0</td>\n",
       "      <td>1.0</td>\n",
       "      <td>Rural</td>\n",
       "      <td>1</td>\n",
       "      <td>373.333333</td>\n",
       "      <td>55.390702</td>\n",
       "      <td>5596.666667</td>\n",
       "    </tr>\n",
       "    <tr>\n",
       "      <th>216</th>\n",
       "      <td>Male</td>\n",
       "      <td>Yes</td>\n",
       "      <td>0.0</td>\n",
       "      <td>Graduate</td>\n",
       "      <td>No</td>\n",
       "      <td>150</td>\n",
       "      <td>1800.0</td>\n",
       "      <td>135.0</td>\n",
       "      <td>360.0</td>\n",
       "      <td>1.0</td>\n",
       "      <td>Rural</td>\n",
       "      <td>0</td>\n",
       "      <td>300.000000</td>\n",
       "      <td>200.000000</td>\n",
       "      <td>1650.000000</td>\n",
       "    </tr>\n",
       "    <tr>\n",
       "      <th>242</th>\n",
       "      <td>Male</td>\n",
       "      <td>No</td>\n",
       "      <td>0.0</td>\n",
       "      <td>Graduate</td>\n",
       "      <td>No</td>\n",
       "      <td>2965</td>\n",
       "      <td>5701.0</td>\n",
       "      <td>155.0</td>\n",
       "      <td>60.0</td>\n",
       "      <td>1.0</td>\n",
       "      <td>Urban</td>\n",
       "      <td>1</td>\n",
       "      <td>2066.666667</td>\n",
       "      <td>69.702080</td>\n",
       "      <td>6599.333333</td>\n",
       "    </tr>\n",
       "    <tr>\n",
       "      <th>262</th>\n",
       "      <td>Female</td>\n",
       "      <td>No</td>\n",
       "      <td>1.0</td>\n",
       "      <td>Graduate</td>\n",
       "      <td>No</td>\n",
       "      <td>3481</td>\n",
       "      <td>0.0</td>\n",
       "      <td>155.0</td>\n",
       "      <td>36.0</td>\n",
       "      <td>1.0</td>\n",
       "      <td>Semiurban</td>\n",
       "      <td>0</td>\n",
       "      <td>3444.444444</td>\n",
       "      <td>98.949855</td>\n",
       "      <td>36.555556</td>\n",
       "    </tr>\n",
       "    <tr>\n",
       "      <th>468</th>\n",
       "      <td>Female</td>\n",
       "      <td>Yes</td>\n",
       "      <td>2.0</td>\n",
       "      <td>Not Graduate</td>\n",
       "      <td>NaN</td>\n",
       "      <td>210</td>\n",
       "      <td>2917.0</td>\n",
       "      <td>98.0</td>\n",
       "      <td>360.0</td>\n",
       "      <td>1.0</td>\n",
       "      <td>Semiurban</td>\n",
       "      <td>1</td>\n",
       "      <td>217.777778</td>\n",
       "      <td>103.703704</td>\n",
       "      <td>2909.222222</td>\n",
       "    </tr>\n",
       "    <tr>\n",
       "      <th>497</th>\n",
       "      <td>Male</td>\n",
       "      <td>Yes</td>\n",
       "      <td>0.0</td>\n",
       "      <td>Graduate</td>\n",
       "      <td>No</td>\n",
       "      <td>4625</td>\n",
       "      <td>2857.0</td>\n",
       "      <td>111.0</td>\n",
       "      <td>12.0</td>\n",
       "      <td>NaN</td>\n",
       "      <td>Urban</td>\n",
       "      <td>1</td>\n",
       "      <td>7400.000000</td>\n",
       "      <td>160.000000</td>\n",
       "      <td>82.000000</td>\n",
       "    </tr>\n",
       "    <tr>\n",
       "      <th>546</th>\n",
       "      <td>Male</td>\n",
       "      <td>No</td>\n",
       "      <td>0.0</td>\n",
       "      <td>Not Graduate</td>\n",
       "      <td>No</td>\n",
       "      <td>3358</td>\n",
       "      <td>0.0</td>\n",
       "      <td>80.0</td>\n",
       "      <td>36.0</td>\n",
       "      <td>1.0</td>\n",
       "      <td>Semiurban</td>\n",
       "      <td>0</td>\n",
       "      <td>1777.777778</td>\n",
       "      <td>52.941566</td>\n",
       "      <td>1580.222222</td>\n",
       "    </tr>\n",
       "    <tr>\n",
       "      <th>600</th>\n",
       "      <td>Female</td>\n",
       "      <td>No</td>\n",
       "      <td>3.0</td>\n",
       "      <td>Graduate</td>\n",
       "      <td>NaN</td>\n",
       "      <td>416</td>\n",
       "      <td>41667.0</td>\n",
       "      <td>350.0</td>\n",
       "      <td>180.0</td>\n",
       "      <td>NaN</td>\n",
       "      <td>Urban</td>\n",
       "      <td>0</td>\n",
       "      <td>1555.555556</td>\n",
       "      <td>373.931624</td>\n",
       "      <td>40527.444444</td>\n",
       "    </tr>\n",
       "  </tbody>\n",
       "</table>\n",
       "</div>"
      ],
      "text/plain": [
       "     Gender Married  Dependents     Education Self_Employed  ApplicantIncome  \\\n",
       "188     NaN     Yes         0.0      Graduate           Yes              674   \n",
       "216    Male     Yes         0.0      Graduate            No              150   \n",
       "242    Male      No         0.0      Graduate            No             2965   \n",
       "262  Female      No         1.0      Graduate            No             3481   \n",
       "468  Female     Yes         2.0  Not Graduate           NaN              210   \n",
       "497    Male     Yes         0.0      Graduate            No             4625   \n",
       "546    Male      No         0.0  Not Graduate            No             3358   \n",
       "600  Female      No         3.0      Graduate           NaN              416   \n",
       "\n",
       "     CoapplicantIncome  LoanAmount  Loan_Amount_Term  Credit_History  \\\n",
       "188             5296.0       168.0             360.0             1.0   \n",
       "216             1800.0       135.0             360.0             1.0   \n",
       "242             5701.0       155.0              60.0             1.0   \n",
       "262                0.0       155.0              36.0             1.0   \n",
       "468             2917.0        98.0             360.0             1.0   \n",
       "497             2857.0       111.0              12.0             NaN   \n",
       "546                0.0        80.0              36.0             1.0   \n",
       "600            41667.0       350.0             180.0             NaN   \n",
       "\n",
       "    Property_Area  Loan_Status  min_installment  ratio_of_income      diff_all  \n",
       "188         Rural            1       373.333333        55.390702   5596.666667  \n",
       "216         Rural            0       300.000000       200.000000   1650.000000  \n",
       "242         Urban            1      2066.666667        69.702080   6599.333333  \n",
       "262     Semiurban            0      3444.444444        98.949855     36.555556  \n",
       "468     Semiurban            1       217.777778       103.703704   2909.222222  \n",
       "497         Urban            1      7400.000000       160.000000     82.000000  \n",
       "546     Semiurban            0      1777.777778        52.941566   1580.222222  \n",
       "600         Urban            0      1555.555556       373.931624  40527.444444  "
      ]
     },
     "execution_count": 129,
     "metadata": {},
     "output_type": "execute_result"
    }
   ],
   "source": [
    "ml[ml['ratio_of_income']>=50]"
   ]
  },
  {
   "cell_type": "code",
   "execution_count": 130,
   "id": "65c51f9b",
   "metadata": {},
   "outputs": [
    {
     "data": {
      "text/html": [
       "<div>\n",
       "<style scoped>\n",
       "    .dataframe tbody tr th:only-of-type {\n",
       "        vertical-align: middle;\n",
       "    }\n",
       "\n",
       "    .dataframe tbody tr th {\n",
       "        vertical-align: top;\n",
       "    }\n",
       "\n",
       "    .dataframe thead th {\n",
       "        text-align: right;\n",
       "    }\n",
       "</style>\n",
       "<table border=\"1\" class=\"dataframe\">\n",
       "  <thead>\n",
       "    <tr style=\"text-align: right;\">\n",
       "      <th></th>\n",
       "      <th>Dependents</th>\n",
       "      <th>ApplicantIncome</th>\n",
       "      <th>CoapplicantIncome</th>\n",
       "      <th>LoanAmount</th>\n",
       "      <th>Loan_Amount_Term</th>\n",
       "      <th>Credit_History</th>\n",
       "      <th>Loan_Status</th>\n",
       "      <th>min_installment</th>\n",
       "      <th>ratio_of_income</th>\n",
       "      <th>diff_all</th>\n",
       "    </tr>\n",
       "  </thead>\n",
       "  <tbody>\n",
       "    <tr>\n",
       "      <th>count</th>\n",
       "      <td>599.000000</td>\n",
       "      <td>614.000000</td>\n",
       "      <td>614.000000</td>\n",
       "      <td>592.000000</td>\n",
       "      <td>600.00000</td>\n",
       "      <td>564.000000</td>\n",
       "      <td>614.000000</td>\n",
       "      <td>578.000000</td>\n",
       "      <td>578.000000</td>\n",
       "      <td>578.000000</td>\n",
       "    </tr>\n",
       "    <tr>\n",
       "      <th>mean</th>\n",
       "      <td>0.762938</td>\n",
       "      <td>5403.459283</td>\n",
       "      <td>1621.245798</td>\n",
       "      <td>146.412162</td>\n",
       "      <td>342.00000</td>\n",
       "      <td>0.842199</td>\n",
       "      <td>0.687296</td>\n",
       "      <td>384.239880</td>\n",
       "      <td>10.120997</td>\n",
       "      <td>6691.381089</td>\n",
       "    </tr>\n",
       "    <tr>\n",
       "      <th>std</th>\n",
       "      <td>1.015216</td>\n",
       "      <td>6109.041673</td>\n",
       "      <td>2926.248369</td>\n",
       "      <td>85.587325</td>\n",
       "      <td>65.12041</td>\n",
       "      <td>0.364878</td>\n",
       "      <td>0.463973</td>\n",
       "      <td>420.366948</td>\n",
       "      <td>20.051338</td>\n",
       "      <td>6455.041863</td>\n",
       "    </tr>\n",
       "    <tr>\n",
       "      <th>min</th>\n",
       "      <td>0.000000</td>\n",
       "      <td>150.000000</td>\n",
       "      <td>0.000000</td>\n",
       "      <td>9.000000</td>\n",
       "      <td>12.00000</td>\n",
       "      <td>0.000000</td>\n",
       "      <td>0.000000</td>\n",
       "      <td>20.000000</td>\n",
       "      <td>0.670253</td>\n",
       "      <td>36.555556</td>\n",
       "    </tr>\n",
       "    <tr>\n",
       "      <th>25%</th>\n",
       "      <td>0.000000</td>\n",
       "      <td>2877.500000</td>\n",
       "      <td>0.000000</td>\n",
       "      <td>100.000000</td>\n",
       "      <td>360.00000</td>\n",
       "      <td>1.000000</td>\n",
       "      <td>0.000000</td>\n",
       "      <td>228.888889</td>\n",
       "      <td>5.484486</td>\n",
       "      <td>3863.527778</td>\n",
       "    </tr>\n",
       "    <tr>\n",
       "      <th>50%</th>\n",
       "      <td>0.000000</td>\n",
       "      <td>3812.500000</td>\n",
       "      <td>1188.500000</td>\n",
       "      <td>128.000000</td>\n",
       "      <td>360.00000</td>\n",
       "      <td>1.000000</td>\n",
       "      <td>1.000000</td>\n",
       "      <td>292.222222</td>\n",
       "      <td>7.074611</td>\n",
       "      <td>5046.388889</td>\n",
       "    </tr>\n",
       "    <tr>\n",
       "      <th>75%</th>\n",
       "      <td>2.000000</td>\n",
       "      <td>5795.000000</td>\n",
       "      <td>2297.250000</td>\n",
       "      <td>168.000000</td>\n",
       "      <td>360.00000</td>\n",
       "      <td>1.000000</td>\n",
       "      <td>1.000000</td>\n",
       "      <td>411.111111</td>\n",
       "      <td>10.023864</td>\n",
       "      <td>7052.222222</td>\n",
       "    </tr>\n",
       "    <tr>\n",
       "      <th>max</th>\n",
       "      <td>3.000000</td>\n",
       "      <td>81000.000000</td>\n",
       "      <td>41667.000000</td>\n",
       "      <td>700.000000</td>\n",
       "      <td>480.00000</td>\n",
       "      <td>1.000000</td>\n",
       "      <td>1.000000</td>\n",
       "      <td>7400.000000</td>\n",
       "      <td>373.931624</td>\n",
       "      <td>80200.000000</td>\n",
       "    </tr>\n",
       "  </tbody>\n",
       "</table>\n",
       "</div>"
      ],
      "text/plain": [
       "       Dependents  ApplicantIncome  CoapplicantIncome  LoanAmount  \\\n",
       "count  599.000000       614.000000         614.000000  592.000000   \n",
       "mean     0.762938      5403.459283        1621.245798  146.412162   \n",
       "std      1.015216      6109.041673        2926.248369   85.587325   \n",
       "min      0.000000       150.000000           0.000000    9.000000   \n",
       "25%      0.000000      2877.500000           0.000000  100.000000   \n",
       "50%      0.000000      3812.500000        1188.500000  128.000000   \n",
       "75%      2.000000      5795.000000        2297.250000  168.000000   \n",
       "max      3.000000     81000.000000       41667.000000  700.000000   \n",
       "\n",
       "       Loan_Amount_Term  Credit_History  Loan_Status  min_installment  \\\n",
       "count         600.00000      564.000000   614.000000       578.000000   \n",
       "mean          342.00000        0.842199     0.687296       384.239880   \n",
       "std            65.12041        0.364878     0.463973       420.366948   \n",
       "min            12.00000        0.000000     0.000000        20.000000   \n",
       "25%           360.00000        1.000000     0.000000       228.888889   \n",
       "50%           360.00000        1.000000     1.000000       292.222222   \n",
       "75%           360.00000        1.000000     1.000000       411.111111   \n",
       "max           480.00000        1.000000     1.000000      7400.000000   \n",
       "\n",
       "       ratio_of_income      diff_all  \n",
       "count       578.000000    578.000000  \n",
       "mean         10.120997   6691.381089  \n",
       "std          20.051338   6455.041863  \n",
       "min           0.670253     36.555556  \n",
       "25%           5.484486   3863.527778  \n",
       "50%           7.074611   5046.388889  \n",
       "75%          10.023864   7052.222222  \n",
       "max         373.931624  80200.000000  "
      ]
     },
     "execution_count": 130,
     "metadata": {},
     "output_type": "execute_result"
    }
   ],
   "source": [
    "ml.describe()"
   ]
  },
  {
   "cell_type": "code",
   "execution_count": 131,
   "id": "077cde46",
   "metadata": {},
   "outputs": [],
   "source": [
    "#ml[ml['diff']>7000]"
   ]
  },
  {
   "cell_type": "code",
   "execution_count": 132,
   "id": "27b37a1a",
   "metadata": {},
   "outputs": [],
   "source": [
    "#ml[ml['diff']<500]"
   ]
  },
  {
   "cell_type": "code",
   "execution_count": 133,
   "id": "292f860c",
   "metadata": {},
   "outputs": [
    {
     "data": {
      "text/html": [
       "<div>\n",
       "<style scoped>\n",
       "    .dataframe tbody tr th:only-of-type {\n",
       "        vertical-align: middle;\n",
       "    }\n",
       "\n",
       "    .dataframe tbody tr th {\n",
       "        vertical-align: top;\n",
       "    }\n",
       "\n",
       "    .dataframe thead th {\n",
       "        text-align: right;\n",
       "    }\n",
       "</style>\n",
       "<table border=\"1\" class=\"dataframe\">\n",
       "  <thead>\n",
       "    <tr style=\"text-align: right;\">\n",
       "      <th></th>\n",
       "      <th>Gender</th>\n",
       "      <th>Married</th>\n",
       "      <th>Dependents</th>\n",
       "      <th>Education</th>\n",
       "      <th>Self_Employed</th>\n",
       "      <th>ApplicantIncome</th>\n",
       "      <th>CoapplicantIncome</th>\n",
       "      <th>LoanAmount</th>\n",
       "      <th>Loan_Amount_Term</th>\n",
       "      <th>Credit_History</th>\n",
       "      <th>Property_Area</th>\n",
       "      <th>Loan_Status</th>\n",
       "      <th>min_installment</th>\n",
       "      <th>ratio_of_income</th>\n",
       "      <th>diff_all</th>\n",
       "    </tr>\n",
       "  </thead>\n",
       "  <tbody>\n",
       "    <tr>\n",
       "      <th>216</th>\n",
       "      <td>Male</td>\n",
       "      <td>Yes</td>\n",
       "      <td>0.0</td>\n",
       "      <td>Graduate</td>\n",
       "      <td>No</td>\n",
       "      <td>150</td>\n",
       "      <td>1800.0</td>\n",
       "      <td>135.0</td>\n",
       "      <td>360.0</td>\n",
       "      <td>1.0</td>\n",
       "      <td>Rural</td>\n",
       "      <td>0</td>\n",
       "      <td>300.000000</td>\n",
       "      <td>200.000000</td>\n",
       "      <td>1650.000000</td>\n",
       "    </tr>\n",
       "    <tr>\n",
       "      <th>468</th>\n",
       "      <td>Female</td>\n",
       "      <td>Yes</td>\n",
       "      <td>2.0</td>\n",
       "      <td>Not Graduate</td>\n",
       "      <td>NaN</td>\n",
       "      <td>210</td>\n",
       "      <td>2917.0</td>\n",
       "      <td>98.0</td>\n",
       "      <td>360.0</td>\n",
       "      <td>1.0</td>\n",
       "      <td>Semiurban</td>\n",
       "      <td>1</td>\n",
       "      <td>217.777778</td>\n",
       "      <td>103.703704</td>\n",
       "      <td>2909.222222</td>\n",
       "    </tr>\n",
       "    <tr>\n",
       "      <th>600</th>\n",
       "      <td>Female</td>\n",
       "      <td>No</td>\n",
       "      <td>3.0</td>\n",
       "      <td>Graduate</td>\n",
       "      <td>NaN</td>\n",
       "      <td>416</td>\n",
       "      <td>41667.0</td>\n",
       "      <td>350.0</td>\n",
       "      <td>180.0</td>\n",
       "      <td>NaN</td>\n",
       "      <td>Urban</td>\n",
       "      <td>0</td>\n",
       "      <td>1555.555556</td>\n",
       "      <td>373.931624</td>\n",
       "      <td>40527.444444</td>\n",
       "    </tr>\n",
       "  </tbody>\n",
       "</table>\n",
       "</div>"
      ],
      "text/plain": [
       "     Gender Married  Dependents     Education Self_Employed  ApplicantIncome  \\\n",
       "216    Male     Yes         0.0      Graduate            No              150   \n",
       "468  Female     Yes         2.0  Not Graduate           NaN              210   \n",
       "600  Female      No         3.0      Graduate           NaN              416   \n",
       "\n",
       "     CoapplicantIncome  LoanAmount  Loan_Amount_Term  Credit_History  \\\n",
       "216             1800.0       135.0             360.0             1.0   \n",
       "468             2917.0        98.0             360.0             1.0   \n",
       "600            41667.0       350.0             180.0             NaN   \n",
       "\n",
       "    Property_Area  Loan_Status  min_installment  ratio_of_income      diff_all  \n",
       "216         Rural            0       300.000000       200.000000   1650.000000  \n",
       "468     Semiurban            1       217.777778       103.703704   2909.222222  \n",
       "600         Urban            0      1555.555556       373.931624  40527.444444  "
      ]
     },
     "execution_count": 133,
     "metadata": {},
     "output_type": "execute_result"
    }
   ],
   "source": [
    "ml[ml['ApplicantIncome']<500]"
   ]
  },
  {
   "cell_type": "code",
   "execution_count": 134,
   "id": "fcada012",
   "metadata": {},
   "outputs": [
    {
     "data": {
      "text/html": [
       "<div>\n",
       "<style scoped>\n",
       "    .dataframe tbody tr th:only-of-type {\n",
       "        vertical-align: middle;\n",
       "    }\n",
       "\n",
       "    .dataframe tbody tr th {\n",
       "        vertical-align: top;\n",
       "    }\n",
       "\n",
       "    .dataframe thead th {\n",
       "        text-align: right;\n",
       "    }\n",
       "</style>\n",
       "<table border=\"1\" class=\"dataframe\">\n",
       "  <thead>\n",
       "    <tr style=\"text-align: right;\">\n",
       "      <th></th>\n",
       "      <th>Gender</th>\n",
       "      <th>Married</th>\n",
       "      <th>Dependents</th>\n",
       "      <th>Education</th>\n",
       "      <th>Self_Employed</th>\n",
       "      <th>ApplicantIncome</th>\n",
       "      <th>CoapplicantIncome</th>\n",
       "      <th>LoanAmount</th>\n",
       "      <th>Loan_Amount_Term</th>\n",
       "      <th>Credit_History</th>\n",
       "      <th>Property_Area</th>\n",
       "      <th>Loan_Status</th>\n",
       "      <th>min_installment</th>\n",
       "      <th>ratio_of_income</th>\n",
       "      <th>diff_all</th>\n",
       "    </tr>\n",
       "  </thead>\n",
       "  <tbody>\n",
       "    <tr>\n",
       "      <th>155</th>\n",
       "      <td>Male</td>\n",
       "      <td>Yes</td>\n",
       "      <td>3.0</td>\n",
       "      <td>Graduate</td>\n",
       "      <td>No</td>\n",
       "      <td>39999</td>\n",
       "      <td>0.0</td>\n",
       "      <td>600.0</td>\n",
       "      <td>180.0</td>\n",
       "      <td>0.0</td>\n",
       "      <td>Semiurban</td>\n",
       "      <td>1</td>\n",
       "      <td>2666.666667</td>\n",
       "      <td>6.666833</td>\n",
       "      <td>37332.333333</td>\n",
       "    </tr>\n",
       "    <tr>\n",
       "      <th>242</th>\n",
       "      <td>Male</td>\n",
       "      <td>No</td>\n",
       "      <td>0.0</td>\n",
       "      <td>Graduate</td>\n",
       "      <td>No</td>\n",
       "      <td>2965</td>\n",
       "      <td>5701.0</td>\n",
       "      <td>155.0</td>\n",
       "      <td>60.0</td>\n",
       "      <td>1.0</td>\n",
       "      <td>Urban</td>\n",
       "      <td>1</td>\n",
       "      <td>2066.666667</td>\n",
       "      <td>69.702080</td>\n",
       "      <td>6599.333333</td>\n",
       "    </tr>\n",
       "    <tr>\n",
       "      <th>262</th>\n",
       "      <td>Female</td>\n",
       "      <td>No</td>\n",
       "      <td>1.0</td>\n",
       "      <td>Graduate</td>\n",
       "      <td>No</td>\n",
       "      <td>3481</td>\n",
       "      <td>0.0</td>\n",
       "      <td>155.0</td>\n",
       "      <td>36.0</td>\n",
       "      <td>1.0</td>\n",
       "      <td>Semiurban</td>\n",
       "      <td>0</td>\n",
       "      <td>3444.444444</td>\n",
       "      <td>98.949855</td>\n",
       "      <td>36.555556</td>\n",
       "    </tr>\n",
       "    <tr>\n",
       "      <th>333</th>\n",
       "      <td>Male</td>\n",
       "      <td>Yes</td>\n",
       "      <td>0.0</td>\n",
       "      <td>Graduate</td>\n",
       "      <td>NaN</td>\n",
       "      <td>63337</td>\n",
       "      <td>0.0</td>\n",
       "      <td>490.0</td>\n",
       "      <td>180.0</td>\n",
       "      <td>1.0</td>\n",
       "      <td>Urban</td>\n",
       "      <td>1</td>\n",
       "      <td>2177.777778</td>\n",
       "      <td>3.438397</td>\n",
       "      <td>61159.222222</td>\n",
       "    </tr>\n",
       "    <tr>\n",
       "      <th>497</th>\n",
       "      <td>Male</td>\n",
       "      <td>Yes</td>\n",
       "      <td>0.0</td>\n",
       "      <td>Graduate</td>\n",
       "      <td>No</td>\n",
       "      <td>4625</td>\n",
       "      <td>2857.0</td>\n",
       "      <td>111.0</td>\n",
       "      <td>12.0</td>\n",
       "      <td>NaN</td>\n",
       "      <td>Urban</td>\n",
       "      <td>1</td>\n",
       "      <td>7400.000000</td>\n",
       "      <td>160.000000</td>\n",
       "      <td>82.000000</td>\n",
       "    </tr>\n",
       "  </tbody>\n",
       "</table>\n",
       "</div>"
      ],
      "text/plain": [
       "     Gender Married  Dependents Education Self_Employed  ApplicantIncome  \\\n",
       "155    Male     Yes         3.0  Graduate            No            39999   \n",
       "242    Male      No         0.0  Graduate            No             2965   \n",
       "262  Female      No         1.0  Graduate            No             3481   \n",
       "333    Male     Yes         0.0  Graduate           NaN            63337   \n",
       "497    Male     Yes         0.0  Graduate            No             4625   \n",
       "\n",
       "     CoapplicantIncome  LoanAmount  Loan_Amount_Term  Credit_History  \\\n",
       "155                0.0       600.0             180.0             0.0   \n",
       "242             5701.0       155.0              60.0             1.0   \n",
       "262                0.0       155.0              36.0             1.0   \n",
       "333                0.0       490.0             180.0             1.0   \n",
       "497             2857.0       111.0              12.0             NaN   \n",
       "\n",
       "    Property_Area  Loan_Status  min_installment  ratio_of_income      diff_all  \n",
       "155     Semiurban            1      2666.666667         6.666833  37332.333333  \n",
       "242         Urban            1      2066.666667        69.702080   6599.333333  \n",
       "262     Semiurban            0      3444.444444        98.949855     36.555556  \n",
       "333         Urban            1      2177.777778         3.438397  61159.222222  \n",
       "497         Urban            1      7400.000000       160.000000     82.000000  "
      ]
     },
     "execution_count": 134,
     "metadata": {},
     "output_type": "execute_result"
    }
   ],
   "source": [
    "ml[ml['min_installment']>2000]"
   ]
  },
  {
   "cell_type": "code",
   "execution_count": 135,
   "id": "9e953356",
   "metadata": {},
   "outputs": [
    {
     "data": {
      "text/html": [
       "<div>\n",
       "<style scoped>\n",
       "    .dataframe tbody tr th:only-of-type {\n",
       "        vertical-align: middle;\n",
       "    }\n",
       "\n",
       "    .dataframe tbody tr th {\n",
       "        vertical-align: top;\n",
       "    }\n",
       "\n",
       "    .dataframe thead th {\n",
       "        text-align: right;\n",
       "    }\n",
       "</style>\n",
       "<table border=\"1\" class=\"dataframe\">\n",
       "  <thead>\n",
       "    <tr style=\"text-align: right;\">\n",
       "      <th></th>\n",
       "      <th>Gender</th>\n",
       "      <th>Married</th>\n",
       "      <th>Dependents</th>\n",
       "      <th>Education</th>\n",
       "      <th>Self_Employed</th>\n",
       "      <th>ApplicantIncome</th>\n",
       "      <th>CoapplicantIncome</th>\n",
       "      <th>LoanAmount</th>\n",
       "      <th>Loan_Amount_Term</th>\n",
       "      <th>Credit_History</th>\n",
       "      <th>Property_Area</th>\n",
       "      <th>Loan_Status</th>\n",
       "      <th>min_installment</th>\n",
       "      <th>ratio_of_income</th>\n",
       "      <th>diff_all</th>\n",
       "    </tr>\n",
       "  </thead>\n",
       "  <tbody>\n",
       "    <tr>\n",
       "      <th>262</th>\n",
       "      <td>Female</td>\n",
       "      <td>No</td>\n",
       "      <td>1.0</td>\n",
       "      <td>Graduate</td>\n",
       "      <td>No</td>\n",
       "      <td>3481</td>\n",
       "      <td>0.0</td>\n",
       "      <td>155.0</td>\n",
       "      <td>36.0</td>\n",
       "      <td>1.0</td>\n",
       "      <td>Semiurban</td>\n",
       "      <td>0</td>\n",
       "      <td>3444.444444</td>\n",
       "      <td>98.949855</td>\n",
       "      <td>36.555556</td>\n",
       "    </tr>\n",
       "    <tr>\n",
       "      <th>497</th>\n",
       "      <td>Male</td>\n",
       "      <td>Yes</td>\n",
       "      <td>0.0</td>\n",
       "      <td>Graduate</td>\n",
       "      <td>No</td>\n",
       "      <td>4625</td>\n",
       "      <td>2857.0</td>\n",
       "      <td>111.0</td>\n",
       "      <td>12.0</td>\n",
       "      <td>NaN</td>\n",
       "      <td>Urban</td>\n",
       "      <td>1</td>\n",
       "      <td>7400.000000</td>\n",
       "      <td>160.000000</td>\n",
       "      <td>82.000000</td>\n",
       "    </tr>\n",
       "    <tr>\n",
       "      <th>546</th>\n",
       "      <td>Male</td>\n",
       "      <td>No</td>\n",
       "      <td>0.0</td>\n",
       "      <td>Not Graduate</td>\n",
       "      <td>No</td>\n",
       "      <td>3358</td>\n",
       "      <td>0.0</td>\n",
       "      <td>80.0</td>\n",
       "      <td>36.0</td>\n",
       "      <td>1.0</td>\n",
       "      <td>Semiurban</td>\n",
       "      <td>0</td>\n",
       "      <td>1777.777778</td>\n",
       "      <td>52.941566</td>\n",
       "      <td>1580.222222</td>\n",
       "    </tr>\n",
       "  </tbody>\n",
       "</table>\n",
       "</div>"
      ],
      "text/plain": [
       "     Gender Married  Dependents     Education Self_Employed  ApplicantIncome  \\\n",
       "262  Female      No         1.0      Graduate            No             3481   \n",
       "497    Male     Yes         0.0      Graduate            No             4625   \n",
       "546    Male      No         0.0  Not Graduate            No             3358   \n",
       "\n",
       "     CoapplicantIncome  LoanAmount  Loan_Amount_Term  Credit_History  \\\n",
       "262                0.0       155.0              36.0             1.0   \n",
       "497             2857.0       111.0              12.0             NaN   \n",
       "546                0.0        80.0              36.0             1.0   \n",
       "\n",
       "    Property_Area  Loan_Status  min_installment  ratio_of_income     diff_all  \n",
       "262     Semiurban            0      3444.444444        98.949855    36.555556  \n",
       "497         Urban            1      7400.000000       160.000000    82.000000  \n",
       "546     Semiurban            0      1777.777778        52.941566  1580.222222  "
      ]
     },
     "execution_count": 135,
     "metadata": {},
     "output_type": "execute_result"
    }
   ],
   "source": [
    "ml[ml['Loan_Amount_Term']<=36]"
   ]
  },
  {
   "cell_type": "code",
   "execution_count": 136,
   "id": "4b550bfb",
   "metadata": {},
   "outputs": [
    {
     "data": {
      "text/html": [
       "<div>\n",
       "<style scoped>\n",
       "    .dataframe tbody tr th:only-of-type {\n",
       "        vertical-align: middle;\n",
       "    }\n",
       "\n",
       "    .dataframe tbody tr th {\n",
       "        vertical-align: top;\n",
       "    }\n",
       "\n",
       "    .dataframe thead th {\n",
       "        text-align: right;\n",
       "    }\n",
       "</style>\n",
       "<table border=\"1\" class=\"dataframe\">\n",
       "  <thead>\n",
       "    <tr style=\"text-align: right;\">\n",
       "      <th></th>\n",
       "      <th>Dependents</th>\n",
       "      <th>ApplicantIncome</th>\n",
       "      <th>CoapplicantIncome</th>\n",
       "      <th>LoanAmount</th>\n",
       "      <th>Loan_Amount_Term</th>\n",
       "      <th>Credit_History</th>\n",
       "      <th>Loan_Status</th>\n",
       "      <th>min_installment</th>\n",
       "      <th>ratio_of_income</th>\n",
       "      <th>diff_all</th>\n",
       "    </tr>\n",
       "  </thead>\n",
       "  <tbody>\n",
       "    <tr>\n",
       "      <th>Dependents</th>\n",
       "      <td>1.000000</td>\n",
       "      <td>0.118679</td>\n",
       "      <td>0.027259</td>\n",
       "      <td>0.163997</td>\n",
       "      <td>-0.100484</td>\n",
       "      <td>-0.050082</td>\n",
       "      <td>0.006781</td>\n",
       "      <td>0.100016</td>\n",
       "      <td>0.059466</td>\n",
       "      <td>0.129358</td>\n",
       "    </tr>\n",
       "    <tr>\n",
       "      <th>ApplicantIncome</th>\n",
       "      <td>0.118679</td>\n",
       "      <td>1.000000</td>\n",
       "      <td>-0.116605</td>\n",
       "      <td>0.570909</td>\n",
       "      <td>-0.045306</td>\n",
       "      <td>-0.014715</td>\n",
       "      <td>-0.004710</td>\n",
       "      <td>0.323509</td>\n",
       "      <td>-0.133009</td>\n",
       "      <td>0.891278</td>\n",
       "    </tr>\n",
       "    <tr>\n",
       "      <th>CoapplicantIncome</th>\n",
       "      <td>0.027259</td>\n",
       "      <td>-0.116605</td>\n",
       "      <td>1.000000</td>\n",
       "      <td>0.188619</td>\n",
       "      <td>-0.059878</td>\n",
       "      <td>-0.002056</td>\n",
       "      <td>-0.059187</td>\n",
       "      <td>0.135826</td>\n",
       "      <td>0.519393</td>\n",
       "      <td>0.345198</td>\n",
       "    </tr>\n",
       "    <tr>\n",
       "      <th>LoanAmount</th>\n",
       "      <td>0.163997</td>\n",
       "      <td>0.570909</td>\n",
       "      <td>0.188619</td>\n",
       "      <td>1.000000</td>\n",
       "      <td>0.039447</td>\n",
       "      <td>-0.008433</td>\n",
       "      <td>-0.037318</td>\n",
       "      <td>0.489983</td>\n",
       "      <td>0.087581</td>\n",
       "      <td>0.606992</td>\n",
       "    </tr>\n",
       "    <tr>\n",
       "      <th>Loan_Amount_Term</th>\n",
       "      <td>-0.100484</td>\n",
       "      <td>-0.045306</td>\n",
       "      <td>-0.059878</td>\n",
       "      <td>0.039447</td>\n",
       "      <td>1.000000</td>\n",
       "      <td>0.001470</td>\n",
       "      <td>-0.021268</td>\n",
       "      <td>-0.500726</td>\n",
       "      <td>-0.296254</td>\n",
       "      <td>-0.040813</td>\n",
       "    </tr>\n",
       "    <tr>\n",
       "      <th>Credit_History</th>\n",
       "      <td>-0.050082</td>\n",
       "      <td>-0.014715</td>\n",
       "      <td>-0.002056</td>\n",
       "      <td>-0.008433</td>\n",
       "      <td>0.001470</td>\n",
       "      <td>1.000000</td>\n",
       "      <td>0.561678</td>\n",
       "      <td>-0.009747</td>\n",
       "      <td>0.009736</td>\n",
       "      <td>-0.027402</td>\n",
       "    </tr>\n",
       "    <tr>\n",
       "      <th>Loan_Status</th>\n",
       "      <td>0.006781</td>\n",
       "      <td>-0.004710</td>\n",
       "      <td>-0.059187</td>\n",
       "      <td>-0.037318</td>\n",
       "      <td>-0.021268</td>\n",
       "      <td>0.561678</td>\n",
       "      <td>1.000000</td>\n",
       "      <td>-0.015394</td>\n",
       "      <td>-0.077971</td>\n",
       "      <td>-0.036995</td>\n",
       "    </tr>\n",
       "    <tr>\n",
       "      <th>min_installment</th>\n",
       "      <td>0.100016</td>\n",
       "      <td>0.323509</td>\n",
       "      <td>0.135826</td>\n",
       "      <td>0.489983</td>\n",
       "      <td>-0.500726</td>\n",
       "      <td>-0.009747</td>\n",
       "      <td>-0.015394</td>\n",
       "      <td>1.000000</td>\n",
       "      <td>0.438563</td>\n",
       "      <td>0.310061</td>\n",
       "    </tr>\n",
       "    <tr>\n",
       "      <th>ratio_of_income</th>\n",
       "      <td>0.059466</td>\n",
       "      <td>-0.133009</td>\n",
       "      <td>0.519393</td>\n",
       "      <td>0.087581</td>\n",
       "      <td>-0.296254</td>\n",
       "      <td>0.009736</td>\n",
       "      <td>-0.077971</td>\n",
       "      <td>0.438563</td>\n",
       "      <td>1.000000</td>\n",
       "      <td>0.083929</td>\n",
       "    </tr>\n",
       "    <tr>\n",
       "      <th>diff_all</th>\n",
       "      <td>0.129358</td>\n",
       "      <td>0.891278</td>\n",
       "      <td>0.345198</td>\n",
       "      <td>0.606992</td>\n",
       "      <td>-0.040813</td>\n",
       "      <td>-0.027402</td>\n",
       "      <td>-0.036995</td>\n",
       "      <td>0.310061</td>\n",
       "      <td>0.083929</td>\n",
       "      <td>1.000000</td>\n",
       "    </tr>\n",
       "  </tbody>\n",
       "</table>\n",
       "</div>"
      ],
      "text/plain": [
       "                   Dependents  ApplicantIncome  CoapplicantIncome  LoanAmount  \\\n",
       "Dependents           1.000000         0.118679           0.027259    0.163997   \n",
       "ApplicantIncome      0.118679         1.000000          -0.116605    0.570909   \n",
       "CoapplicantIncome    0.027259        -0.116605           1.000000    0.188619   \n",
       "LoanAmount           0.163997         0.570909           0.188619    1.000000   \n",
       "Loan_Amount_Term    -0.100484        -0.045306          -0.059878    0.039447   \n",
       "Credit_History      -0.050082        -0.014715          -0.002056   -0.008433   \n",
       "Loan_Status          0.006781        -0.004710          -0.059187   -0.037318   \n",
       "min_installment      0.100016         0.323509           0.135826    0.489983   \n",
       "ratio_of_income      0.059466        -0.133009           0.519393    0.087581   \n",
       "diff_all             0.129358         0.891278           0.345198    0.606992   \n",
       "\n",
       "                   Loan_Amount_Term  Credit_History  Loan_Status  \\\n",
       "Dependents                -0.100484       -0.050082     0.006781   \n",
       "ApplicantIncome           -0.045306       -0.014715    -0.004710   \n",
       "CoapplicantIncome         -0.059878       -0.002056    -0.059187   \n",
       "LoanAmount                 0.039447       -0.008433    -0.037318   \n",
       "Loan_Amount_Term           1.000000        0.001470    -0.021268   \n",
       "Credit_History             0.001470        1.000000     0.561678   \n",
       "Loan_Status               -0.021268        0.561678     1.000000   \n",
       "min_installment           -0.500726       -0.009747    -0.015394   \n",
       "ratio_of_income           -0.296254        0.009736    -0.077971   \n",
       "diff_all                  -0.040813       -0.027402    -0.036995   \n",
       "\n",
       "                   min_installment  ratio_of_income  diff_all  \n",
       "Dependents                0.100016         0.059466  0.129358  \n",
       "ApplicantIncome           0.323509        -0.133009  0.891278  \n",
       "CoapplicantIncome         0.135826         0.519393  0.345198  \n",
       "LoanAmount                0.489983         0.087581  0.606992  \n",
       "Loan_Amount_Term         -0.500726        -0.296254 -0.040813  \n",
       "Credit_History           -0.009747         0.009736 -0.027402  \n",
       "Loan_Status              -0.015394        -0.077971 -0.036995  \n",
       "min_installment           1.000000         0.438563  0.310061  \n",
       "ratio_of_income           0.438563         1.000000  0.083929  \n",
       "diff_all                  0.310061         0.083929  1.000000  "
      ]
     },
     "execution_count": 136,
     "metadata": {},
     "output_type": "execute_result"
    }
   ],
   "source": [
    "ml.corr(numeric_only=True)"
   ]
  },
  {
   "cell_type": "code",
   "execution_count": 137,
   "id": "8dbb5756",
   "metadata": {},
   "outputs": [
    {
     "data": {
      "application/vnd.plotly.v1+json": {
       "config": {
        "plotlyServerURL": "https://plot.ly"
       },
       "data": [
        {
         "coloraxis": "coloraxis",
         "hovertemplate": "x: %{x}<br>y: %{y}<br>color: %{z}<extra></extra>",
         "name": "0",
         "texttemplate": "%{z}",
         "type": "heatmap",
         "x": [
          "Dependents",
          "ApplicantIncome",
          "CoapplicantIncome",
          "LoanAmount",
          "Loan_Amount_Term",
          "Credit_History",
          "Loan_Status",
          "min_installment",
          "ratio_of_income",
          "diff_all"
         ],
         "xaxis": "x",
         "y": [
          "Dependents",
          "ApplicantIncome",
          "CoapplicantIncome",
          "LoanAmount",
          "Loan_Amount_Term",
          "Credit_History",
          "Loan_Status",
          "min_installment",
          "ratio_of_income",
          "diff_all"
         ],
         "yaxis": "y",
         "z": [
          [
           1,
           0.11867863415941973,
           0.027259336667826,
           0.16399716042360282,
           -0.10048350785425492,
           -0.05008233443553535,
           0.006781284954637514,
           0.1000156886592699,
           0.05946596353319409,
           0.12935848360588237
          ],
          [
           0.11867863415941973,
           1,
           -0.11660458122889955,
           0.5709090389885663,
           -0.04530608706258189,
           -0.014714878100313102,
           -0.0047095226593515584,
           0.3235091084987007,
           -0.1330086682822888,
           0.8912777632218716
          ],
          [
           0.027259336667826,
           -0.11660458122889955,
           1,
           0.18861940442311742,
           -0.059878008731631405,
           -0.00205627644650305,
           -0.059187313487850064,
           0.1358260495374181,
           0.5193930629781646,
           0.34519793401474363
          ],
          [
           0.16399716042360282,
           0.5709090389885663,
           0.18861940442311742,
           1,
           0.0394472509159701,
           -0.008432772365243776,
           -0.037317768699794175,
           0.48998293311783864,
           0.08758060163297016,
           0.6069916205854309
          ],
          [
           -0.10048350785425492,
           -0.04530608706258189,
           -0.059878008731631405,
           0.0394472509159701,
           1,
           0.001470109869839285,
           -0.021267658123862963,
           -0.5007264692648571,
           -0.2962544779722416,
           -0.04081314253439278
          ],
          [
           -0.05008233443553535,
           -0.014714878100313102,
           -0.00205627644650305,
           -0.008432772365243776,
           0.001470109869839285,
           1,
           0.5616781574653794,
           -0.009746536463043895,
           0.009736046326563868,
           -0.0274018605512188
          ],
          [
           0.006781284954637514,
           -0.0047095226593515584,
           -0.059187313487850064,
           -0.037317768699794175,
           -0.021267658123862963,
           0.5616781574653794,
           1,
           -0.01539385827107686,
           -0.07797149764463364,
           -0.03699502826313064
          ],
          [
           0.1000156886592699,
           0.3235091084987007,
           0.1358260495374181,
           0.48998293311783864,
           -0.5007264692648571,
           -0.009746536463043895,
           -0.01539385827107686,
           1,
           0.43856261943716807,
           0.31006140282704486
          ],
          [
           0.05946596353319409,
           -0.1330086682822888,
           0.5193930629781646,
           0.08758060163297016,
           -0.2962544779722416,
           0.009736046326563868,
           -0.07797149764463364,
           0.43856261943716807,
           1,
           0.08392895306281864
          ],
          [
           0.12935848360588237,
           0.8912777632218716,
           0.34519793401474363,
           0.6069916205854309,
           -0.04081314253439278,
           -0.0274018605512188,
           -0.03699502826313064,
           0.31006140282704486,
           0.08392895306281864,
           1
          ]
         ]
        }
       ],
       "layout": {
        "coloraxis": {
         "colorscale": [
          [
           0,
           "#0d0887"
          ],
          [
           0.1111111111111111,
           "#46039f"
          ],
          [
           0.2222222222222222,
           "#7201a8"
          ],
          [
           0.3333333333333333,
           "#9c179e"
          ],
          [
           0.4444444444444444,
           "#bd3786"
          ],
          [
           0.5555555555555556,
           "#d8576b"
          ],
          [
           0.6666666666666666,
           "#ed7953"
          ],
          [
           0.7777777777777778,
           "#fb9f3a"
          ],
          [
           0.8888888888888888,
           "#fdca26"
          ],
          [
           1,
           "#f0f921"
          ]
         ]
        },
        "height": 1200,
        "margin": {
         "t": 60
        },
        "template": {
         "data": {
          "bar": [
           {
            "error_x": {
             "color": "#2a3f5f"
            },
            "error_y": {
             "color": "#2a3f5f"
            },
            "marker": {
             "line": {
              "color": "#E5ECF6",
              "width": 0.5
             },
             "pattern": {
              "fillmode": "overlay",
              "size": 10,
              "solidity": 0.2
             }
            },
            "type": "bar"
           }
          ],
          "barpolar": [
           {
            "marker": {
             "line": {
              "color": "#E5ECF6",
              "width": 0.5
             },
             "pattern": {
              "fillmode": "overlay",
              "size": 10,
              "solidity": 0.2
             }
            },
            "type": "barpolar"
           }
          ],
          "carpet": [
           {
            "aaxis": {
             "endlinecolor": "#2a3f5f",
             "gridcolor": "white",
             "linecolor": "white",
             "minorgridcolor": "white",
             "startlinecolor": "#2a3f5f"
            },
            "baxis": {
             "endlinecolor": "#2a3f5f",
             "gridcolor": "white",
             "linecolor": "white",
             "minorgridcolor": "white",
             "startlinecolor": "#2a3f5f"
            },
            "type": "carpet"
           }
          ],
          "choropleth": [
           {
            "colorbar": {
             "outlinewidth": 0,
             "ticks": ""
            },
            "type": "choropleth"
           }
          ],
          "contour": [
           {
            "colorbar": {
             "outlinewidth": 0,
             "ticks": ""
            },
            "colorscale": [
             [
              0,
              "#0d0887"
             ],
             [
              0.1111111111111111,
              "#46039f"
             ],
             [
              0.2222222222222222,
              "#7201a8"
             ],
             [
              0.3333333333333333,
              "#9c179e"
             ],
             [
              0.4444444444444444,
              "#bd3786"
             ],
             [
              0.5555555555555556,
              "#d8576b"
             ],
             [
              0.6666666666666666,
              "#ed7953"
             ],
             [
              0.7777777777777778,
              "#fb9f3a"
             ],
             [
              0.8888888888888888,
              "#fdca26"
             ],
             [
              1,
              "#f0f921"
             ]
            ],
            "type": "contour"
           }
          ],
          "contourcarpet": [
           {
            "colorbar": {
             "outlinewidth": 0,
             "ticks": ""
            },
            "type": "contourcarpet"
           }
          ],
          "heatmap": [
           {
            "colorbar": {
             "outlinewidth": 0,
             "ticks": ""
            },
            "colorscale": [
             [
              0,
              "#0d0887"
             ],
             [
              0.1111111111111111,
              "#46039f"
             ],
             [
              0.2222222222222222,
              "#7201a8"
             ],
             [
              0.3333333333333333,
              "#9c179e"
             ],
             [
              0.4444444444444444,
              "#bd3786"
             ],
             [
              0.5555555555555556,
              "#d8576b"
             ],
             [
              0.6666666666666666,
              "#ed7953"
             ],
             [
              0.7777777777777778,
              "#fb9f3a"
             ],
             [
              0.8888888888888888,
              "#fdca26"
             ],
             [
              1,
              "#f0f921"
             ]
            ],
            "type": "heatmap"
           }
          ],
          "heatmapgl": [
           {
            "colorbar": {
             "outlinewidth": 0,
             "ticks": ""
            },
            "colorscale": [
             [
              0,
              "#0d0887"
             ],
             [
              0.1111111111111111,
              "#46039f"
             ],
             [
              0.2222222222222222,
              "#7201a8"
             ],
             [
              0.3333333333333333,
              "#9c179e"
             ],
             [
              0.4444444444444444,
              "#bd3786"
             ],
             [
              0.5555555555555556,
              "#d8576b"
             ],
             [
              0.6666666666666666,
              "#ed7953"
             ],
             [
              0.7777777777777778,
              "#fb9f3a"
             ],
             [
              0.8888888888888888,
              "#fdca26"
             ],
             [
              1,
              "#f0f921"
             ]
            ],
            "type": "heatmapgl"
           }
          ],
          "histogram": [
           {
            "marker": {
             "pattern": {
              "fillmode": "overlay",
              "size": 10,
              "solidity": 0.2
             }
            },
            "type": "histogram"
           }
          ],
          "histogram2d": [
           {
            "colorbar": {
             "outlinewidth": 0,
             "ticks": ""
            },
            "colorscale": [
             [
              0,
              "#0d0887"
             ],
             [
              0.1111111111111111,
              "#46039f"
             ],
             [
              0.2222222222222222,
              "#7201a8"
             ],
             [
              0.3333333333333333,
              "#9c179e"
             ],
             [
              0.4444444444444444,
              "#bd3786"
             ],
             [
              0.5555555555555556,
              "#d8576b"
             ],
             [
              0.6666666666666666,
              "#ed7953"
             ],
             [
              0.7777777777777778,
              "#fb9f3a"
             ],
             [
              0.8888888888888888,
              "#fdca26"
             ],
             [
              1,
              "#f0f921"
             ]
            ],
            "type": "histogram2d"
           }
          ],
          "histogram2dcontour": [
           {
            "colorbar": {
             "outlinewidth": 0,
             "ticks": ""
            },
            "colorscale": [
             [
              0,
              "#0d0887"
             ],
             [
              0.1111111111111111,
              "#46039f"
             ],
             [
              0.2222222222222222,
              "#7201a8"
             ],
             [
              0.3333333333333333,
              "#9c179e"
             ],
             [
              0.4444444444444444,
              "#bd3786"
             ],
             [
              0.5555555555555556,
              "#d8576b"
             ],
             [
              0.6666666666666666,
              "#ed7953"
             ],
             [
              0.7777777777777778,
              "#fb9f3a"
             ],
             [
              0.8888888888888888,
              "#fdca26"
             ],
             [
              1,
              "#f0f921"
             ]
            ],
            "type": "histogram2dcontour"
           }
          ],
          "mesh3d": [
           {
            "colorbar": {
             "outlinewidth": 0,
             "ticks": ""
            },
            "type": "mesh3d"
           }
          ],
          "parcoords": [
           {
            "line": {
             "colorbar": {
              "outlinewidth": 0,
              "ticks": ""
             }
            },
            "type": "parcoords"
           }
          ],
          "pie": [
           {
            "automargin": true,
            "type": "pie"
           }
          ],
          "scatter": [
           {
            "fillpattern": {
             "fillmode": "overlay",
             "size": 10,
             "solidity": 0.2
            },
            "type": "scatter"
           }
          ],
          "scatter3d": [
           {
            "line": {
             "colorbar": {
              "outlinewidth": 0,
              "ticks": ""
             }
            },
            "marker": {
             "colorbar": {
              "outlinewidth": 0,
              "ticks": ""
             }
            },
            "type": "scatter3d"
           }
          ],
          "scattercarpet": [
           {
            "marker": {
             "colorbar": {
              "outlinewidth": 0,
              "ticks": ""
             }
            },
            "type": "scattercarpet"
           }
          ],
          "scattergeo": [
           {
            "marker": {
             "colorbar": {
              "outlinewidth": 0,
              "ticks": ""
             }
            },
            "type": "scattergeo"
           }
          ],
          "scattergl": [
           {
            "marker": {
             "colorbar": {
              "outlinewidth": 0,
              "ticks": ""
             }
            },
            "type": "scattergl"
           }
          ],
          "scattermapbox": [
           {
            "marker": {
             "colorbar": {
              "outlinewidth": 0,
              "ticks": ""
             }
            },
            "type": "scattermapbox"
           }
          ],
          "scatterpolar": [
           {
            "marker": {
             "colorbar": {
              "outlinewidth": 0,
              "ticks": ""
             }
            },
            "type": "scatterpolar"
           }
          ],
          "scatterpolargl": [
           {
            "marker": {
             "colorbar": {
              "outlinewidth": 0,
              "ticks": ""
             }
            },
            "type": "scatterpolargl"
           }
          ],
          "scatterternary": [
           {
            "marker": {
             "colorbar": {
              "outlinewidth": 0,
              "ticks": ""
             }
            },
            "type": "scatterternary"
           }
          ],
          "surface": [
           {
            "colorbar": {
             "outlinewidth": 0,
             "ticks": ""
            },
            "colorscale": [
             [
              0,
              "#0d0887"
             ],
             [
              0.1111111111111111,
              "#46039f"
             ],
             [
              0.2222222222222222,
              "#7201a8"
             ],
             [
              0.3333333333333333,
              "#9c179e"
             ],
             [
              0.4444444444444444,
              "#bd3786"
             ],
             [
              0.5555555555555556,
              "#d8576b"
             ],
             [
              0.6666666666666666,
              "#ed7953"
             ],
             [
              0.7777777777777778,
              "#fb9f3a"
             ],
             [
              0.8888888888888888,
              "#fdca26"
             ],
             [
              1,
              "#f0f921"
             ]
            ],
            "type": "surface"
           }
          ],
          "table": [
           {
            "cells": {
             "fill": {
              "color": "#EBF0F8"
             },
             "line": {
              "color": "white"
             }
            },
            "header": {
             "fill": {
              "color": "#C8D4E3"
             },
             "line": {
              "color": "white"
             }
            },
            "type": "table"
           }
          ]
         },
         "layout": {
          "annotationdefaults": {
           "arrowcolor": "#2a3f5f",
           "arrowhead": 0,
           "arrowwidth": 1
          },
          "autotypenumbers": "strict",
          "coloraxis": {
           "colorbar": {
            "outlinewidth": 0,
            "ticks": ""
           }
          },
          "colorscale": {
           "diverging": [
            [
             0,
             "#8e0152"
            ],
            [
             0.1,
             "#c51b7d"
            ],
            [
             0.2,
             "#de77ae"
            ],
            [
             0.3,
             "#f1b6da"
            ],
            [
             0.4,
             "#fde0ef"
            ],
            [
             0.5,
             "#f7f7f7"
            ],
            [
             0.6,
             "#e6f5d0"
            ],
            [
             0.7,
             "#b8e186"
            ],
            [
             0.8,
             "#7fbc41"
            ],
            [
             0.9,
             "#4d9221"
            ],
            [
             1,
             "#276419"
            ]
           ],
           "sequential": [
            [
             0,
             "#0d0887"
            ],
            [
             0.1111111111111111,
             "#46039f"
            ],
            [
             0.2222222222222222,
             "#7201a8"
            ],
            [
             0.3333333333333333,
             "#9c179e"
            ],
            [
             0.4444444444444444,
             "#bd3786"
            ],
            [
             0.5555555555555556,
             "#d8576b"
            ],
            [
             0.6666666666666666,
             "#ed7953"
            ],
            [
             0.7777777777777778,
             "#fb9f3a"
            ],
            [
             0.8888888888888888,
             "#fdca26"
            ],
            [
             1,
             "#f0f921"
            ]
           ],
           "sequentialminus": [
            [
             0,
             "#0d0887"
            ],
            [
             0.1111111111111111,
             "#46039f"
            ],
            [
             0.2222222222222222,
             "#7201a8"
            ],
            [
             0.3333333333333333,
             "#9c179e"
            ],
            [
             0.4444444444444444,
             "#bd3786"
            ],
            [
             0.5555555555555556,
             "#d8576b"
            ],
            [
             0.6666666666666666,
             "#ed7953"
            ],
            [
             0.7777777777777778,
             "#fb9f3a"
            ],
            [
             0.8888888888888888,
             "#fdca26"
            ],
            [
             1,
             "#f0f921"
            ]
           ]
          },
          "colorway": [
           "#636efa",
           "#EF553B",
           "#00cc96",
           "#ab63fa",
           "#FFA15A",
           "#19d3f3",
           "#FF6692",
           "#B6E880",
           "#FF97FF",
           "#FECB52"
          ],
          "font": {
           "color": "#2a3f5f"
          },
          "geo": {
           "bgcolor": "white",
           "lakecolor": "white",
           "landcolor": "#E5ECF6",
           "showlakes": true,
           "showland": true,
           "subunitcolor": "white"
          },
          "hoverlabel": {
           "align": "left"
          },
          "hovermode": "closest",
          "mapbox": {
           "style": "light"
          },
          "paper_bgcolor": "white",
          "plot_bgcolor": "#E5ECF6",
          "polar": {
           "angularaxis": {
            "gridcolor": "white",
            "linecolor": "white",
            "ticks": ""
           },
           "bgcolor": "#E5ECF6",
           "radialaxis": {
            "gridcolor": "white",
            "linecolor": "white",
            "ticks": ""
           }
          },
          "scene": {
           "xaxis": {
            "backgroundcolor": "#E5ECF6",
            "gridcolor": "white",
            "gridwidth": 2,
            "linecolor": "white",
            "showbackground": true,
            "ticks": "",
            "zerolinecolor": "white"
           },
           "yaxis": {
            "backgroundcolor": "#E5ECF6",
            "gridcolor": "white",
            "gridwidth": 2,
            "linecolor": "white",
            "showbackground": true,
            "ticks": "",
            "zerolinecolor": "white"
           },
           "zaxis": {
            "backgroundcolor": "#E5ECF6",
            "gridcolor": "white",
            "gridwidth": 2,
            "linecolor": "white",
            "showbackground": true,
            "ticks": "",
            "zerolinecolor": "white"
           }
          },
          "shapedefaults": {
           "line": {
            "color": "#2a3f5f"
           }
          },
          "ternary": {
           "aaxis": {
            "gridcolor": "white",
            "linecolor": "white",
            "ticks": ""
           },
           "baxis": {
            "gridcolor": "white",
            "linecolor": "white",
            "ticks": ""
           },
           "bgcolor": "#E5ECF6",
           "caxis": {
            "gridcolor": "white",
            "linecolor": "white",
            "ticks": ""
           }
          },
          "title": {
           "x": 0.05
          },
          "xaxis": {
           "automargin": true,
           "gridcolor": "white",
           "linecolor": "white",
           "ticks": "",
           "title": {
            "standoff": 15
           },
           "zerolinecolor": "white",
           "zerolinewidth": 2
          },
          "yaxis": {
           "automargin": true,
           "gridcolor": "white",
           "linecolor": "white",
           "ticks": "",
           "title": {
            "standoff": 15
           },
           "zerolinecolor": "white",
           "zerolinewidth": 2
          }
         }
        },
        "width": 1000,
        "xaxis": {
         "anchor": "y",
         "constrain": "domain",
         "domain": [
          0,
          1
         ],
         "scaleanchor": "y"
        },
        "yaxis": {
         "anchor": "x",
         "autorange": "reversed",
         "constrain": "domain",
         "domain": [
          0,
          1
         ]
        }
       }
      },
      "text/html": [
       "<div>                            <div id=\"943fb406-9696-4f76-adac-f0b6ab28ad84\" class=\"plotly-graph-div\" style=\"height:1200px; width:1000px;\"></div>            <script type=\"text/javascript\">                require([\"plotly\"], function(Plotly) {                    window.PLOTLYENV=window.PLOTLYENV || {};                                    if (document.getElementById(\"943fb406-9696-4f76-adac-f0b6ab28ad84\")) {                    Plotly.newPlot(                        \"943fb406-9696-4f76-adac-f0b6ab28ad84\",                        [{\"coloraxis\":\"coloraxis\",\"name\":\"0\",\"texttemplate\":\"%{z}\",\"x\":[\"Dependents\",\"ApplicantIncome\",\"CoapplicantIncome\",\"LoanAmount\",\"Loan_Amount_Term\",\"Credit_History\",\"Loan_Status\",\"min_installment\",\"ratio_of_income\",\"diff_all\"],\"y\":[\"Dependents\",\"ApplicantIncome\",\"CoapplicantIncome\",\"LoanAmount\",\"Loan_Amount_Term\",\"Credit_History\",\"Loan_Status\",\"min_installment\",\"ratio_of_income\",\"diff_all\"],\"z\":[[1.0,0.11867863415941973,0.027259336667826,0.16399716042360282,-0.10048350785425492,-0.05008233443553535,0.006781284954637514,0.1000156886592699,0.05946596353319409,0.12935848360588237],[0.11867863415941973,1.0,-0.11660458122889955,0.5709090389885663,-0.04530608706258189,-0.014714878100313102,-0.0047095226593515584,0.3235091084987007,-0.1330086682822888,0.8912777632218716],[0.027259336667826,-0.11660458122889955,1.0,0.18861940442311742,-0.059878008731631405,-0.00205627644650305,-0.059187313487850064,0.1358260495374181,0.5193930629781646,0.34519793401474363],[0.16399716042360282,0.5709090389885663,0.18861940442311742,1.0,0.0394472509159701,-0.008432772365243776,-0.037317768699794175,0.48998293311783864,0.08758060163297016,0.6069916205854309],[-0.10048350785425492,-0.04530608706258189,-0.059878008731631405,0.0394472509159701,1.0,0.001470109869839285,-0.021267658123862963,-0.5007264692648571,-0.2962544779722416,-0.04081314253439278],[-0.05008233443553535,-0.014714878100313102,-0.00205627644650305,-0.008432772365243776,0.001470109869839285,1.0,0.5616781574653794,-0.009746536463043895,0.009736046326563868,-0.0274018605512188],[0.006781284954637514,-0.0047095226593515584,-0.059187313487850064,-0.037317768699794175,-0.021267658123862963,0.5616781574653794,1.0,-0.01539385827107686,-0.07797149764463364,-0.03699502826313064],[0.1000156886592699,0.3235091084987007,0.1358260495374181,0.48998293311783864,-0.5007264692648571,-0.009746536463043895,-0.01539385827107686,1.0,0.43856261943716807,0.31006140282704486],[0.05946596353319409,-0.1330086682822888,0.5193930629781646,0.08758060163297016,-0.2962544779722416,0.009736046326563868,-0.07797149764463364,0.43856261943716807,1.0,0.08392895306281864],[0.12935848360588237,0.8912777632218716,0.34519793401474363,0.6069916205854309,-0.04081314253439278,-0.0274018605512188,-0.03699502826313064,0.31006140282704486,0.08392895306281864,1.0]],\"type\":\"heatmap\",\"xaxis\":\"x\",\"yaxis\":\"y\",\"hovertemplate\":\"x: %{x}<br>y: %{y}<br>color: %{z}<extra></extra>\"}],                        {\"template\":{\"data\":{\"histogram2dcontour\":[{\"type\":\"histogram2dcontour\",\"colorbar\":{\"outlinewidth\":0,\"ticks\":\"\"},\"colorscale\":[[0.0,\"#0d0887\"],[0.1111111111111111,\"#46039f\"],[0.2222222222222222,\"#7201a8\"],[0.3333333333333333,\"#9c179e\"],[0.4444444444444444,\"#bd3786\"],[0.5555555555555556,\"#d8576b\"],[0.6666666666666666,\"#ed7953\"],[0.7777777777777778,\"#fb9f3a\"],[0.8888888888888888,\"#fdca26\"],[1.0,\"#f0f921\"]]}],\"choropleth\":[{\"type\":\"choropleth\",\"colorbar\":{\"outlinewidth\":0,\"ticks\":\"\"}}],\"histogram2d\":[{\"type\":\"histogram2d\",\"colorbar\":{\"outlinewidth\":0,\"ticks\":\"\"},\"colorscale\":[[0.0,\"#0d0887\"],[0.1111111111111111,\"#46039f\"],[0.2222222222222222,\"#7201a8\"],[0.3333333333333333,\"#9c179e\"],[0.4444444444444444,\"#bd3786\"],[0.5555555555555556,\"#d8576b\"],[0.6666666666666666,\"#ed7953\"],[0.7777777777777778,\"#fb9f3a\"],[0.8888888888888888,\"#fdca26\"],[1.0,\"#f0f921\"]]}],\"heatmap\":[{\"type\":\"heatmap\",\"colorbar\":{\"outlinewidth\":0,\"ticks\":\"\"},\"colorscale\":[[0.0,\"#0d0887\"],[0.1111111111111111,\"#46039f\"],[0.2222222222222222,\"#7201a8\"],[0.3333333333333333,\"#9c179e\"],[0.4444444444444444,\"#bd3786\"],[0.5555555555555556,\"#d8576b\"],[0.6666666666666666,\"#ed7953\"],[0.7777777777777778,\"#fb9f3a\"],[0.8888888888888888,\"#fdca26\"],[1.0,\"#f0f921\"]]}],\"heatmapgl\":[{\"type\":\"heatmapgl\",\"colorbar\":{\"outlinewidth\":0,\"ticks\":\"\"},\"colorscale\":[[0.0,\"#0d0887\"],[0.1111111111111111,\"#46039f\"],[0.2222222222222222,\"#7201a8\"],[0.3333333333333333,\"#9c179e\"],[0.4444444444444444,\"#bd3786\"],[0.5555555555555556,\"#d8576b\"],[0.6666666666666666,\"#ed7953\"],[0.7777777777777778,\"#fb9f3a\"],[0.8888888888888888,\"#fdca26\"],[1.0,\"#f0f921\"]]}],\"contourcarpet\":[{\"type\":\"contourcarpet\",\"colorbar\":{\"outlinewidth\":0,\"ticks\":\"\"}}],\"contour\":[{\"type\":\"contour\",\"colorbar\":{\"outlinewidth\":0,\"ticks\":\"\"},\"colorscale\":[[0.0,\"#0d0887\"],[0.1111111111111111,\"#46039f\"],[0.2222222222222222,\"#7201a8\"],[0.3333333333333333,\"#9c179e\"],[0.4444444444444444,\"#bd3786\"],[0.5555555555555556,\"#d8576b\"],[0.6666666666666666,\"#ed7953\"],[0.7777777777777778,\"#fb9f3a\"],[0.8888888888888888,\"#fdca26\"],[1.0,\"#f0f921\"]]}],\"surface\":[{\"type\":\"surface\",\"colorbar\":{\"outlinewidth\":0,\"ticks\":\"\"},\"colorscale\":[[0.0,\"#0d0887\"],[0.1111111111111111,\"#46039f\"],[0.2222222222222222,\"#7201a8\"],[0.3333333333333333,\"#9c179e\"],[0.4444444444444444,\"#bd3786\"],[0.5555555555555556,\"#d8576b\"],[0.6666666666666666,\"#ed7953\"],[0.7777777777777778,\"#fb9f3a\"],[0.8888888888888888,\"#fdca26\"],[1.0,\"#f0f921\"]]}],\"mesh3d\":[{\"type\":\"mesh3d\",\"colorbar\":{\"outlinewidth\":0,\"ticks\":\"\"}}],\"scatter\":[{\"fillpattern\":{\"fillmode\":\"overlay\",\"size\":10,\"solidity\":0.2},\"type\":\"scatter\"}],\"parcoords\":[{\"type\":\"parcoords\",\"line\":{\"colorbar\":{\"outlinewidth\":0,\"ticks\":\"\"}}}],\"scatterpolargl\":[{\"type\":\"scatterpolargl\",\"marker\":{\"colorbar\":{\"outlinewidth\":0,\"ticks\":\"\"}}}],\"bar\":[{\"error_x\":{\"color\":\"#2a3f5f\"},\"error_y\":{\"color\":\"#2a3f5f\"},\"marker\":{\"line\":{\"color\":\"#E5ECF6\",\"width\":0.5},\"pattern\":{\"fillmode\":\"overlay\",\"size\":10,\"solidity\":0.2}},\"type\":\"bar\"}],\"scattergeo\":[{\"type\":\"scattergeo\",\"marker\":{\"colorbar\":{\"outlinewidth\":0,\"ticks\":\"\"}}}],\"scatterpolar\":[{\"type\":\"scatterpolar\",\"marker\":{\"colorbar\":{\"outlinewidth\":0,\"ticks\":\"\"}}}],\"histogram\":[{\"marker\":{\"pattern\":{\"fillmode\":\"overlay\",\"size\":10,\"solidity\":0.2}},\"type\":\"histogram\"}],\"scattergl\":[{\"type\":\"scattergl\",\"marker\":{\"colorbar\":{\"outlinewidth\":0,\"ticks\":\"\"}}}],\"scatter3d\":[{\"type\":\"scatter3d\",\"line\":{\"colorbar\":{\"outlinewidth\":0,\"ticks\":\"\"}},\"marker\":{\"colorbar\":{\"outlinewidth\":0,\"ticks\":\"\"}}}],\"scattermapbox\":[{\"type\":\"scattermapbox\",\"marker\":{\"colorbar\":{\"outlinewidth\":0,\"ticks\":\"\"}}}],\"scatterternary\":[{\"type\":\"scatterternary\",\"marker\":{\"colorbar\":{\"outlinewidth\":0,\"ticks\":\"\"}}}],\"scattercarpet\":[{\"type\":\"scattercarpet\",\"marker\":{\"colorbar\":{\"outlinewidth\":0,\"ticks\":\"\"}}}],\"carpet\":[{\"aaxis\":{\"endlinecolor\":\"#2a3f5f\",\"gridcolor\":\"white\",\"linecolor\":\"white\",\"minorgridcolor\":\"white\",\"startlinecolor\":\"#2a3f5f\"},\"baxis\":{\"endlinecolor\":\"#2a3f5f\",\"gridcolor\":\"white\",\"linecolor\":\"white\",\"minorgridcolor\":\"white\",\"startlinecolor\":\"#2a3f5f\"},\"type\":\"carpet\"}],\"table\":[{\"cells\":{\"fill\":{\"color\":\"#EBF0F8\"},\"line\":{\"color\":\"white\"}},\"header\":{\"fill\":{\"color\":\"#C8D4E3\"},\"line\":{\"color\":\"white\"}},\"type\":\"table\"}],\"barpolar\":[{\"marker\":{\"line\":{\"color\":\"#E5ECF6\",\"width\":0.5},\"pattern\":{\"fillmode\":\"overlay\",\"size\":10,\"solidity\":0.2}},\"type\":\"barpolar\"}],\"pie\":[{\"automargin\":true,\"type\":\"pie\"}]},\"layout\":{\"autotypenumbers\":\"strict\",\"colorway\":[\"#636efa\",\"#EF553B\",\"#00cc96\",\"#ab63fa\",\"#FFA15A\",\"#19d3f3\",\"#FF6692\",\"#B6E880\",\"#FF97FF\",\"#FECB52\"],\"font\":{\"color\":\"#2a3f5f\"},\"hovermode\":\"closest\",\"hoverlabel\":{\"align\":\"left\"},\"paper_bgcolor\":\"white\",\"plot_bgcolor\":\"#E5ECF6\",\"polar\":{\"bgcolor\":\"#E5ECF6\",\"angularaxis\":{\"gridcolor\":\"white\",\"linecolor\":\"white\",\"ticks\":\"\"},\"radialaxis\":{\"gridcolor\":\"white\",\"linecolor\":\"white\",\"ticks\":\"\"}},\"ternary\":{\"bgcolor\":\"#E5ECF6\",\"aaxis\":{\"gridcolor\":\"white\",\"linecolor\":\"white\",\"ticks\":\"\"},\"baxis\":{\"gridcolor\":\"white\",\"linecolor\":\"white\",\"ticks\":\"\"},\"caxis\":{\"gridcolor\":\"white\",\"linecolor\":\"white\",\"ticks\":\"\"}},\"coloraxis\":{\"colorbar\":{\"outlinewidth\":0,\"ticks\":\"\"}},\"colorscale\":{\"sequential\":[[0.0,\"#0d0887\"],[0.1111111111111111,\"#46039f\"],[0.2222222222222222,\"#7201a8\"],[0.3333333333333333,\"#9c179e\"],[0.4444444444444444,\"#bd3786\"],[0.5555555555555556,\"#d8576b\"],[0.6666666666666666,\"#ed7953\"],[0.7777777777777778,\"#fb9f3a\"],[0.8888888888888888,\"#fdca26\"],[1.0,\"#f0f921\"]],\"sequentialminus\":[[0.0,\"#0d0887\"],[0.1111111111111111,\"#46039f\"],[0.2222222222222222,\"#7201a8\"],[0.3333333333333333,\"#9c179e\"],[0.4444444444444444,\"#bd3786\"],[0.5555555555555556,\"#d8576b\"],[0.6666666666666666,\"#ed7953\"],[0.7777777777777778,\"#fb9f3a\"],[0.8888888888888888,\"#fdca26\"],[1.0,\"#f0f921\"]],\"diverging\":[[0,\"#8e0152\"],[0.1,\"#c51b7d\"],[0.2,\"#de77ae\"],[0.3,\"#f1b6da\"],[0.4,\"#fde0ef\"],[0.5,\"#f7f7f7\"],[0.6,\"#e6f5d0\"],[0.7,\"#b8e186\"],[0.8,\"#7fbc41\"],[0.9,\"#4d9221\"],[1,\"#276419\"]]},\"xaxis\":{\"gridcolor\":\"white\",\"linecolor\":\"white\",\"ticks\":\"\",\"title\":{\"standoff\":15},\"zerolinecolor\":\"white\",\"automargin\":true,\"zerolinewidth\":2},\"yaxis\":{\"gridcolor\":\"white\",\"linecolor\":\"white\",\"ticks\":\"\",\"title\":{\"standoff\":15},\"zerolinecolor\":\"white\",\"automargin\":true,\"zerolinewidth\":2},\"scene\":{\"xaxis\":{\"backgroundcolor\":\"#E5ECF6\",\"gridcolor\":\"white\",\"linecolor\":\"white\",\"showbackground\":true,\"ticks\":\"\",\"zerolinecolor\":\"white\",\"gridwidth\":2},\"yaxis\":{\"backgroundcolor\":\"#E5ECF6\",\"gridcolor\":\"white\",\"linecolor\":\"white\",\"showbackground\":true,\"ticks\":\"\",\"zerolinecolor\":\"white\",\"gridwidth\":2},\"zaxis\":{\"backgroundcolor\":\"#E5ECF6\",\"gridcolor\":\"white\",\"linecolor\":\"white\",\"showbackground\":true,\"ticks\":\"\",\"zerolinecolor\":\"white\",\"gridwidth\":2}},\"shapedefaults\":{\"line\":{\"color\":\"#2a3f5f\"}},\"annotationdefaults\":{\"arrowcolor\":\"#2a3f5f\",\"arrowhead\":0,\"arrowwidth\":1},\"geo\":{\"bgcolor\":\"white\",\"landcolor\":\"#E5ECF6\",\"subunitcolor\":\"white\",\"showland\":true,\"showlakes\":true,\"lakecolor\":\"white\"},\"title\":{\"x\":0.05},\"mapbox\":{\"style\":\"light\"}}},\"xaxis\":{\"anchor\":\"y\",\"domain\":[0.0,1.0],\"scaleanchor\":\"y\",\"constrain\":\"domain\"},\"yaxis\":{\"anchor\":\"x\",\"domain\":[0.0,1.0],\"autorange\":\"reversed\",\"constrain\":\"domain\"},\"coloraxis\":{\"colorscale\":[[0.0,\"#0d0887\"],[0.1111111111111111,\"#46039f\"],[0.2222222222222222,\"#7201a8\"],[0.3333333333333333,\"#9c179e\"],[0.4444444444444444,\"#bd3786\"],[0.5555555555555556,\"#d8576b\"],[0.6666666666666666,\"#ed7953\"],[0.7777777777777778,\"#fb9f3a\"],[0.8888888888888888,\"#fdca26\"],[1.0,\"#f0f921\"]]},\"margin\":{\"t\":60},\"height\":1200,\"width\":1000},                        {\"responsive\": true}                    ).then(function(){\n",
       "                            \n",
       "var gd = document.getElementById('943fb406-9696-4f76-adac-f0b6ab28ad84');\n",
       "var x = new MutationObserver(function (mutations, observer) {{\n",
       "        var display = window.getComputedStyle(gd).display;\n",
       "        if (!display || display === 'none') {{\n",
       "            console.log([gd, 'removed!']);\n",
       "            Plotly.purge(gd);\n",
       "            observer.disconnect();\n",
       "        }}\n",
       "}});\n",
       "\n",
       "// Listen for the removal of the full notebook cells\n",
       "var notebookContainer = gd.closest('#notebook-container');\n",
       "if (notebookContainer) {{\n",
       "    x.observe(notebookContainer, {childList: true});\n",
       "}}\n",
       "\n",
       "// Listen for the clearing of the current output cell\n",
       "var outputEl = gd.closest('.output');\n",
       "if (outputEl) {{\n",
       "    x.observe(outputEl, {childList: true});\n",
       "}}\n",
       "\n",
       "                        })                };                });            </script>        </div>"
      ]
     },
     "metadata": {},
     "output_type": "display_data"
    }
   ],
   "source": [
    "px.imshow(ml.corr(numeric_only=True),text_auto=True , width=1000,height=1200)"
   ]
  },
  {
   "cell_type": "code",
   "execution_count": null,
   "id": "3750bf61",
   "metadata": {},
   "outputs": [],
   "source": []
  },
  {
   "cell_type": "code",
   "execution_count": 138,
   "id": "cd277579",
   "metadata": {},
   "outputs": [
    {
     "data": {
      "text/plain": [
       "Index(['Gender', 'Married', 'Dependents', 'Education', 'Self_Employed',\n",
       "       'ApplicantIncome', 'CoapplicantIncome', 'LoanAmount',\n",
       "       'Loan_Amount_Term', 'Credit_History', 'Property_Area', 'Loan_Status',\n",
       "       'min_installment', 'ratio_of_income', 'diff_all'],\n",
       "      dtype='object')"
      ]
     },
     "execution_count": 138,
     "metadata": {},
     "output_type": "execute_result"
    }
   ],
   "source": [
    "ml.columns"
   ]
  },
  {
   "cell_type": "code",
   "execution_count": 139,
   "id": "3f4ecabe",
   "metadata": {},
   "outputs": [],
   "source": [
    "numerical = [ 'ApplicantIncome', 'CoapplicantIncome', 'LoanAmount',\n",
    "       'Loan_Amount_Term', 'installment', 'ratio_of_income', 'ratio_of_all_incomes', 'diff',\n",
    "       'diff_all']"
   ]
  },
  {
   "cell_type": "code",
   "execution_count": 140,
   "id": "1c1d8e97",
   "metadata": {},
   "outputs": [],
   "source": [
    "categorical = ['Gender', 'Married', 'Dependents', 'Education',\n",
    "       'Self_Employed',  'Credit_History', 'Property_Area', 'Loan_Status']"
   ]
  },
  {
   "cell_type": "code",
   "execution_count": 141,
   "id": "e4d601bb",
   "metadata": {},
   "outputs": [],
   "source": [
    "discrete = [ 'Dependents','Credit_History','Loan_Amount_Term']"
   ]
  },
  {
   "cell_type": "markdown",
   "id": "cb2098af",
   "metadata": {},
   "source": [
    "# Modeling"
   ]
  },
  {
   "cell_type": "markdown",
   "id": "281659b0",
   "metadata": {},
   "source": [
    "##### splitting X,y target and features"
   ]
  },
  {
   "cell_type": "code",
   "execution_count": 142,
   "id": "7880312f",
   "metadata": {},
   "outputs": [],
   "source": [
    "X = ml.drop('Loan_Status',axis=1)"
   ]
  },
  {
   "cell_type": "code",
   "execution_count": 143,
   "id": "83e1177e",
   "metadata": {},
   "outputs": [],
   "source": [
    "y = ml['Loan_Status']"
   ]
  },
  {
   "cell_type": "code",
   "execution_count": 144,
   "id": "d28452ab",
   "metadata": {},
   "outputs": [],
   "source": [
    "#mode_impute = ['Gender','Married','Self_Employed']"
   ]
  },
  {
   "cell_type": "code",
   "execution_count": 145,
   "id": "93817148",
   "metadata": {},
   "outputs": [],
   "source": [
    "#knn_impute = ['ApplicantIncome', 'CoapplicantIncome','LoanAmount','Loan_Amount_Term','installment','ratio_of_income','ratio_of_all_incomes','diff','diff_all']"
   ]
  },
  {
   "cell_type": "code",
   "execution_count": 146,
   "id": "f3329384",
   "metadata": {},
   "outputs": [],
   "source": [
    "#median_imputer = ['Dependents','Credit_History']"
   ]
  },
  {
   "cell_type": "code",
   "execution_count": 147,
   "id": "42192dc7",
   "metadata": {},
   "outputs": [],
   "source": [
    "#onh = ['Gender','Married','Education','Self_Employed','Property_Area']"
   ]
  },
  {
   "cell_type": "code",
   "execution_count": 148,
   "id": "caf90a73",
   "metadata": {},
   "outputs": [],
   "source": [
    "#ordinal= ['Dependents']"
   ]
  },
  {
   "cell_type": "code",
   "execution_count": 149,
   "id": "688ec640",
   "metadata": {},
   "outputs": [
    {
     "data": {
      "text/plain": [
       "['Gender', 'Married', 'Education', 'Self_Employed', 'Property_Area']"
      ]
     },
     "execution_count": 149,
     "metadata": {},
     "output_type": "execute_result"
    }
   ],
   "source": [
    "cat_cols = X.select_dtypes(include='object').columns.to_list()\n",
    "cat_cols"
   ]
  },
  {
   "cell_type": "code",
   "execution_count": 150,
   "id": "3caf94c2",
   "metadata": {},
   "outputs": [],
   "source": [
    "cat_cols.append('Dependents')"
   ]
  },
  {
   "cell_type": "code",
   "execution_count": 151,
   "id": "c0e232d9",
   "metadata": {},
   "outputs": [],
   "source": [
    "cat_cols.append('Credit_History')"
   ]
  },
  {
   "cell_type": "code",
   "execution_count": 152,
   "id": "03187f6e",
   "metadata": {},
   "outputs": [],
   "source": [
    "#cat_cols.append('Loan_Amount_Term')"
   ]
  },
  {
   "cell_type": "code",
   "execution_count": 153,
   "id": "f671eb45",
   "metadata": {},
   "outputs": [
    {
     "data": {
      "text/plain": [
       "['Gender',\n",
       " 'Married',\n",
       " 'Education',\n",
       " 'Self_Employed',\n",
       " 'Property_Area',\n",
       " 'Dependents',\n",
       " 'Credit_History']"
      ]
     },
     "execution_count": 153,
     "metadata": {},
     "output_type": "execute_result"
    }
   ],
   "source": [
    "cat_cols"
   ]
  },
  {
   "cell_type": "code",
   "execution_count": 154,
   "id": "e8202bb5",
   "metadata": {},
   "outputs": [
    {
     "data": {
      "text/plain": [
       "['Dependents',\n",
       " 'ApplicantIncome',\n",
       " 'CoapplicantIncome',\n",
       " 'LoanAmount',\n",
       " 'Loan_Amount_Term',\n",
       " 'Credit_History',\n",
       " 'min_installment',\n",
       " 'ratio_of_income',\n",
       " 'diff_all']"
      ]
     },
     "execution_count": 154,
     "metadata": {},
     "output_type": "execute_result"
    }
   ],
   "source": [
    "scaling_col = X.select_dtypes(exclude='object').columns.to_list()\n",
    "scaling_col"
   ]
  },
  {
   "cell_type": "code",
   "execution_count": 155,
   "id": "6920de77",
   "metadata": {},
   "outputs": [
    {
     "data": {
      "text/html": [
       "<div>\n",
       "<style scoped>\n",
       "    .dataframe tbody tr th:only-of-type {\n",
       "        vertical-align: middle;\n",
       "    }\n",
       "\n",
       "    .dataframe tbody tr th {\n",
       "        vertical-align: top;\n",
       "    }\n",
       "\n",
       "    .dataframe thead th {\n",
       "        text-align: right;\n",
       "    }\n",
       "</style>\n",
       "<table border=\"1\" class=\"dataframe\">\n",
       "  <thead>\n",
       "    <tr style=\"text-align: right;\">\n",
       "      <th></th>\n",
       "      <th>Dependents</th>\n",
       "      <th>ApplicantIncome</th>\n",
       "      <th>CoapplicantIncome</th>\n",
       "      <th>LoanAmount</th>\n",
       "      <th>Loan_Amount_Term</th>\n",
       "      <th>Credit_History</th>\n",
       "      <th>min_installment</th>\n",
       "      <th>ratio_of_income</th>\n",
       "      <th>diff_all</th>\n",
       "    </tr>\n",
       "  </thead>\n",
       "  <tbody>\n",
       "    <tr>\n",
       "      <th>count</th>\n",
       "      <td>599.000000</td>\n",
       "      <td>614.000000</td>\n",
       "      <td>614.000000</td>\n",
       "      <td>592.000000</td>\n",
       "      <td>600.00000</td>\n",
       "      <td>564.000000</td>\n",
       "      <td>578.000000</td>\n",
       "      <td>578.000000</td>\n",
       "      <td>578.000000</td>\n",
       "    </tr>\n",
       "    <tr>\n",
       "      <th>mean</th>\n",
       "      <td>0.762938</td>\n",
       "      <td>5403.459283</td>\n",
       "      <td>1621.245798</td>\n",
       "      <td>146.412162</td>\n",
       "      <td>342.00000</td>\n",
       "      <td>0.842199</td>\n",
       "      <td>384.239880</td>\n",
       "      <td>10.120997</td>\n",
       "      <td>6691.381089</td>\n",
       "    </tr>\n",
       "    <tr>\n",
       "      <th>std</th>\n",
       "      <td>1.015216</td>\n",
       "      <td>6109.041673</td>\n",
       "      <td>2926.248369</td>\n",
       "      <td>85.587325</td>\n",
       "      <td>65.12041</td>\n",
       "      <td>0.364878</td>\n",
       "      <td>420.366948</td>\n",
       "      <td>20.051338</td>\n",
       "      <td>6455.041863</td>\n",
       "    </tr>\n",
       "    <tr>\n",
       "      <th>min</th>\n",
       "      <td>0.000000</td>\n",
       "      <td>150.000000</td>\n",
       "      <td>0.000000</td>\n",
       "      <td>9.000000</td>\n",
       "      <td>12.00000</td>\n",
       "      <td>0.000000</td>\n",
       "      <td>20.000000</td>\n",
       "      <td>0.670253</td>\n",
       "      <td>36.555556</td>\n",
       "    </tr>\n",
       "    <tr>\n",
       "      <th>25%</th>\n",
       "      <td>0.000000</td>\n",
       "      <td>2877.500000</td>\n",
       "      <td>0.000000</td>\n",
       "      <td>100.000000</td>\n",
       "      <td>360.00000</td>\n",
       "      <td>1.000000</td>\n",
       "      <td>228.888889</td>\n",
       "      <td>5.484486</td>\n",
       "      <td>3863.527778</td>\n",
       "    </tr>\n",
       "    <tr>\n",
       "      <th>50%</th>\n",
       "      <td>0.000000</td>\n",
       "      <td>3812.500000</td>\n",
       "      <td>1188.500000</td>\n",
       "      <td>128.000000</td>\n",
       "      <td>360.00000</td>\n",
       "      <td>1.000000</td>\n",
       "      <td>292.222222</td>\n",
       "      <td>7.074611</td>\n",
       "      <td>5046.388889</td>\n",
       "    </tr>\n",
       "    <tr>\n",
       "      <th>75%</th>\n",
       "      <td>2.000000</td>\n",
       "      <td>5795.000000</td>\n",
       "      <td>2297.250000</td>\n",
       "      <td>168.000000</td>\n",
       "      <td>360.00000</td>\n",
       "      <td>1.000000</td>\n",
       "      <td>411.111111</td>\n",
       "      <td>10.023864</td>\n",
       "      <td>7052.222222</td>\n",
       "    </tr>\n",
       "    <tr>\n",
       "      <th>max</th>\n",
       "      <td>3.000000</td>\n",
       "      <td>81000.000000</td>\n",
       "      <td>41667.000000</td>\n",
       "      <td>700.000000</td>\n",
       "      <td>480.00000</td>\n",
       "      <td>1.000000</td>\n",
       "      <td>7400.000000</td>\n",
       "      <td>373.931624</td>\n",
       "      <td>80200.000000</td>\n",
       "    </tr>\n",
       "  </tbody>\n",
       "</table>\n",
       "</div>"
      ],
      "text/plain": [
       "       Dependents  ApplicantIncome  CoapplicantIncome  LoanAmount  \\\n",
       "count  599.000000       614.000000         614.000000  592.000000   \n",
       "mean     0.762938      5403.459283        1621.245798  146.412162   \n",
       "std      1.015216      6109.041673        2926.248369   85.587325   \n",
       "min      0.000000       150.000000           0.000000    9.000000   \n",
       "25%      0.000000      2877.500000           0.000000  100.000000   \n",
       "50%      0.000000      3812.500000        1188.500000  128.000000   \n",
       "75%      2.000000      5795.000000        2297.250000  168.000000   \n",
       "max      3.000000     81000.000000       41667.000000  700.000000   \n",
       "\n",
       "       Loan_Amount_Term  Credit_History  min_installment  ratio_of_income  \\\n",
       "count         600.00000      564.000000       578.000000       578.000000   \n",
       "mean          342.00000        0.842199       384.239880        10.120997   \n",
       "std            65.12041        0.364878       420.366948        20.051338   \n",
       "min            12.00000        0.000000        20.000000         0.670253   \n",
       "25%           360.00000        1.000000       228.888889         5.484486   \n",
       "50%           360.00000        1.000000       292.222222         7.074611   \n",
       "75%           360.00000        1.000000       411.111111        10.023864   \n",
       "max           480.00000        1.000000      7400.000000       373.931624   \n",
       "\n",
       "           diff_all  \n",
       "count    578.000000  \n",
       "mean    6691.381089  \n",
       "std     6455.041863  \n",
       "min       36.555556  \n",
       "25%     3863.527778  \n",
       "50%     5046.388889  \n",
       "75%     7052.222222  \n",
       "max    80200.000000  "
      ]
     },
     "execution_count": 155,
     "metadata": {},
     "output_type": "execute_result"
    }
   ],
   "source": [
    "X.describe()"
   ]
  },
  {
   "cell_type": "code",
   "execution_count": 156,
   "id": "d85027fa",
   "metadata": {},
   "outputs": [],
   "source": [
    "scaling_col.remove('Dependents')"
   ]
  },
  {
   "cell_type": "code",
   "execution_count": 157,
   "id": "b444c185",
   "metadata": {},
   "outputs": [],
   "source": [
    "scaling_col.remove('Credit_History')"
   ]
  },
  {
   "cell_type": "code",
   "execution_count": 158,
   "id": "4f329a8e",
   "metadata": {},
   "outputs": [],
   "source": [
    "#scaling_col.remove('Loan_Amount_Term')"
   ]
  },
  {
   "cell_type": "code",
   "execution_count": 159,
   "id": "c73e59f3",
   "metadata": {},
   "outputs": [],
   "source": [
    "#discrete_col = ['Dependents','Credit_History','Loan_Amount_Term']"
   ]
  },
  {
   "cell_type": "code",
   "execution_count": 160,
   "id": "0f6ea2ae",
   "metadata": {},
   "outputs": [
    {
     "data": {
      "text/plain": [
       "['ApplicantIncome',\n",
       " 'CoapplicantIncome',\n",
       " 'LoanAmount',\n",
       " 'Loan_Amount_Term',\n",
       " 'min_installment',\n",
       " 'ratio_of_income',\n",
       " 'diff_all']"
      ]
     },
     "execution_count": 160,
     "metadata": {},
     "output_type": "execute_result"
    }
   ],
   "source": [
    "scaling_col"
   ]
  },
  {
   "cell_type": "code",
   "execution_count": null,
   "id": "655374ba",
   "metadata": {},
   "outputs": [],
   "source": []
  },
  {
   "cell_type": "code",
   "execution_count": 161,
   "id": "dd575ae9",
   "metadata": {},
   "outputs": [
    {
     "data": {
      "text/plain": [
       "['Gender',\n",
       " 'Married',\n",
       " 'Education',\n",
       " 'Self_Employed',\n",
       " 'Property_Area',\n",
       " 'Dependents',\n",
       " 'Credit_History']"
      ]
     },
     "execution_count": 161,
     "metadata": {},
     "output_type": "execute_result"
    }
   ],
   "source": [
    "cat_cols"
   ]
  },
  {
   "cell_type": "code",
   "execution_count": 162,
   "id": "711c2716",
   "metadata": {},
   "outputs": [
    {
     "data": {
      "text/plain": [
       "Gender               13\n",
       "Married               3\n",
       "Dependents           15\n",
       "Education             0\n",
       "Self_Employed        32\n",
       "ApplicantIncome       0\n",
       "CoapplicantIncome     0\n",
       "LoanAmount           22\n",
       "Loan_Amount_Term     14\n",
       "Credit_History       50\n",
       "Property_Area         0\n",
       "min_installment      36\n",
       "ratio_of_income      36\n",
       "diff_all             36\n",
       "dtype: int64"
      ]
     },
     "execution_count": 162,
     "metadata": {},
     "output_type": "execute_result"
    }
   ],
   "source": [
    "X.isna().sum()"
   ]
  },
  {
   "cell_type": "code",
   "execution_count": 163,
   "id": "483dc51f",
   "metadata": {},
   "outputs": [
    {
     "data": {
      "text/html": [
       "<div>\n",
       "<style scoped>\n",
       "    .dataframe tbody tr th:only-of-type {\n",
       "        vertical-align: middle;\n",
       "    }\n",
       "\n",
       "    .dataframe tbody tr th {\n",
       "        vertical-align: top;\n",
       "    }\n",
       "\n",
       "    .dataframe thead th {\n",
       "        text-align: right;\n",
       "    }\n",
       "</style>\n",
       "<table border=\"1\" class=\"dataframe\">\n",
       "  <thead>\n",
       "    <tr style=\"text-align: right;\">\n",
       "      <th></th>\n",
       "      <th>Gender</th>\n",
       "      <th>Married</th>\n",
       "      <th>Dependents</th>\n",
       "      <th>Education</th>\n",
       "      <th>Self_Employed</th>\n",
       "      <th>ApplicantIncome</th>\n",
       "      <th>CoapplicantIncome</th>\n",
       "      <th>LoanAmount</th>\n",
       "      <th>Loan_Amount_Term</th>\n",
       "      <th>Credit_History</th>\n",
       "      <th>Property_Area</th>\n",
       "      <th>min_installment</th>\n",
       "      <th>ratio_of_income</th>\n",
       "      <th>diff_all</th>\n",
       "    </tr>\n",
       "  </thead>\n",
       "  <tbody>\n",
       "    <tr>\n",
       "      <th>0</th>\n",
       "      <td>Male</td>\n",
       "      <td>No</td>\n",
       "      <td>0.0</td>\n",
       "      <td>Graduate</td>\n",
       "      <td>No</td>\n",
       "      <td>5849</td>\n",
       "      <td>0.0</td>\n",
       "      <td>NaN</td>\n",
       "      <td>360.0</td>\n",
       "      <td>1.0</td>\n",
       "      <td>Urban</td>\n",
       "      <td>NaN</td>\n",
       "      <td>NaN</td>\n",
       "      <td>NaN</td>\n",
       "    </tr>\n",
       "    <tr>\n",
       "      <th>1</th>\n",
       "      <td>Male</td>\n",
       "      <td>Yes</td>\n",
       "      <td>1.0</td>\n",
       "      <td>Graduate</td>\n",
       "      <td>No</td>\n",
       "      <td>4583</td>\n",
       "      <td>1508.0</td>\n",
       "      <td>128.0</td>\n",
       "      <td>360.0</td>\n",
       "      <td>1.0</td>\n",
       "      <td>Rural</td>\n",
       "      <td>284.444444</td>\n",
       "      <td>6.206512</td>\n",
       "      <td>5806.555556</td>\n",
       "    </tr>\n",
       "    <tr>\n",
       "      <th>2</th>\n",
       "      <td>Male</td>\n",
       "      <td>Yes</td>\n",
       "      <td>0.0</td>\n",
       "      <td>Graduate</td>\n",
       "      <td>Yes</td>\n",
       "      <td>3000</td>\n",
       "      <td>0.0</td>\n",
       "      <td>66.0</td>\n",
       "      <td>360.0</td>\n",
       "      <td>1.0</td>\n",
       "      <td>Urban</td>\n",
       "      <td>146.666667</td>\n",
       "      <td>4.888889</td>\n",
       "      <td>2853.333333</td>\n",
       "    </tr>\n",
       "    <tr>\n",
       "      <th>3</th>\n",
       "      <td>Male</td>\n",
       "      <td>Yes</td>\n",
       "      <td>0.0</td>\n",
       "      <td>Not Graduate</td>\n",
       "      <td>No</td>\n",
       "      <td>2583</td>\n",
       "      <td>2358.0</td>\n",
       "      <td>120.0</td>\n",
       "      <td>360.0</td>\n",
       "      <td>1.0</td>\n",
       "      <td>Urban</td>\n",
       "      <td>266.666667</td>\n",
       "      <td>10.323913</td>\n",
       "      <td>4674.333333</td>\n",
       "    </tr>\n",
       "    <tr>\n",
       "      <th>4</th>\n",
       "      <td>Male</td>\n",
       "      <td>No</td>\n",
       "      <td>0.0</td>\n",
       "      <td>Graduate</td>\n",
       "      <td>No</td>\n",
       "      <td>6000</td>\n",
       "      <td>0.0</td>\n",
       "      <td>141.0</td>\n",
       "      <td>360.0</td>\n",
       "      <td>1.0</td>\n",
       "      <td>Urban</td>\n",
       "      <td>313.333333</td>\n",
       "      <td>5.222222</td>\n",
       "      <td>5686.666667</td>\n",
       "    </tr>\n",
       "    <tr>\n",
       "      <th>...</th>\n",
       "      <td>...</td>\n",
       "      <td>...</td>\n",
       "      <td>...</td>\n",
       "      <td>...</td>\n",
       "      <td>...</td>\n",
       "      <td>...</td>\n",
       "      <td>...</td>\n",
       "      <td>...</td>\n",
       "      <td>...</td>\n",
       "      <td>...</td>\n",
       "      <td>...</td>\n",
       "      <td>...</td>\n",
       "      <td>...</td>\n",
       "      <td>...</td>\n",
       "    </tr>\n",
       "    <tr>\n",
       "      <th>609</th>\n",
       "      <td>Female</td>\n",
       "      <td>No</td>\n",
       "      <td>0.0</td>\n",
       "      <td>Graduate</td>\n",
       "      <td>No</td>\n",
       "      <td>2900</td>\n",
       "      <td>0.0</td>\n",
       "      <td>71.0</td>\n",
       "      <td>360.0</td>\n",
       "      <td>1.0</td>\n",
       "      <td>Rural</td>\n",
       "      <td>157.777778</td>\n",
       "      <td>5.440613</td>\n",
       "      <td>2742.222222</td>\n",
       "    </tr>\n",
       "    <tr>\n",
       "      <th>610</th>\n",
       "      <td>Male</td>\n",
       "      <td>Yes</td>\n",
       "      <td>3.0</td>\n",
       "      <td>Graduate</td>\n",
       "      <td>No</td>\n",
       "      <td>4106</td>\n",
       "      <td>0.0</td>\n",
       "      <td>40.0</td>\n",
       "      <td>180.0</td>\n",
       "      <td>1.0</td>\n",
       "      <td>Rural</td>\n",
       "      <td>177.777778</td>\n",
       "      <td>4.329707</td>\n",
       "      <td>3928.222222</td>\n",
       "    </tr>\n",
       "    <tr>\n",
       "      <th>611</th>\n",
       "      <td>Male</td>\n",
       "      <td>Yes</td>\n",
       "      <td>1.0</td>\n",
       "      <td>Graduate</td>\n",
       "      <td>No</td>\n",
       "      <td>8072</td>\n",
       "      <td>240.0</td>\n",
       "      <td>253.0</td>\n",
       "      <td>360.0</td>\n",
       "      <td>1.0</td>\n",
       "      <td>Urban</td>\n",
       "      <td>562.222222</td>\n",
       "      <td>6.965092</td>\n",
       "      <td>7749.777778</td>\n",
       "    </tr>\n",
       "    <tr>\n",
       "      <th>612</th>\n",
       "      <td>Male</td>\n",
       "      <td>Yes</td>\n",
       "      <td>2.0</td>\n",
       "      <td>Graduate</td>\n",
       "      <td>No</td>\n",
       "      <td>7583</td>\n",
       "      <td>0.0</td>\n",
       "      <td>187.0</td>\n",
       "      <td>360.0</td>\n",
       "      <td>1.0</td>\n",
       "      <td>Urban</td>\n",
       "      <td>415.555556</td>\n",
       "      <td>5.480094</td>\n",
       "      <td>7167.444444</td>\n",
       "    </tr>\n",
       "    <tr>\n",
       "      <th>613</th>\n",
       "      <td>Female</td>\n",
       "      <td>No</td>\n",
       "      <td>0.0</td>\n",
       "      <td>Graduate</td>\n",
       "      <td>Yes</td>\n",
       "      <td>4583</td>\n",
       "      <td>0.0</td>\n",
       "      <td>133.0</td>\n",
       "      <td>360.0</td>\n",
       "      <td>0.0</td>\n",
       "      <td>Semiurban</td>\n",
       "      <td>295.555556</td>\n",
       "      <td>6.448954</td>\n",
       "      <td>4287.444444</td>\n",
       "    </tr>\n",
       "  </tbody>\n",
       "</table>\n",
       "<p>614 rows × 14 columns</p>\n",
       "</div>"
      ],
      "text/plain": [
       "     Gender Married  Dependents     Education Self_Employed  ApplicantIncome  \\\n",
       "0      Male      No         0.0      Graduate            No             5849   \n",
       "1      Male     Yes         1.0      Graduate            No             4583   \n",
       "2      Male     Yes         0.0      Graduate           Yes             3000   \n",
       "3      Male     Yes         0.0  Not Graduate            No             2583   \n",
       "4      Male      No         0.0      Graduate            No             6000   \n",
       "..      ...     ...         ...           ...           ...              ...   \n",
       "609  Female      No         0.0      Graduate            No             2900   \n",
       "610    Male     Yes         3.0      Graduate            No             4106   \n",
       "611    Male     Yes         1.0      Graduate            No             8072   \n",
       "612    Male     Yes         2.0      Graduate            No             7583   \n",
       "613  Female      No         0.0      Graduate           Yes             4583   \n",
       "\n",
       "     CoapplicantIncome  LoanAmount  Loan_Amount_Term  Credit_History  \\\n",
       "0                  0.0         NaN             360.0             1.0   \n",
       "1               1508.0       128.0             360.0             1.0   \n",
       "2                  0.0        66.0             360.0             1.0   \n",
       "3               2358.0       120.0             360.0             1.0   \n",
       "4                  0.0       141.0             360.0             1.0   \n",
       "..                 ...         ...               ...             ...   \n",
       "609                0.0        71.0             360.0             1.0   \n",
       "610                0.0        40.0             180.0             1.0   \n",
       "611              240.0       253.0             360.0             1.0   \n",
       "612                0.0       187.0             360.0             1.0   \n",
       "613                0.0       133.0             360.0             0.0   \n",
       "\n",
       "    Property_Area  min_installment  ratio_of_income     diff_all  \n",
       "0           Urban              NaN              NaN          NaN  \n",
       "1           Rural       284.444444         6.206512  5806.555556  \n",
       "2           Urban       146.666667         4.888889  2853.333333  \n",
       "3           Urban       266.666667        10.323913  4674.333333  \n",
       "4           Urban       313.333333         5.222222  5686.666667  \n",
       "..            ...              ...              ...          ...  \n",
       "609         Rural       157.777778         5.440613  2742.222222  \n",
       "610         Rural       177.777778         4.329707  3928.222222  \n",
       "611         Urban       562.222222         6.965092  7749.777778  \n",
       "612         Urban       415.555556         5.480094  7167.444444  \n",
       "613     Semiurban       295.555556         6.448954  4287.444444  \n",
       "\n",
       "[614 rows x 14 columns]"
      ]
     },
     "execution_count": 163,
     "metadata": {},
     "output_type": "execute_result"
    }
   ],
   "source": [
    "X"
   ]
  },
  {
   "cell_type": "markdown",
   "id": "cf88602e",
   "metadata": {},
   "source": [
    "# Modeling"
   ]
  },
  {
   "cell_type": "markdown",
   "id": "4c3ff74f",
   "metadata": {},
   "source": [
    "### Detecting which model will give best scores (specially : precision& accuracy )"
   ]
  },
  {
   "cell_type": "code",
   "execution_count": 164,
   "id": "81795cad",
   "metadata": {},
   "outputs": [
    {
     "data": {
      "text/plain": [
       "['accuracy',\n",
       " 'adjusted_mutual_info_score',\n",
       " 'adjusted_rand_score',\n",
       " 'average_precision',\n",
       " 'balanced_accuracy',\n",
       " 'completeness_score',\n",
       " 'explained_variance',\n",
       " 'f1',\n",
       " 'f1_macro',\n",
       " 'f1_micro',\n",
       " 'f1_samples',\n",
       " 'f1_weighted',\n",
       " 'fowlkes_mallows_score',\n",
       " 'homogeneity_score',\n",
       " 'jaccard',\n",
       " 'jaccard_macro',\n",
       " 'jaccard_micro',\n",
       " 'jaccard_samples',\n",
       " 'jaccard_weighted',\n",
       " 'matthews_corrcoef',\n",
       " 'max_error',\n",
       " 'mutual_info_score',\n",
       " 'neg_brier_score',\n",
       " 'neg_log_loss',\n",
       " 'neg_mean_absolute_error',\n",
       " 'neg_mean_absolute_percentage_error',\n",
       " 'neg_mean_gamma_deviance',\n",
       " 'neg_mean_poisson_deviance',\n",
       " 'neg_mean_squared_error',\n",
       " 'neg_mean_squared_log_error',\n",
       " 'neg_median_absolute_error',\n",
       " 'neg_negative_likelihood_ratio',\n",
       " 'neg_root_mean_squared_error',\n",
       " 'normalized_mutual_info_score',\n",
       " 'positive_likelihood_ratio',\n",
       " 'precision',\n",
       " 'precision_macro',\n",
       " 'precision_micro',\n",
       " 'precision_samples',\n",
       " 'precision_weighted',\n",
       " 'r2',\n",
       " 'rand_score',\n",
       " 'recall',\n",
       " 'recall_macro',\n",
       " 'recall_micro',\n",
       " 'recall_samples',\n",
       " 'recall_weighted',\n",
       " 'roc_auc',\n",
       " 'roc_auc_ovo',\n",
       " 'roc_auc_ovo_weighted',\n",
       " 'roc_auc_ovr',\n",
       " 'roc_auc_ovr_weighted',\n",
       " 'top_k_accuracy',\n",
       " 'v_measure_score']"
      ]
     },
     "execution_count": 164,
     "metadata": {},
     "output_type": "execute_result"
    }
   ],
   "source": [
    "# metrics and scores names\n",
    "sklearn.metrics.get_scorer_names()"
   ]
  },
  {
   "cell_type": "code",
   "execution_count": 165,
   "id": "e09231f9",
   "metadata": {},
   "outputs": [],
   "source": [
    "scalers = [\n",
    "    ('std scaler:', StandardScaler()), \n",
    "    ('MinMax scaler :', MinMaxScaler()), \n",
    "    ('Robust scaler: ', RobustScaler())\n",
    "]"
   ]
  },
  {
   "cell_type": "code",
   "execution_count": 185,
   "id": "8f4abd1c",
   "metadata": {},
   "outputs": [],
   "source": [
    "#models\n",
    "models = [\n",
    "    ('KNN', KNeighborsClassifier()),\n",
    "    ('Naive', GaussianNB()),\n",
    "    ('DTC', DecisionTreeClassifier()),\n",
    "    ('RFC', RandomForestClassifier()),\n",
    "    ('ADA' ,AdaBoostClassifier()),\n",
    "    ('GB',GradientBoostingClassifier()),\n",
    "    ('LogisticR',LogisticRegression()),\n",
    "    ('SVM', SVC()),      \n",
    "\n",
    "    ('XGB', XGBClassifier())]\n",
    "    "
   ]
  },
  {
   "cell_type": "code",
   "execution_count": 192,
   "id": "61dc568d",
   "metadata": {
    "scrolled": true
   },
   "outputs": [
    {
     "name": "stdout",
     "output_type": "stream",
     "text": [
      "For std scaler: :\n",
      "==============================\n",
      "For KNN:\n",
      "test_roc_auc : 0.7146005473714452\n",
      "train_roc_auc: 0.9070247067897348\n",
      "--------------------------------------------------\n",
      "test_accuracy : 0.7084232973477276\n",
      "train_accuracy: 0.8395757786498435\n",
      "--------------------------------------------------\n",
      "test_recall : 0.7890756302521009\n",
      "train_recall: 0.8833318701385353\n",
      "--------------------------------------------------\n",
      "test_precision : 0.7877409387675639\n",
      "train_precision: 0.8839284553073155\n",
      "--------------------------------------------------\n",
      "test_f1 : 0.7879393210373824\n",
      "train_f1: 0.8831312441758461\n",
      "**************************************************\n",
      "For Naive:\n",
      "test_roc_auc : 0.7487309714709096\n",
      "train_roc_auc: 0.7733960768998431\n",
      "--------------------------------------------------\n",
      "test_accuracy : 0.781713981074237\n",
      "train_accuracy: 0.8029324590598247\n",
      "--------------------------------------------------\n",
      "test_recall : 0.9170308123249299\n",
      "train_recall: 0.9478622724000492\n",
      "--------------------------------------------------\n",
      "test_precision : 0.7969906288022772\n",
      "train_precision: 0.8016646359057461\n",
      "--------------------------------------------------\n",
      "test_f1 : 0.8522099016718501\n",
      "train_f1: 0.8686252722574267\n",
      "**************************************************\n",
      "For DTC:\n",
      "test_roc_auc : 0.6785812948661245\n",
      "train_roc_auc: 1.0\n",
      "--------------------------------------------------\n",
      "test_accuracy : 0.705131280821005\n",
      "train_accuracy: 1.0\n",
      "--------------------------------------------------\n",
      "test_recall : 0.748795518207283\n",
      "train_recall: 1.0\n",
      "--------------------------------------------------\n",
      "test_precision : 0.8099171323285169\n",
      "train_precision: 1.0\n",
      "--------------------------------------------------\n",
      "test_f1 : 0.7771100428377339\n",
      "train_f1: 1.0\n",
      "**************************************************\n",
      "For RFC:\n",
      "test_roc_auc : 0.7692929722496287\n",
      "train_roc_auc: 1.0\n",
      "--------------------------------------------------\n",
      "test_accuracy : 0.7605757696921231\n",
      "train_accuracy: 1.0\n",
      "--------------------------------------------------\n",
      "test_recall : 0.8720448179271709\n",
      "train_recall: 1.0\n",
      "--------------------------------------------------\n",
      "test_precision : 0.7986433938685753\n",
      "train_precision: 1.0\n",
      "--------------------------------------------------\n",
      "test_f1 : 0.8336725276264865\n",
      "train_f1: 1.0\n",
      "**************************************************\n",
      "For ADA:\n",
      "test_roc_auc : 0.730372802292307\n",
      "train_roc_auc: 0.8985273142952694\n",
      "--------------------------------------------------\n",
      "test_accuracy : 0.7458349993336\n",
      "train_accuracy: 0.8440589141125626\n",
      "--------------------------------------------------\n",
      "test_recall : 0.8339495798319329\n",
      "train_recall: 0.9164872789844256\n",
      "--------------------------------------------------\n",
      "test_precision : 0.8065197411181708\n",
      "train_precision: 0.8648217132196369\n",
      "--------------------------------------------------\n",
      "test_f1 : 0.8177111015053301\n",
      "train_f1: 0.8897584623913641\n",
      "**************************************************\n",
      "For GB:\n",
      "test_roc_auc : 0.7434739374832253\n",
      "train_roc_auc: 0.9718917451643663\n",
      "--------------------------------------------------\n",
      "test_accuracy : 0.7638677862188458\n",
      "train_accuracy: 0.9189773649263987\n",
      "--------------------------------------------------\n",
      "test_recall : 0.8767507002801121\n",
      "train_recall: 0.9804540586097309\n",
      "--------------------------------------------------\n",
      "test_precision : 0.8011094116484833\n",
      "train_precision: 0.9088695152188988\n",
      "--------------------------------------------------\n",
      "test_f1 : 0.8363672020067694\n",
      "train_f1: 0.9432953981692996\n",
      "**************************************************\n",
      "For LogisticR:\n",
      "test_roc_auc : 0.761540408336074\n",
      "train_roc_auc: 0.8012702737376127\n",
      "--------------------------------------------------\n",
      "test_accuracy : 0.7409436225509796\n",
      "train_accuracy: 0.774434123159969\n",
      "--------------------------------------------------\n",
      "test_recall : 0.8292156862745099\n",
      "train_recall: 0.8596035327375204\n",
      "--------------------------------------------------\n",
      "test_precision : 0.8016909084415161\n",
      "train_precision: 0.8208492806650758\n",
      "--------------------------------------------------\n",
      "test_f1 : 0.8137026115008597\n",
      "train_f1: 0.8395006767422334\n",
      "**************************************************\n",
      "For SVM:\n",
      "test_roc_auc : 0.7381372927038561\n",
      "train_roc_auc: 0.8922256240327592\n",
      "--------------------------------------------------\n",
      "test_accuracy : 0.7720111955217913\n",
      "train_accuracy: 0.844867782690047\n",
      "--------------------------------------------------\n",
      "test_recall : 0.9004761904761904\n",
      "train_recall: 0.9443295348796376\n",
      "--------------------------------------------------\n",
      "test_precision : 0.7957792367640859\n",
      "train_precision: 0.847894665046808\n",
      "--------------------------------------------------\n",
      "test_f1 : 0.8446032196525131\n",
      "train_f1: 0.8930204860385951\n",
      "**************************************************\n",
      "For XGB:\n",
      "test_roc_auc : 0.7484915720674234\n",
      "train_roc_auc: 1.0\n",
      "--------------------------------------------------\n",
      "test_accuracy : 0.7443022790883647\n",
      "train_accuracy: 1.0\n",
      "--------------------------------------------------\n",
      "test_recall : 0.8316806722689076\n",
      "train_recall: 1.0\n",
      "--------------------------------------------------\n",
      "test_precision : 0.804944625095111\n",
      "train_precision: 1.0\n",
      "--------------------------------------------------\n",
      "test_f1 : 0.8174663925576942\n",
      "train_f1: 1.0\n",
      "**************************************************\n",
      "****************************************************************************************************\n",
      "____________________________________________________________________________________________________\n",
      "For MinMax scaler : :\n",
      "==============================\n",
      "For KNN:\n",
      "test_roc_auc : 0.7274432971569195\n",
      "train_roc_auc: 0.9017081712397044\n",
      "--------------------------------------------------\n",
      "test_accuracy : 0.7328401972544316\n",
      "train_accuracy: 0.8334649711059228\n",
      "--------------------------------------------------\n",
      "test_recall : 0.8410084033613444\n",
      "train_recall: 0.8933822625673802\n",
      "--------------------------------------------------\n",
      "test_precision : 0.7858077923788152\n",
      "train_precision: 0.8686348490052029\n",
      "--------------------------------------------------\n",
      "test_f1 : 0.8118584395875154\n",
      "train_f1: 0.8805865691833527\n",
      "**************************************************\n",
      "For Naive:\n",
      "test_roc_auc : 0.7489777800458916\n",
      "train_roc_auc: 0.7656307082062684\n",
      "--------------------------------------------------\n",
      "test_accuracy : 0.7703052112488338\n",
      "train_accuracy: 0.7980510986372593\n",
      "--------------------------------------------------\n",
      "test_recall : 0.9027170868347338\n",
      "train_recall: 0.9342615841132161\n",
      "--------------------------------------------------\n",
      "test_precision : 0.7931039431902401\n",
      "train_precision: 0.8037770211202929\n",
      "--------------------------------------------------\n",
      "test_f1 : 0.843188150236298\n",
      "train_f1: 0.8640142822996598\n",
      "**************************************************\n",
      "For DTC:\n",
      "test_roc_auc : 0.6714946302407603\n",
      "train_roc_auc: 1.0\n",
      "--------------------------------------------------\n",
      "test_accuracy : 0.6971211515393841\n",
      "train_accuracy: 1.0\n",
      "--------------------------------------------------\n",
      "test_recall : 0.7390756302521009\n",
      "train_recall: 1.0\n",
      "--------------------------------------------------\n",
      "test_precision : 0.8052673205837764\n",
      "train_precision: 1.0\n",
      "--------------------------------------------------\n",
      "test_f1 : 0.7687759430101271\n",
      "train_f1: 1.0\n",
      "**************************************************\n",
      "For RFC:\n",
      "test_roc_auc : 0.7652342016428705\n",
      "train_roc_auc: 1.0\n",
      "--------------------------------------------------\n",
      "test_accuracy : 0.7556577369052379\n",
      "train_accuracy: 1.0\n",
      "--------------------------------------------------\n",
      "test_recall : 0.8602240896358543\n",
      "train_recall: 1.0\n",
      "--------------------------------------------------\n",
      "test_precision : 0.8009364889942983\n",
      "train_precision: 1.0\n",
      "--------------------------------------------------\n",
      "test_f1 : 0.8291465521512574\n",
      "train_f1: 1.0\n",
      "**************************************************\n",
      "For ADA:\n",
      "test_roc_auc : 0.7370883562601829\n",
      "train_roc_auc: 0.8958921297129736\n",
      "--------------------------------------------------\n",
      "test_accuracy : 0.7442489670798348\n",
      "train_accuracy: 0.8371417217227162\n",
      "--------------------------------------------------\n",
      "test_recall : 0.8292717086834733\n",
      "train_recall: 0.9075974926693942\n",
      "--------------------------------------------------\n",
      "test_precision : 0.8069176287602886\n",
      "train_precision: 0.8626395610558095\n",
      "--------------------------------------------------\n",
      "test_f1 : 0.8163850903052052\n",
      "train_f1: 0.8844537607768125\n",
      "**************************************************\n",
      "For GB:\n"
     ]
    },
    {
     "name": "stdout",
     "output_type": "stream",
     "text": [
      "test_roc_auc : 0.7571963846267252\n",
      "train_roc_auc: 0.9759494179586958\n",
      "--------------------------------------------------\n",
      "test_accuracy : 0.765480474476876\n",
      "train_accuracy: 0.9267150166410014\n",
      "--------------------------------------------------\n",
      "test_recall : 0.8672829131652661\n",
      "train_recall: 0.9828209225150563\n",
      "--------------------------------------------------\n",
      "test_precision : 0.8079889117397114\n",
      "train_precision: 0.9166970782023662\n",
      "--------------------------------------------------\n",
      "test_f1 : 0.835641582635024\n",
      "train_f1: 0.948567085138527\n",
      "**************************************************\n",
      "For LogisticR:\n",
      "test_roc_auc : 0.768964246967343\n",
      "train_roc_auc: 0.7998293348515565\n",
      "--------------------------------------------------\n",
      "test_accuracy : 0.7572304411568705\n",
      "train_accuracy: 0.785439537694766\n",
      "--------------------------------------------------\n",
      "test_recall : 0.869579831932773\n",
      "train_recall: 0.8963267957789757\n",
      "--------------------------------------------------\n",
      "test_precision : 0.7958618439937093\n",
      "train_precision: 0.8116688777591688\n",
      "--------------------------------------------------\n",
      "test_f1 : 0.8298153695125456\n",
      "train_f1: 0.851205599096773\n",
      "**************************************************\n",
      "For SVM:\n",
      "test_roc_auc : 0.7527054060490593\n",
      "train_roc_auc: 0.8694138103170423\n",
      "--------------------------------------------------\n",
      "test_accuracy : 0.767039850726376\n",
      "train_accuracy: 0.8057912340834201\n",
      "--------------------------------------------------\n",
      "test_recall : 0.9076190476190475\n",
      "train_recall: 0.9383913051112319\n",
      "--------------------------------------------------\n",
      "test_precision : 0.7868437408440128\n",
      "train_precision: 0.8112295258377914\n",
      "--------------------------------------------------\n",
      "test_f1 : 0.8411044046914586\n",
      "train_f1: 0.8685644640006382\n",
      "**************************************************\n",
      "For XGB:\n",
      "test_roc_auc : 0.7531469510881277\n",
      "train_roc_auc: 1.0\n",
      "--------------------------------------------------\n",
      "test_accuracy : 0.7507530321204852\n",
      "train_accuracy: 1.0\n",
      "--------------------------------------------------\n",
      "test_recall : 0.8363865546218487\n",
      "train_recall: 1.0\n",
      "--------------------------------------------------\n",
      "test_precision : 0.8095380545818986\n",
      "train_precision: 1.0\n",
      "--------------------------------------------------\n",
      "test_f1 : 0.8220873160575017\n",
      "train_f1: 1.0\n",
      "**************************************************\n",
      "****************************************************************************************************\n",
      "____________________________________________________________________________________________________\n",
      "For Robust scaler:  :\n",
      "==============================\n",
      "For KNN:\n",
      "test_roc_auc : 0.6628711106574885\n",
      "train_roc_auc: 0.8945732683322813\n",
      "--------------------------------------------------\n",
      "test_accuracy : 0.6839397574303613\n",
      "train_accuracy: 0.8289909426589175\n",
      "--------------------------------------------------\n",
      "test_recall : 0.7794677871148459\n",
      "train_recall: 0.8767808543887066\n",
      "--------------------------------------------------\n",
      "test_precision : 0.7652111578619293\n",
      "train_precision: 0.8749484409438677\n",
      "--------------------------------------------------\n",
      "test_f1 : 0.7704143908262985\n",
      "train_f1: 0.875683403118915\n",
      "**************************************************\n",
      "For Naive:\n",
      "test_roc_auc : 0.7596215463243328\n",
      "train_roc_auc: 0.7768694051345071\n",
      "--------------------------------------------------\n",
      "test_accuracy : 0.7915500466480074\n",
      "train_accuracy: 0.8037479509214644\n",
      "--------------------------------------------------\n",
      "test_recall : 0.9384033613445378\n",
      "train_recall: 0.9520130634031571\n",
      "--------------------------------------------------\n",
      "test_precision : 0.7958476956593176\n",
      "train_precision: 0.8003788664553102\n",
      "--------------------------------------------------\n",
      "test_f1 : 0.860996625525982\n",
      "train_f1: 0.8695897395974731\n",
      "**************************************************\n",
      "For DTC:\n",
      "test_roc_auc : 0.649375021263566\n",
      "train_roc_auc: 1.0\n",
      "--------------------------------------------------\n",
      "test_accuracy : 0.6824070371851259\n",
      "train_accuracy: 1.0\n",
      "--------------------------------------------------\n",
      "test_recall : 0.7368067226890755\n",
      "train_recall: 1.0\n",
      "--------------------------------------------------\n",
      "test_precision : 0.7891644621546859\n",
      "train_precision: 1.0\n",
      "--------------------------------------------------\n",
      "test_f1 : 0.7608161687449122\n",
      "train_f1: 1.0\n",
      "**************************************************\n",
      "For RFC:\n",
      "test_roc_auc : 0.7626706283053032\n",
      "train_roc_auc: 1.0\n",
      "--------------------------------------------------\n",
      "test_accuracy : 0.7817406370785018\n",
      "train_accuracy: 1.0\n",
      "--------------------------------------------------\n",
      "test_recall : 0.9052100840336135\n",
      "train_recall: 1.0\n",
      "--------------------------------------------------\n",
      "test_precision : 0.8040790976885909\n",
      "train_precision: 1.0\n",
      "--------------------------------------------------\n",
      "test_f1 : 0.8510771882167762\n",
      "train_f1: 1.0\n",
      "**************************************************\n",
      "For ADA:\n",
      "test_roc_auc : 0.7305387715140037\n",
      "train_roc_auc: 0.9025687964125334\n",
      "--------------------------------------------------\n",
      "test_accuracy : 0.7654138344662135\n",
      "train_accuracy: 0.8452817379497624\n",
      "--------------------------------------------------\n",
      "test_recall : 0.8719607843137254\n",
      "train_recall: 0.9348427650870015\n",
      "--------------------------------------------------\n",
      "test_precision : 0.8056481783976478\n",
      "train_precision: 0.8540892871091919\n",
      "--------------------------------------------------\n",
      "test_f1 : 0.8366109174009843\n",
      "train_f1: 0.8925283749571046\n",
      "**************************************************\n",
      "For GB:\n",
      "test_roc_auc : 0.7419164993932796\n",
      "train_roc_auc: 0.9781496012480074\n",
      "--------------------------------------------------\n",
      "test_accuracy : 0.765453818472611\n",
      "train_accuracy: 0.9197920288775189\n",
      "--------------------------------------------------\n",
      "test_recall : 0.8861624649859945\n",
      "train_recall: 0.9905202535423946\n",
      "--------------------------------------------------\n",
      "test_precision : 0.7968186295201913\n",
      "train_precision: 0.902379391371243\n",
      "--------------------------------------------------\n",
      "test_f1 : 0.8386864610892489\n",
      "train_f1: 0.9443828670775296\n",
      "**************************************************\n",
      "For LogisticR:\n",
      "test_roc_auc : 0.7677112653428443\n",
      "train_roc_auc: 0.7949063402787371\n",
      "--------------------------------------------------\n",
      "test_accuracy : 0.7686658669865387\n",
      "train_accuracy: 0.7898986637524217\n",
      "--------------------------------------------------\n",
      "test_recall : 0.8695238095238096\n",
      "train_recall: 0.8915895563008094\n",
      "--------------------------------------------------\n",
      "test_precision : 0.8109300136673984\n",
      "train_precision: 0.8189267592321372\n",
      "--------------------------------------------------\n",
      "test_f1 : 0.8370902797857622\n",
      "train_f1: 0.8535815675973814\n",
      "**************************************************\n",
      "For SVM:\n",
      "test_roc_auc : 0.6553684739752852\n",
      "train_roc_auc: 0.7085280813566056\n",
      "--------------------------------------------------\n",
      "test_accuracy : 0.6725976276156204\n",
      "train_accuracy: 0.6840354014538109\n",
      "--------------------------------------------------\n",
      "test_recall : 0.940812324929972\n",
      "train_recall: 0.9449177391884536\n",
      "--------------------------------------------------\n",
      "test_precision : 0.6930454701536704\n",
      "train_precision: 0.7001736936426363\n",
      "--------------------------------------------------\n",
      "test_f1 : 0.7978559856187342\n",
      "train_f1: 0.8040473596403441\n",
      "**************************************************\n",
      "For XGB:\n",
      "test_roc_auc : 0.7555746833146214\n",
      "train_roc_auc: 1.0\n",
      "--------------------------------------------------\n",
      "test_accuracy : 0.755631080900973\n",
      "train_accuracy: 1.0\n",
      "--------------------------------------------------\n",
      "test_recall : 0.8435014005602242\n",
      "train_recall: 1.0\n",
      "--------------------------------------------------\n",
      "test_precision : 0.8101833251271504\n",
      "train_precision: 1.0\n",
      "--------------------------------------------------\n",
      "test_f1 : 0.8259922116676698\n",
      "train_f1: 1.0\n",
      "**************************************************\n",
      "****************************************************************************************************\n",
      "____________________________________________________________________________________________________\n"
     ]
    }
   ],
   "source": [
    "result_models=[] # to append data of scores\n",
    "for scaler_name, scaler in scalers:\n",
    "    # print scaler name\n",
    "    print(f'For {scaler_name} :')\n",
    "    print('='*30)\n",
    "    \n",
    "    #pipelines for combinations coluns\n",
    "    cat_preprocessing = Pipeline(steps=[\n",
    "        ('simple_imputer_mode', SimpleImputer(strategy='most_frequent') ),\n",
    "        ('onh_encoder', OneHotEncoder(sparse_output=False, drop='first') ),\n",
    "        (scaler_name,scaler)\n",
    "\n",
    "    ])\n",
    "    \n",
    "    num_preprocessing = Pipeline(steps=[\n",
    "        ('knn_imputer', KNNImputer() ),\n",
    "        (scaler_name,scaler)\n",
    "    ])\n",
    "    \n",
    "    # Create the ColumnTransformer preprocessing\n",
    "    preprocessor =ColumnTransformer(\n",
    "        transformers=[\n",
    "           ('cat_preprocessing', cat_preprocessing , cat_cols)\n",
    "            ,('num_preprocessing', num_preprocessing , scaling_col)\n",
    "            #,('discrete_preprocessing', discrete_preprocessing , discrete_col)\n",
    "            #,('OverSampling',SMOTENC(categorical_features=(cat_cols+discrete_col)),ml.columns)\n",
    "            ],\n",
    "        remainder='passthrough'\n",
    "         )\n",
    "   \n",
    "    for model_name, model in models:\n",
    "        # print model name\n",
    "        print(f\"For {model_name}:\")\n",
    "        # Steps Creation\n",
    "        stepss = list()\n",
    "        \n",
    "        stepss.append(('preprocessor', preprocessor))\n",
    "        stepss.append(('overSampling',SVMSMOTE()))\n",
    "        stepss.append((model_name, model))\n",
    "        \n",
    "        # Create the pipeline\n",
    "        pipeline = Pipeline(steps=stepss)\n",
    "        \n",
    "        ## scoring\n",
    "        # Perform cross-validation\n",
    "        # Example evaluation metrics\n",
    "        cv_results = cross_validate(pipeline, X, y, scoring={'roc_auc': 'roc_auc',\n",
    "                                                             'accuracy':'accuracy',\n",
    "                                                             'recall':'recall',\n",
    "                                                             'precision':'precision',\n",
    "                                                             'f1':'f1'}# interested scors and metrics\n",
    "                                                             \n",
    "                                    , cv=5, return_train_score=True,n_jobs=-1,error_score='raise')  # X and y are your input data and targets\n",
    "        \n",
    "        \n",
    "        # Access the results\n",
    "        test_roc_auc = cv_results['test_roc_auc'].mean()\n",
    "        train_roc_auc = cv_results['train_roc_auc'].mean()\n",
    "        print(\"test_roc_auc :\", test_roc_auc)\n",
    "        print(\"train_roc_auc:\", train_roc_auc)\n",
    "        print('-'*50)\n",
    "        test_accuracy = cv_results['test_accuracy'].mean()\n",
    "        train_accuracy = cv_results['train_accuracy'].mean()\n",
    "        print(\"test_accuracy :\", test_accuracy)\n",
    "        print(\"train_accuracy:\", train_accuracy)\n",
    "        print('-'*50)\n",
    "        test_recall = cv_results['test_recall'].mean()\n",
    "        train_recall = cv_results['train_recall'].mean()\n",
    "        print(\"test_recall :\", test_recall)\n",
    "        print(\"train_recall:\", train_recall)\n",
    "        print('-'*50)\n",
    "        test_precision = cv_results['test_precision'].mean()\n",
    "        train_precision = cv_results['train_precision'].mean()\n",
    "        print(\"test_precision :\", test_precision)\n",
    "        print(\"train_precision:\", train_precision)\n",
    "        print('-'*50)\n",
    "        test_f1 = cv_results['test_f1'].mean()\n",
    "        train_f1 = cv_results['train_f1'].mean()\n",
    "        print(\"test_f1 :\", test_f1)\n",
    "        print(\"train_f1:\", train_f1)\n",
    "        result_models.append([test_roc_auc,train_roc_auc,test_accuracy,train_accuracy, test_recall , train_recall ,\n",
    "        test_precision,train_precision,test_f1,train_f1])\n",
    "        print('*' * 50)\n",
    "    print('*' * 100)\n",
    "    print('_' * 100)"
   ]
  },
  {
   "cell_type": "code",
   "execution_count": 193,
   "id": "cf68ea8e",
   "metadata": {},
   "outputs": [],
   "source": [
    "# result_models to data frame to be clear\n",
    "results = pd.DataFrame(data=result_models,index=['KNN_std','Naive_std','DTC_std','RFC_std','ADA_std' ,'GB_std','LogisticR_std','SVM_std','XGB_std',\n",
    "    'KNN_minmax','Naive_minmax','DTC_minmax','RFC_minmax','ADA_minmax' ,'GB_minmax','LogisticR_minmax','SVM_minmax','XGB_minmax',\n",
    "    'KNN_robust','Naive_robust','DTC_robust','RFC_robust','ADA_robust' ,'GB_robust','LogisticR_robust','SVM_robust','XGB_robust'],\n",
    "            columns=['test_roc_auc','train_roc_auc','test_accuracy','train_accuracy', 'test_recall' , 'train_recall' ,\n",
    "                     'test_precision','train_precision','test_f1','train_f1'])"
   ]
  },
  {
   "cell_type": "code",
   "execution_count": 194,
   "id": "68f3bdd1",
   "metadata": {},
   "outputs": [
    {
     "data": {
      "text/html": [
       "<div>\n",
       "<style scoped>\n",
       "    .dataframe tbody tr th:only-of-type {\n",
       "        vertical-align: middle;\n",
       "    }\n",
       "\n",
       "    .dataframe tbody tr th {\n",
       "        vertical-align: top;\n",
       "    }\n",
       "\n",
       "    .dataframe thead th {\n",
       "        text-align: right;\n",
       "    }\n",
       "</style>\n",
       "<table border=\"1\" class=\"dataframe\">\n",
       "  <thead>\n",
       "    <tr style=\"text-align: right;\">\n",
       "      <th></th>\n",
       "      <th>test_roc_auc</th>\n",
       "      <th>train_roc_auc</th>\n",
       "      <th>test_accuracy</th>\n",
       "      <th>train_accuracy</th>\n",
       "      <th>test_recall</th>\n",
       "      <th>train_recall</th>\n",
       "      <th>test_precision</th>\n",
       "      <th>train_precision</th>\n",
       "      <th>test_f1</th>\n",
       "      <th>train_f1</th>\n",
       "    </tr>\n",
       "  </thead>\n",
       "  <tbody>\n",
       "    <tr>\n",
       "      <th>KNN_std</th>\n",
       "      <td>0.714601</td>\n",
       "      <td>0.907025</td>\n",
       "      <td>0.708423</td>\n",
       "      <td>0.839576</td>\n",
       "      <td>0.789076</td>\n",
       "      <td>0.883332</td>\n",
       "      <td>0.787741</td>\n",
       "      <td>0.883928</td>\n",
       "      <td>0.787939</td>\n",
       "      <td>0.883131</td>\n",
       "    </tr>\n",
       "    <tr>\n",
       "      <th>Naive_std</th>\n",
       "      <td>0.748731</td>\n",
       "      <td>0.773396</td>\n",
       "      <td>0.781714</td>\n",
       "      <td>0.802932</td>\n",
       "      <td>0.917031</td>\n",
       "      <td>0.947862</td>\n",
       "      <td>0.796991</td>\n",
       "      <td>0.801665</td>\n",
       "      <td>0.852210</td>\n",
       "      <td>0.868625</td>\n",
       "    </tr>\n",
       "    <tr>\n",
       "      <th>DTC_std</th>\n",
       "      <td>0.678581</td>\n",
       "      <td>1.000000</td>\n",
       "      <td>0.705131</td>\n",
       "      <td>1.000000</td>\n",
       "      <td>0.748796</td>\n",
       "      <td>1.000000</td>\n",
       "      <td>0.809917</td>\n",
       "      <td>1.000000</td>\n",
       "      <td>0.777110</td>\n",
       "      <td>1.000000</td>\n",
       "    </tr>\n",
       "    <tr>\n",
       "      <th>RFC_std</th>\n",
       "      <td>0.769293</td>\n",
       "      <td>1.000000</td>\n",
       "      <td>0.760576</td>\n",
       "      <td>1.000000</td>\n",
       "      <td>0.872045</td>\n",
       "      <td>1.000000</td>\n",
       "      <td>0.798643</td>\n",
       "      <td>1.000000</td>\n",
       "      <td>0.833673</td>\n",
       "      <td>1.000000</td>\n",
       "    </tr>\n",
       "    <tr>\n",
       "      <th>ADA_std</th>\n",
       "      <td>0.730373</td>\n",
       "      <td>0.898527</td>\n",
       "      <td>0.745835</td>\n",
       "      <td>0.844059</td>\n",
       "      <td>0.833950</td>\n",
       "      <td>0.916487</td>\n",
       "      <td>0.806520</td>\n",
       "      <td>0.864822</td>\n",
       "      <td>0.817711</td>\n",
       "      <td>0.889758</td>\n",
       "    </tr>\n",
       "    <tr>\n",
       "      <th>GB_std</th>\n",
       "      <td>0.743474</td>\n",
       "      <td>0.971892</td>\n",
       "      <td>0.763868</td>\n",
       "      <td>0.918977</td>\n",
       "      <td>0.876751</td>\n",
       "      <td>0.980454</td>\n",
       "      <td>0.801109</td>\n",
       "      <td>0.908870</td>\n",
       "      <td>0.836367</td>\n",
       "      <td>0.943295</td>\n",
       "    </tr>\n",
       "    <tr>\n",
       "      <th>LogisticR_std</th>\n",
       "      <td>0.761540</td>\n",
       "      <td>0.801270</td>\n",
       "      <td>0.740944</td>\n",
       "      <td>0.774434</td>\n",
       "      <td>0.829216</td>\n",
       "      <td>0.859604</td>\n",
       "      <td>0.801691</td>\n",
       "      <td>0.820849</td>\n",
       "      <td>0.813703</td>\n",
       "      <td>0.839501</td>\n",
       "    </tr>\n",
       "    <tr>\n",
       "      <th>SVM_std</th>\n",
       "      <td>0.738137</td>\n",
       "      <td>0.892226</td>\n",
       "      <td>0.772011</td>\n",
       "      <td>0.844868</td>\n",
       "      <td>0.900476</td>\n",
       "      <td>0.944330</td>\n",
       "      <td>0.795779</td>\n",
       "      <td>0.847895</td>\n",
       "      <td>0.844603</td>\n",
       "      <td>0.893020</td>\n",
       "    </tr>\n",
       "    <tr>\n",
       "      <th>XGB_std</th>\n",
       "      <td>0.748492</td>\n",
       "      <td>1.000000</td>\n",
       "      <td>0.744302</td>\n",
       "      <td>1.000000</td>\n",
       "      <td>0.831681</td>\n",
       "      <td>1.000000</td>\n",
       "      <td>0.804945</td>\n",
       "      <td>1.000000</td>\n",
       "      <td>0.817466</td>\n",
       "      <td>1.000000</td>\n",
       "    </tr>\n",
       "    <tr>\n",
       "      <th>KNN_minmax</th>\n",
       "      <td>0.727443</td>\n",
       "      <td>0.901708</td>\n",
       "      <td>0.732840</td>\n",
       "      <td>0.833465</td>\n",
       "      <td>0.841008</td>\n",
       "      <td>0.893382</td>\n",
       "      <td>0.785808</td>\n",
       "      <td>0.868635</td>\n",
       "      <td>0.811858</td>\n",
       "      <td>0.880587</td>\n",
       "    </tr>\n",
       "    <tr>\n",
       "      <th>Naive_minmax</th>\n",
       "      <td>0.748978</td>\n",
       "      <td>0.765631</td>\n",
       "      <td>0.770305</td>\n",
       "      <td>0.798051</td>\n",
       "      <td>0.902717</td>\n",
       "      <td>0.934262</td>\n",
       "      <td>0.793104</td>\n",
       "      <td>0.803777</td>\n",
       "      <td>0.843188</td>\n",
       "      <td>0.864014</td>\n",
       "    </tr>\n",
       "    <tr>\n",
       "      <th>DTC_minmax</th>\n",
       "      <td>0.671495</td>\n",
       "      <td>1.000000</td>\n",
       "      <td>0.697121</td>\n",
       "      <td>1.000000</td>\n",
       "      <td>0.739076</td>\n",
       "      <td>1.000000</td>\n",
       "      <td>0.805267</td>\n",
       "      <td>1.000000</td>\n",
       "      <td>0.768776</td>\n",
       "      <td>1.000000</td>\n",
       "    </tr>\n",
       "    <tr>\n",
       "      <th>RFC_minmax</th>\n",
       "      <td>0.765234</td>\n",
       "      <td>1.000000</td>\n",
       "      <td>0.755658</td>\n",
       "      <td>1.000000</td>\n",
       "      <td>0.860224</td>\n",
       "      <td>1.000000</td>\n",
       "      <td>0.800936</td>\n",
       "      <td>1.000000</td>\n",
       "      <td>0.829147</td>\n",
       "      <td>1.000000</td>\n",
       "    </tr>\n",
       "    <tr>\n",
       "      <th>ADA_minmax</th>\n",
       "      <td>0.737088</td>\n",
       "      <td>0.895892</td>\n",
       "      <td>0.744249</td>\n",
       "      <td>0.837142</td>\n",
       "      <td>0.829272</td>\n",
       "      <td>0.907597</td>\n",
       "      <td>0.806918</td>\n",
       "      <td>0.862640</td>\n",
       "      <td>0.816385</td>\n",
       "      <td>0.884454</td>\n",
       "    </tr>\n",
       "    <tr>\n",
       "      <th>GB_minmax</th>\n",
       "      <td>0.757196</td>\n",
       "      <td>0.975949</td>\n",
       "      <td>0.765480</td>\n",
       "      <td>0.926715</td>\n",
       "      <td>0.867283</td>\n",
       "      <td>0.982821</td>\n",
       "      <td>0.807989</td>\n",
       "      <td>0.916697</td>\n",
       "      <td>0.835642</td>\n",
       "      <td>0.948567</td>\n",
       "    </tr>\n",
       "    <tr>\n",
       "      <th>LogisticR_minmax</th>\n",
       "      <td>0.768964</td>\n",
       "      <td>0.799829</td>\n",
       "      <td>0.757230</td>\n",
       "      <td>0.785440</td>\n",
       "      <td>0.869580</td>\n",
       "      <td>0.896327</td>\n",
       "      <td>0.795862</td>\n",
       "      <td>0.811669</td>\n",
       "      <td>0.829815</td>\n",
       "      <td>0.851206</td>\n",
       "    </tr>\n",
       "    <tr>\n",
       "      <th>SVM_minmax</th>\n",
       "      <td>0.752705</td>\n",
       "      <td>0.869414</td>\n",
       "      <td>0.767040</td>\n",
       "      <td>0.805791</td>\n",
       "      <td>0.907619</td>\n",
       "      <td>0.938391</td>\n",
       "      <td>0.786844</td>\n",
       "      <td>0.811230</td>\n",
       "      <td>0.841104</td>\n",
       "      <td>0.868564</td>\n",
       "    </tr>\n",
       "    <tr>\n",
       "      <th>XGB_minmax</th>\n",
       "      <td>0.753147</td>\n",
       "      <td>1.000000</td>\n",
       "      <td>0.750753</td>\n",
       "      <td>1.000000</td>\n",
       "      <td>0.836387</td>\n",
       "      <td>1.000000</td>\n",
       "      <td>0.809538</td>\n",
       "      <td>1.000000</td>\n",
       "      <td>0.822087</td>\n",
       "      <td>1.000000</td>\n",
       "    </tr>\n",
       "    <tr>\n",
       "      <th>KNN_robust</th>\n",
       "      <td>0.662871</td>\n",
       "      <td>0.894573</td>\n",
       "      <td>0.683940</td>\n",
       "      <td>0.828991</td>\n",
       "      <td>0.779468</td>\n",
       "      <td>0.876781</td>\n",
       "      <td>0.765211</td>\n",
       "      <td>0.874948</td>\n",
       "      <td>0.770414</td>\n",
       "      <td>0.875683</td>\n",
       "    </tr>\n",
       "    <tr>\n",
       "      <th>Naive_robust</th>\n",
       "      <td>0.759622</td>\n",
       "      <td>0.776869</td>\n",
       "      <td>0.791550</td>\n",
       "      <td>0.803748</td>\n",
       "      <td>0.938403</td>\n",
       "      <td>0.952013</td>\n",
       "      <td>0.795848</td>\n",
       "      <td>0.800379</td>\n",
       "      <td>0.860997</td>\n",
       "      <td>0.869590</td>\n",
       "    </tr>\n",
       "    <tr>\n",
       "      <th>DTC_robust</th>\n",
       "      <td>0.649375</td>\n",
       "      <td>1.000000</td>\n",
       "      <td>0.682407</td>\n",
       "      <td>1.000000</td>\n",
       "      <td>0.736807</td>\n",
       "      <td>1.000000</td>\n",
       "      <td>0.789164</td>\n",
       "      <td>1.000000</td>\n",
       "      <td>0.760816</td>\n",
       "      <td>1.000000</td>\n",
       "    </tr>\n",
       "    <tr>\n",
       "      <th>RFC_robust</th>\n",
       "      <td>0.762671</td>\n",
       "      <td>1.000000</td>\n",
       "      <td>0.781741</td>\n",
       "      <td>1.000000</td>\n",
       "      <td>0.905210</td>\n",
       "      <td>1.000000</td>\n",
       "      <td>0.804079</td>\n",
       "      <td>1.000000</td>\n",
       "      <td>0.851077</td>\n",
       "      <td>1.000000</td>\n",
       "    </tr>\n",
       "    <tr>\n",
       "      <th>ADA_robust</th>\n",
       "      <td>0.730539</td>\n",
       "      <td>0.902569</td>\n",
       "      <td>0.765414</td>\n",
       "      <td>0.845282</td>\n",
       "      <td>0.871961</td>\n",
       "      <td>0.934843</td>\n",
       "      <td>0.805648</td>\n",
       "      <td>0.854089</td>\n",
       "      <td>0.836611</td>\n",
       "      <td>0.892528</td>\n",
       "    </tr>\n",
       "    <tr>\n",
       "      <th>GB_robust</th>\n",
       "      <td>0.741916</td>\n",
       "      <td>0.978150</td>\n",
       "      <td>0.765454</td>\n",
       "      <td>0.919792</td>\n",
       "      <td>0.886162</td>\n",
       "      <td>0.990520</td>\n",
       "      <td>0.796819</td>\n",
       "      <td>0.902379</td>\n",
       "      <td>0.838686</td>\n",
       "      <td>0.944383</td>\n",
       "    </tr>\n",
       "    <tr>\n",
       "      <th>LogisticR_robust</th>\n",
       "      <td>0.767711</td>\n",
       "      <td>0.794906</td>\n",
       "      <td>0.768666</td>\n",
       "      <td>0.789899</td>\n",
       "      <td>0.869524</td>\n",
       "      <td>0.891590</td>\n",
       "      <td>0.810930</td>\n",
       "      <td>0.818927</td>\n",
       "      <td>0.837090</td>\n",
       "      <td>0.853582</td>\n",
       "    </tr>\n",
       "    <tr>\n",
       "      <th>SVM_robust</th>\n",
       "      <td>0.655368</td>\n",
       "      <td>0.708528</td>\n",
       "      <td>0.672598</td>\n",
       "      <td>0.684035</td>\n",
       "      <td>0.940812</td>\n",
       "      <td>0.944918</td>\n",
       "      <td>0.693045</td>\n",
       "      <td>0.700174</td>\n",
       "      <td>0.797856</td>\n",
       "      <td>0.804047</td>\n",
       "    </tr>\n",
       "    <tr>\n",
       "      <th>XGB_robust</th>\n",
       "      <td>0.755575</td>\n",
       "      <td>1.000000</td>\n",
       "      <td>0.755631</td>\n",
       "      <td>1.000000</td>\n",
       "      <td>0.843501</td>\n",
       "      <td>1.000000</td>\n",
       "      <td>0.810183</td>\n",
       "      <td>1.000000</td>\n",
       "      <td>0.825992</td>\n",
       "      <td>1.000000</td>\n",
       "    </tr>\n",
       "  </tbody>\n",
       "</table>\n",
       "</div>"
      ],
      "text/plain": [
       "                  test_roc_auc  train_roc_auc  test_accuracy  train_accuracy  \\\n",
       "KNN_std               0.714601       0.907025       0.708423        0.839576   \n",
       "Naive_std             0.748731       0.773396       0.781714        0.802932   \n",
       "DTC_std               0.678581       1.000000       0.705131        1.000000   \n",
       "RFC_std               0.769293       1.000000       0.760576        1.000000   \n",
       "ADA_std               0.730373       0.898527       0.745835        0.844059   \n",
       "GB_std                0.743474       0.971892       0.763868        0.918977   \n",
       "LogisticR_std         0.761540       0.801270       0.740944        0.774434   \n",
       "SVM_std               0.738137       0.892226       0.772011        0.844868   \n",
       "XGB_std               0.748492       1.000000       0.744302        1.000000   \n",
       "KNN_minmax            0.727443       0.901708       0.732840        0.833465   \n",
       "Naive_minmax          0.748978       0.765631       0.770305        0.798051   \n",
       "DTC_minmax            0.671495       1.000000       0.697121        1.000000   \n",
       "RFC_minmax            0.765234       1.000000       0.755658        1.000000   \n",
       "ADA_minmax            0.737088       0.895892       0.744249        0.837142   \n",
       "GB_minmax             0.757196       0.975949       0.765480        0.926715   \n",
       "LogisticR_minmax      0.768964       0.799829       0.757230        0.785440   \n",
       "SVM_minmax            0.752705       0.869414       0.767040        0.805791   \n",
       "XGB_minmax            0.753147       1.000000       0.750753        1.000000   \n",
       "KNN_robust            0.662871       0.894573       0.683940        0.828991   \n",
       "Naive_robust          0.759622       0.776869       0.791550        0.803748   \n",
       "DTC_robust            0.649375       1.000000       0.682407        1.000000   \n",
       "RFC_robust            0.762671       1.000000       0.781741        1.000000   \n",
       "ADA_robust            0.730539       0.902569       0.765414        0.845282   \n",
       "GB_robust             0.741916       0.978150       0.765454        0.919792   \n",
       "LogisticR_robust      0.767711       0.794906       0.768666        0.789899   \n",
       "SVM_robust            0.655368       0.708528       0.672598        0.684035   \n",
       "XGB_robust            0.755575       1.000000       0.755631        1.000000   \n",
       "\n",
       "                  test_recall  train_recall  test_precision  train_precision  \\\n",
       "KNN_std              0.789076      0.883332        0.787741         0.883928   \n",
       "Naive_std            0.917031      0.947862        0.796991         0.801665   \n",
       "DTC_std              0.748796      1.000000        0.809917         1.000000   \n",
       "RFC_std              0.872045      1.000000        0.798643         1.000000   \n",
       "ADA_std              0.833950      0.916487        0.806520         0.864822   \n",
       "GB_std               0.876751      0.980454        0.801109         0.908870   \n",
       "LogisticR_std        0.829216      0.859604        0.801691         0.820849   \n",
       "SVM_std              0.900476      0.944330        0.795779         0.847895   \n",
       "XGB_std              0.831681      1.000000        0.804945         1.000000   \n",
       "KNN_minmax           0.841008      0.893382        0.785808         0.868635   \n",
       "Naive_minmax         0.902717      0.934262        0.793104         0.803777   \n",
       "DTC_minmax           0.739076      1.000000        0.805267         1.000000   \n",
       "RFC_minmax           0.860224      1.000000        0.800936         1.000000   \n",
       "ADA_minmax           0.829272      0.907597        0.806918         0.862640   \n",
       "GB_minmax            0.867283      0.982821        0.807989         0.916697   \n",
       "LogisticR_minmax     0.869580      0.896327        0.795862         0.811669   \n",
       "SVM_minmax           0.907619      0.938391        0.786844         0.811230   \n",
       "XGB_minmax           0.836387      1.000000        0.809538         1.000000   \n",
       "KNN_robust           0.779468      0.876781        0.765211         0.874948   \n",
       "Naive_robust         0.938403      0.952013        0.795848         0.800379   \n",
       "DTC_robust           0.736807      1.000000        0.789164         1.000000   \n",
       "RFC_robust           0.905210      1.000000        0.804079         1.000000   \n",
       "ADA_robust           0.871961      0.934843        0.805648         0.854089   \n",
       "GB_robust            0.886162      0.990520        0.796819         0.902379   \n",
       "LogisticR_robust     0.869524      0.891590        0.810930         0.818927   \n",
       "SVM_robust           0.940812      0.944918        0.693045         0.700174   \n",
       "XGB_robust           0.843501      1.000000        0.810183         1.000000   \n",
       "\n",
       "                   test_f1  train_f1  \n",
       "KNN_std           0.787939  0.883131  \n",
       "Naive_std         0.852210  0.868625  \n",
       "DTC_std           0.777110  1.000000  \n",
       "RFC_std           0.833673  1.000000  \n",
       "ADA_std           0.817711  0.889758  \n",
       "GB_std            0.836367  0.943295  \n",
       "LogisticR_std     0.813703  0.839501  \n",
       "SVM_std           0.844603  0.893020  \n",
       "XGB_std           0.817466  1.000000  \n",
       "KNN_minmax        0.811858  0.880587  \n",
       "Naive_minmax      0.843188  0.864014  \n",
       "DTC_minmax        0.768776  1.000000  \n",
       "RFC_minmax        0.829147  1.000000  \n",
       "ADA_minmax        0.816385  0.884454  \n",
       "GB_minmax         0.835642  0.948567  \n",
       "LogisticR_minmax  0.829815  0.851206  \n",
       "SVM_minmax        0.841104  0.868564  \n",
       "XGB_minmax        0.822087  1.000000  \n",
       "KNN_robust        0.770414  0.875683  \n",
       "Naive_robust      0.860997  0.869590  \n",
       "DTC_robust        0.760816  1.000000  \n",
       "RFC_robust        0.851077  1.000000  \n",
       "ADA_robust        0.836611  0.892528  \n",
       "GB_robust         0.838686  0.944383  \n",
       "LogisticR_robust  0.837090  0.853582  \n",
       "SVM_robust        0.797856  0.804047  \n",
       "XGB_robust        0.825992  1.000000  "
      ]
     },
     "execution_count": 194,
     "metadata": {},
     "output_type": "execute_result"
    }
   ],
   "source": [
    "results #SVCSMOTE"
   ]
  },
  {
   "cell_type": "code",
   "execution_count": 201,
   "id": "6b8b8dca",
   "metadata": {},
   "outputs": [
    {
     "name": "stdout",
     "output_type": "stream",
     "text": [
      "For std scaler: :\n",
      "==============================\n",
      "For KNN:\n",
      "test_roc_auc : 0.7222877707088233\n",
      "train_roc_auc: 0.9088129574474353\n",
      "--------------------------------------------------\n",
      "test_accuracy : 0.7117153138744502\n",
      "train_accuracy: 0.8403904426009637\n",
      "--------------------------------------------------\n",
      "test_recall : 0.8033333333333333\n",
      "train_recall: 0.8880410162765789\n",
      "--------------------------------------------------\n",
      "test_precision : 0.7848184120779402\n",
      "train_precision: 0.8809885680974633\n",
      "--------------------------------------------------\n",
      "test_f1 : 0.7928506299469011\n",
      "train_f1: 0.884205951871637\n",
      "**************************************************\n",
      "For Naive:\n",
      "test_roc_auc : 0.7553180273458912\n",
      "train_roc_auc: 0.7876731711163817\n",
      "--------------------------------------------------\n",
      "test_accuracy : 0.7866186858589896\n",
      "train_accuracy: 0.8045642706936235\n",
      "--------------------------------------------------\n",
      "test_recall : 0.9384033613445378\n",
      "train_recall: 0.9549751549523291\n",
      "--------------------------------------------------\n",
      "test_precision : 0.79104862724551\n",
      "train_precision: 0.7997134026417607\n",
      "--------------------------------------------------\n",
      "test_f1 : 0.8579745666803476\n",
      "train_f1: 0.8704165949589674\n",
      "**************************************************\n",
      "For DTC:\n",
      "test_roc_auc : 0.6591774685582734\n",
      "train_roc_auc: 1.0\n",
      "--------------------------------------------------\n",
      "test_accuracy : 0.6938158070105291\n",
      "train_accuracy: 1.0\n",
      "--------------------------------------------------\n",
      "test_recall : 0.7511484593837535\n",
      "train_recall: 1.0\n",
      "--------------------------------------------------\n",
      "test_precision : 0.7928118515427752\n",
      "train_precision: 1.0\n",
      "--------------------------------------------------\n",
      "test_f1 : 0.7711303771636958\n",
      "train_f1: 1.0\n",
      "**************************************************\n",
      "For RFC:\n",
      "test_roc_auc : 0.7393338077471205\n",
      "train_roc_auc: 1.0\n",
      "--------------------------------------------------\n",
      "test_accuracy : 0.7507663601226175\n",
      "train_accuracy: 1.0\n",
      "--------------------------------------------------\n",
      "test_recall : 0.8601120448179271\n",
      "train_recall: 1.0\n",
      "--------------------------------------------------\n",
      "test_precision : 0.7953271931656273\n",
      "train_precision: 1.0\n",
      "--------------------------------------------------\n",
      "test_f1 : 0.8260009704909954\n",
      "train_f1: 1.0\n",
      "**************************************************\n",
      "For ADA:\n",
      "test_roc_auc : 0.7318190461069719\n",
      "train_roc_auc: 0.8723693226314841\n",
      "--------------------------------------------------\n",
      "test_accuracy : 0.7491003598560576\n",
      "train_accuracy: 0.8298089182521153\n",
      "--------------------------------------------------\n",
      "test_recall : 0.8434173669467787\n",
      "train_recall: 0.9129475181289834\n",
      "--------------------------------------------------\n",
      "test_precision : 0.8037328582129609\n",
      "train_precision: 0.8503677410608257\n",
      "--------------------------------------------------\n",
      "test_f1 : 0.8214743038537122\n",
      "train_f1: 0.8803719744576526\n",
      "**************************************************\n",
      "For GB:\n",
      "test_roc_auc : 0.7290297576520487\n",
      "train_roc_auc: 0.949344650326497\n",
      "--------------------------------------------------\n",
      "test_accuracy : 0.7394242303078769\n",
      "train_accuracy: 0.8916985412216647\n",
      "--------------------------------------------------\n",
      "test_recall : 0.8481512605042016\n",
      "train_recall: 0.9745368988464171\n",
      "--------------------------------------------------\n",
      "test_precision : 0.7905933890880128\n",
      "train_precision: 0.8807726331032276\n",
      "--------------------------------------------------\n",
      "test_f1 : 0.8171878464772299\n",
      "train_f1: 0.9252025354999951\n",
      "**************************************************\n",
      "For LogisticR:\n",
      "test_roc_auc : 0.7583283245821946\n",
      "train_roc_auc: 0.7992766934420062\n",
      "--------------------------------------------------\n",
      "test_accuracy : 0.7491003598560576\n",
      "train_accuracy: 0.7854204957528189\n",
      "--------------------------------------------------\n",
      "test_recall : 0.8458263305322129\n",
      "train_recall: 0.8827120608220813\n",
      "--------------------------------------------------\n",
      "test_precision : 0.800691694506728\n",
      "train_precision: 0.8191140869382219\n",
      "--------------------------------------------------\n",
      "test_f1 : 0.8217405466306922\n",
      "train_f1: 0.8496821563143035\n",
      "**************************************************\n",
      "For SVM:\n",
      "test_roc_auc : 0.7064444482246339\n",
      "train_roc_auc: 0.845493192203586\n",
      "--------------------------------------------------\n",
      "test_accuracy : 0.7622550979608157\n",
      "train_accuracy: 0.8192124915139172\n",
      "--------------------------------------------------\n",
      "test_recall : 0.8960504201680672\n",
      "train_recall: 0.9324179586676733\n",
      "--------------------------------------------------\n",
      "test_precision : 0.7860244609342547\n",
      "train_precision: 0.8293203402021352\n",
      "--------------------------------------------------\n",
      "test_f1 : 0.8351875876278765\n",
      "train_f1: 0.8757156102602714\n",
      "**************************************************\n",
      "For XGB:\n",
      "test_roc_auc : 0.7358429255642879\n",
      "train_roc_auc: 0.9999961462869476\n",
      "--------------------------------------------------\n",
      "test_accuracy : 0.716620018659203\n",
      "train_accuracy: 0.9987780040733197\n",
      "--------------------------------------------------\n",
      "test_recall : 0.796330532212885\n",
      "train_recall: 1.0\n",
      "--------------------------------------------------\n",
      "test_precision : 0.7936474589237537\n",
      "train_precision: 0.9982265975458624\n",
      "--------------------------------------------------\n",
      "test_f1 : 0.7947077572214291\n",
      "train_f1: 0.9991119864325182\n",
      "**************************************************\n",
      "****************************************************************************************************\n",
      "____________________________________________________________________________________________________\n",
      "For MinMax scaler : :\n",
      "==============================\n",
      "For KNN:\n",
      "test_roc_auc : 0.7216987982777456\n",
      "train_roc_auc: 0.9018591703346729\n",
      "--------------------------------------------------\n",
      "test_accuracy : 0.7329334932693589\n",
      "train_accuracy: 0.8322454589108009\n",
      "--------------------------------------------------\n",
      "test_recall : 0.8270028011204481\n",
      "train_recall: 0.8868593401576739\n",
      "--------------------------------------------------\n",
      "test_precision : 0.7942239370484432\n",
      "train_precision: 0.8715602709262658\n",
      "--------------------------------------------------\n",
      "test_f1 : 0.8095185718170462\n",
      "train_f1: 0.8790404160198086\n",
      "**************************************************\n",
      "For Naive:\n",
      "test_roc_auc : 0.7712729599262107\n",
      "train_roc_auc: 0.779065748534175\n",
      "--------------------------------------------------\n",
      "test_accuracy : 0.7947620951619352\n",
      "train_accuracy: 0.7972372625966585\n",
      "--------------------------------------------------\n",
      "test_recall : 0.9406722689075628\n",
      "train_recall: 0.9443260232121222\n",
      "--------------------------------------------------\n",
      "test_precision : 0.7985171985626437\n",
      "train_precision: 0.7978157701141037\n",
      "--------------------------------------------------\n",
      "test_f1 : 0.8630939193549259\n",
      "train_f1: 0.864866386736655\n",
      "**************************************************\n",
      "For DTC:\n",
      "test_roc_auc : 0.6518142641672053\n",
      "train_roc_auc: 1.0\n",
      "--------------------------------------------------\n",
      "test_accuracy : 0.6954418232706917\n",
      "train_accuracy: 1.0\n",
      "--------------------------------------------------\n",
      "test_recall : 0.7677310924369747\n",
      "train_recall: 1.0\n",
      "--------------------------------------------------\n",
      "test_precision : 0.7848489300884246\n",
      "train_precision: 1.0\n",
      "--------------------------------------------------\n",
      "test_f1 : 0.7758959879565119\n",
      "train_f1: 1.0\n",
      "**************************************************\n",
      "For RFC:\n",
      "test_roc_auc : 0.7513015192581757\n",
      "train_roc_auc: 1.0\n",
      "--------------------------------------------------\n",
      "test_accuracy : 0.7556577369052379\n",
      "train_accuracy: 1.0\n",
      "--------------------------------------------------\n",
      "test_recall : 0.8553781512605042\n",
      "train_recall: 1.0\n",
      "--------------------------------------------------\n",
      "test_precision : 0.8027646674060309\n",
      "train_precision: 1.0\n",
      "--------------------------------------------------\n",
      "test_f1 : 0.827969605742885\n",
      "train_f1: 1.0\n",
      "**************************************************\n",
      "For ADA:\n",
      "test_roc_auc : 0.7073174735481237\n",
      "train_roc_auc: 0.882459381239206\n",
      "--------------------------------------------------\n",
      "test_accuracy : 0.732826869252299\n",
      "train_accuracy: 0.8387735333565149\n",
      "--------------------------------------------------\n",
      "test_recall : 0.8222408963585434\n",
      "train_recall: 0.9158973188418521\n",
      "--------------------------------------------------\n",
      "test_precision : 0.7970457257214316\n",
      "train_precision: 0.8588070004939231\n",
      "--------------------------------------------------\n",
      "test_f1 : 0.8081055220306934\n",
      "train_f1: 0.8863448720708872\n",
      "**************************************************\n",
      "For GB:\n"
     ]
    },
    {
     "name": "stdout",
     "output_type": "stream",
     "text": [
      "test_roc_auc : 0.7248079663714339\n",
      "train_roc_auc: 0.9643852062410814\n",
      "--------------------------------------------------\n",
      "test_accuracy : 0.757297081167533\n",
      "train_accuracy: 0.904323348732469\n",
      "--------------------------------------------------\n",
      "test_recall : 0.8694117647058823\n",
      "train_recall: 0.976902006917985\n",
      "--------------------------------------------------\n",
      "test_precision : 0.7984903739849178\n",
      "train_precision: 0.8937927734938743\n",
      "--------------------------------------------------\n",
      "test_f1 : 0.8308568673402608\n",
      "train_f1: 0.9334944179852072\n",
      "**************************************************\n",
      "For LogisticR:\n",
      "test_roc_auc : 0.7662530761292372\n",
      "train_roc_auc: 0.7959560666309058\n",
      "--------------------------------------------------\n",
      "test_accuracy : 0.7719845395175262\n",
      "train_accuracy: 0.7846182504594903\n",
      "--------------------------------------------------\n",
      "test_recall : 0.8814005602240895\n",
      "train_recall: 0.8904307060207539\n",
      "--------------------------------------------------\n",
      "test_precision : 0.806056812848513\n",
      "train_precision: 0.81395254318222\n",
      "--------------------------------------------------\n",
      "test_f1 : 0.841353810318888\n",
      "train_f1: 0.8500811575670706\n",
      "**************************************************\n",
      "For SVM:\n",
      "test_roc_auc : 0.7241642756967834\n",
      "train_roc_auc: 0.8200738838331653\n",
      "--------------------------------------------------\n",
      "test_accuracy : 0.7655737704918033\n",
      "train_accuracy: 0.7931548358253441\n",
      "--------------------------------------------------\n",
      "test_recall : 0.8957422969187675\n",
      "train_recall: 0.9200358190086563\n",
      "--------------------------------------------------\n",
      "test_precision : 0.7934821981743639\n",
      "train_precision: 0.807820877125541\n",
      "--------------------------------------------------\n",
      "test_f1 : 0.8370229138482911\n",
      "train_f1: 0.8578924681182061\n",
      "**************************************************\n",
      "For XGB:\n",
      "test_roc_auc : 0.753056018628774\n",
      "train_roc_auc: 0.9999884388608425\n",
      "--------------------------------------------------\n",
      "test_accuracy : 0.7312275089964014\n",
      "train_accuracy: 0.9987780040733198\n",
      "--------------------------------------------------\n",
      "test_recall : 0.8056862745098039\n",
      "train_recall: 1.0\n",
      "--------------------------------------------------\n",
      "test_precision : 0.8050134322606233\n",
      "train_precision: 0.9982300884955752\n",
      "--------------------------------------------------\n",
      "test_f1 : 0.8049406165459052\n",
      "train_f1: 0.9991128630487793\n",
      "**************************************************\n",
      "****************************************************************************************************\n",
      "____________________________________________________________________________________________________\n",
      "For Robust scaler:  :\n",
      "==============================\n",
      "For KNN:\n",
      "test_roc_auc : 0.7084172629915664\n",
      "train_roc_auc: 0.8824007742328164\n",
      "--------------------------------------------------\n",
      "test_accuracy : 0.7279488204718112\n",
      "train_accuracy: 0.8216664182935108\n",
      "--------------------------------------------------\n",
      "test_recall : 0.8292156862745099\n",
      "train_recall: 0.8856495706986462\n",
      "--------------------------------------------------\n",
      "test_precision : 0.7883199499731164\n",
      "train_precision: 0.8596978700355551\n",
      "--------------------------------------------------\n",
      "test_f1 : 0.8067758346805978\n",
      "train_f1: 0.8720394059672982\n",
      "**************************************************\n",
      "For Naive:\n",
      "test_roc_auc : 0.7620179029776554\n",
      "train_roc_auc: 0.7732558888284817\n",
      "--------------------------------------------------\n",
      "test_accuracy : 0.7980541116886579\n",
      "train_accuracy: 0.8057854387097843\n",
      "--------------------------------------------------\n",
      "test_recall : 0.9478151260504202\n",
      "train_recall: 0.9585359858128634\n",
      "--------------------------------------------------\n",
      "test_precision : 0.7978516230034511\n",
      "train_precision: 0.7990777598408701\n",
      "--------------------------------------------------\n",
      "test_f1 : 0.8660186524962498\n",
      "train_f1: 0.8715413379195086\n",
      "**************************************************\n",
      "For DTC:\n",
      "test_roc_auc : 0.6574169019834655\n",
      "train_roc_auc: 0.999851903373796\n",
      "--------------------------------------------------\n",
      "test_accuracy : 0.6921631347461016\n",
      "train_accuracy: 0.9943031477157949\n",
      "--------------------------------------------------\n",
      "test_recall : 0.7536134453781512\n",
      "train_recall: 0.9917071971625727\n",
      "--------------------------------------------------\n",
      "test_precision : 0.7900944261793715\n",
      "train_precision: 1.0\n",
      "--------------------------------------------------\n",
      "test_f1 : 0.7710258866498332\n",
      "train_f1: 0.995819963461219\n",
      "**************************************************\n",
      "For RFC:\n",
      "test_roc_auc : 0.7493822697770067\n",
      "train_roc_auc: 0.9929358052453102\n",
      "--------------------------------------------------\n",
      "test_accuracy : 0.7475409836065574\n",
      "train_accuracy: 0.9776058483599094\n",
      "--------------------------------------------------\n",
      "test_recall : 0.8576470588235294\n",
      "train_recall: 0.9881656804733726\n",
      "--------------------------------------------------\n",
      "test_precision : 0.793196901757045\n",
      "train_precision: 0.9798010322559664\n",
      "--------------------------------------------------\n",
      "test_f1 : 0.8234820566329903\n",
      "train_f1: 0.9839319661295747\n",
      "**************************************************\n",
      "For ADA:\n",
      "test_roc_auc : 0.7212817110649927\n",
      "train_roc_auc: 0.848608802024286\n",
      "--------------------------------------------------\n",
      "test_accuracy : 0.7686658669865387\n",
      "train_accuracy: 0.8285836106833573\n",
      "--------------------------------------------------\n",
      "test_recall : 0.9075910364145658\n",
      "train_recall: 0.9620792583358208\n",
      "--------------------------------------------------\n",
      "test_precision : 0.7895652755484217\n",
      "train_precision: 0.8200551554857786\n",
      "--------------------------------------------------\n",
      "test_f1 : 0.8435209609307336\n",
      "train_f1: 0.8852584830191997\n",
      "**************************************************\n",
      "For GB:\n",
      "test_roc_auc : 0.7362151797291118\n",
      "train_roc_auc: 0.914804698787002\n",
      "--------------------------------------------------\n",
      "test_accuracy : 0.7850193256030921\n",
      "train_accuracy: 0.864014869272929\n",
      "--------------------------------------------------\n",
      "test_recall : 0.9360224089635855\n",
      "train_recall: 0.9798605867996418\n",
      "--------------------------------------------------\n",
      "test_precision : 0.7909364047842752\n",
      "train_precision: 0.846876676825542\n",
      "--------------------------------------------------\n",
      "test_f1 : 0.8569652564315383\n",
      "train_f1: 0.9084497875711157\n",
      "**************************************************\n",
      "For LogisticR:\n",
      "test_roc_auc : 0.7523811413904293\n",
      "train_roc_auc: 0.7922840332265391\n",
      "--------------------------------------------------\n",
      "test_accuracy : 0.7622017859522858\n",
      "train_accuracy: 0.7870514794760981\n",
      "--------------------------------------------------\n",
      "test_recall : 0.8788235294117646\n",
      "train_recall: 0.9040700226502555\n",
      "--------------------------------------------------\n",
      "test_precision : 0.7979192654945882\n",
      "train_precision: 0.8086348626861108\n",
      "--------------------------------------------------\n",
      "test_f1 : 0.8348977162551001\n",
      "train_f1: 0.8534150877314008\n",
      "**************************************************\n",
      "For SVM:\n",
      "test_roc_auc : 0.7314750866608452\n",
      "train_roc_auc: 0.8374560665422275\n",
      "--------------------------------------------------\n",
      "test_accuracy : 0.7898573903771824\n",
      "train_accuracy: 0.8220704386269931\n",
      "--------------------------------------------------\n",
      "test_recall : 0.9453501400560225\n",
      "train_recall: 0.9686162274155883\n",
      "--------------------------------------------------\n",
      "test_precision : 0.7911850756182061\n",
      "train_precision: 0.8098484654497833\n",
      "--------------------------------------------------\n",
      "test_f1 : 0.8607518506570824\n",
      "train_f1: 0.8820694135559701\n",
      "**************************************************\n",
      "For XGB:\n",
      "test_roc_auc : 0.7519989831290141\n",
      "train_roc_auc: 0.9977233672230114\n",
      "--------------------------------------------------\n",
      "test_accuracy : 0.7573637211781954\n",
      "train_accuracy: 0.9784263076846654\n",
      "--------------------------------------------------\n",
      "test_recall : 0.85296918767507\n",
      "train_recall: 0.9899373167348516\n",
      "--------------------------------------------------\n",
      "test_precision : 0.8066784338561425\n",
      "train_precision: 0.9790170162062463\n",
      "--------------------------------------------------\n",
      "test_f1 : 0.8285866712410433\n",
      "train_f1: 0.9844282002365288\n",
      "**************************************************\n",
      "****************************************************************************************************\n",
      "____________________________________________________________________________________________________\n"
     ]
    }
   ],
   "source": [
    "# Initialize RFE feature selector\n",
    "RFE_selector = RFE(LogisticRegression(), n_features_to_select=10) \n",
    "\n",
    "result_models=[] # to append data of scores\n",
    "for scaler_name, scaler in scalers:\n",
    "    # print scaler name\n",
    "    print(f'For {scaler_name} :')\n",
    "    print('='*30)\n",
    "    \n",
    "    #pipelines for combinations coluns\n",
    "    cat_preprocessing = Pipeline(steps=[\n",
    "        ('simple_imputer_mode', SimpleImputer(strategy='most_frequent') ),\n",
    "        ('onh_encoder', OneHotEncoder(sparse_output=False, drop='first') ),\n",
    "        (scaler_name,scaler)\n",
    "\n",
    "    ])\n",
    "    \n",
    "    num_preprocessing = Pipeline(steps=[\n",
    "        ('knn_imputer', KNNImputer() ),\n",
    "        (scaler_name,scaler)\n",
    "    ])\n",
    "    \n",
    "    # Create the ColumnTransformer preprocessing\n",
    "    preprocessor =ColumnTransformer(\n",
    "        transformers=[\n",
    "           ('cat_preprocessing', cat_preprocessing , cat_cols)\n",
    "            ,('num_preprocessing', num_preprocessing , scaling_col)\n",
    "         \n",
    "            ],\n",
    "        remainder='passthrough'\n",
    "         )\n",
    "   \n",
    "    for model_name, model in models:\n",
    "        # print model name\n",
    "        print(f\"For {model_name}:\")\n",
    "        # Steps Creation\n",
    "        stepss = list()\n",
    "        \n",
    "        stepss.append(('preprocessor', preprocessor))\n",
    "        stepss.append(('overSampling',SVMSMOTE()))\n",
    "        stepss.append(('feature_selection_RFE',RFE_selector))\n",
    "        stepss.append((model_name, model))\n",
    "        \n",
    "        # Create the pipeline\n",
    "        pipeline = Pipeline(steps=stepss)\n",
    "        \n",
    "        ## scoring\n",
    "        # Perform cross-validation\n",
    "        # Example evaluation metrics\n",
    "        cv_results = cross_validate(pipeline, X, y, scoring={'roc_auc': 'roc_auc',\n",
    "                                                             'accuracy':'accuracy',\n",
    "                                                             'recall':'recall',\n",
    "                                                             'precision':'precision',\n",
    "                                                             'f1':'f1'}# interested scors and metrics\n",
    "                                                             \n",
    "                                    , cv=5, return_train_score=True,n_jobs=-1,error_score='raise')  # X and y are your input data and targets\n",
    "        \n",
    "        \n",
    "        # Access the results\n",
    "        test_roc_auc = cv_results['test_roc_auc'].mean()\n",
    "        train_roc_auc = cv_results['train_roc_auc'].mean()\n",
    "        print(\"test_roc_auc :\", test_roc_auc)\n",
    "        print(\"train_roc_auc:\", train_roc_auc)\n",
    "        print('-'*50)\n",
    "        test_accuracy = cv_results['test_accuracy'].mean()\n",
    "        train_accuracy = cv_results['train_accuracy'].mean()\n",
    "        print(\"test_accuracy :\", test_accuracy)\n",
    "        print(\"train_accuracy:\", train_accuracy)\n",
    "        print('-'*50)\n",
    "        test_recall = cv_results['test_recall'].mean()\n",
    "        train_recall = cv_results['train_recall'].mean()\n",
    "        print(\"test_recall :\", test_recall)\n",
    "        print(\"train_recall:\", train_recall)\n",
    "        print('-'*50)\n",
    "        test_precision = cv_results['test_precision'].mean()\n",
    "        train_precision = cv_results['train_precision'].mean()\n",
    "        print(\"test_precision :\", test_precision)\n",
    "        print(\"train_precision:\", train_precision)\n",
    "        print('-'*50)\n",
    "        test_f1 = cv_results['test_f1'].mean()\n",
    "        train_f1 = cv_results['train_f1'].mean()\n",
    "        print(\"test_f1 :\", test_f1)\n",
    "        print(\"train_f1:\", train_f1)\n",
    "        result_models.append([test_roc_auc,train_roc_auc,test_accuracy,train_accuracy, test_recall , train_recall ,\n",
    "        test_precision,train_precision,test_f1,train_f1])\n",
    "        print('*' * 50)\n",
    "    print('*' * 100)\n",
    "    print('_' * 100)"
   ]
  },
  {
   "cell_type": "code",
   "execution_count": 202,
   "id": "4fca6339",
   "metadata": {},
   "outputs": [],
   "source": [
    "# result_models to data frame to be clear\n",
    "results = pd.DataFrame(data=result_models,index=['KNN_std','Naive_std','DTC_std','RFC_std','ADA_std' ,'GB_std','LogisticR_std','SVM_std','XGB_std',\n",
    "    'KNN_minmax','Naive_minmax','DTC_minmax','RFC_minmax','ADA_minmax' ,'GB_minmax','LogisticR_minmax','SVM_minmax','XGB_minmax',\n",
    "    'KNN_robust','Naive_robust','DTC_robust','RFC_robust','ADA_robust' ,'GB_robust','LogisticR_robust','SVM_robust','XGB_robust'],\n",
    "            columns=['test_roc_auc','train_roc_auc','test_accuracy','train_accuracy', 'test_recall' , 'train_recall' ,\n",
    "                     'test_precision','train_precision','test_f1','train_f1'])"
   ]
  },
  {
   "cell_type": "code",
   "execution_count": 203,
   "id": "0b34407e",
   "metadata": {},
   "outputs": [
    {
     "data": {
      "text/html": [
       "<div>\n",
       "<style scoped>\n",
       "    .dataframe tbody tr th:only-of-type {\n",
       "        vertical-align: middle;\n",
       "    }\n",
       "\n",
       "    .dataframe tbody tr th {\n",
       "        vertical-align: top;\n",
       "    }\n",
       "\n",
       "    .dataframe thead th {\n",
       "        text-align: right;\n",
       "    }\n",
       "</style>\n",
       "<table border=\"1\" class=\"dataframe\">\n",
       "  <thead>\n",
       "    <tr style=\"text-align: right;\">\n",
       "      <th></th>\n",
       "      <th>test_roc_auc</th>\n",
       "      <th>train_roc_auc</th>\n",
       "      <th>test_accuracy</th>\n",
       "      <th>train_accuracy</th>\n",
       "      <th>test_recall</th>\n",
       "      <th>train_recall</th>\n",
       "      <th>test_precision</th>\n",
       "      <th>train_precision</th>\n",
       "      <th>test_f1</th>\n",
       "      <th>train_f1</th>\n",
       "    </tr>\n",
       "  </thead>\n",
       "  <tbody>\n",
       "    <tr>\n",
       "      <th>KNN_std</th>\n",
       "      <td>0.722288</td>\n",
       "      <td>0.908813</td>\n",
       "      <td>0.711715</td>\n",
       "      <td>0.840390</td>\n",
       "      <td>0.803333</td>\n",
       "      <td>0.888041</td>\n",
       "      <td>0.784818</td>\n",
       "      <td>0.880989</td>\n",
       "      <td>0.792851</td>\n",
       "      <td>0.884206</td>\n",
       "    </tr>\n",
       "    <tr>\n",
       "      <th>Naive_std</th>\n",
       "      <td>0.755318</td>\n",
       "      <td>0.787673</td>\n",
       "      <td>0.786619</td>\n",
       "      <td>0.804564</td>\n",
       "      <td>0.938403</td>\n",
       "      <td>0.954975</td>\n",
       "      <td>0.791049</td>\n",
       "      <td>0.799713</td>\n",
       "      <td>0.857975</td>\n",
       "      <td>0.870417</td>\n",
       "    </tr>\n",
       "    <tr>\n",
       "      <th>DTC_std</th>\n",
       "      <td>0.659177</td>\n",
       "      <td>1.000000</td>\n",
       "      <td>0.693816</td>\n",
       "      <td>1.000000</td>\n",
       "      <td>0.751148</td>\n",
       "      <td>1.000000</td>\n",
       "      <td>0.792812</td>\n",
       "      <td>1.000000</td>\n",
       "      <td>0.771130</td>\n",
       "      <td>1.000000</td>\n",
       "    </tr>\n",
       "    <tr>\n",
       "      <th>RFC_std</th>\n",
       "      <td>0.739334</td>\n",
       "      <td>1.000000</td>\n",
       "      <td>0.750766</td>\n",
       "      <td>1.000000</td>\n",
       "      <td>0.860112</td>\n",
       "      <td>1.000000</td>\n",
       "      <td>0.795327</td>\n",
       "      <td>1.000000</td>\n",
       "      <td>0.826001</td>\n",
       "      <td>1.000000</td>\n",
       "    </tr>\n",
       "    <tr>\n",
       "      <th>ADA_std</th>\n",
       "      <td>0.731819</td>\n",
       "      <td>0.872369</td>\n",
       "      <td>0.749100</td>\n",
       "      <td>0.829809</td>\n",
       "      <td>0.843417</td>\n",
       "      <td>0.912948</td>\n",
       "      <td>0.803733</td>\n",
       "      <td>0.850368</td>\n",
       "      <td>0.821474</td>\n",
       "      <td>0.880372</td>\n",
       "    </tr>\n",
       "    <tr>\n",
       "      <th>GB_std</th>\n",
       "      <td>0.729030</td>\n",
       "      <td>0.949345</td>\n",
       "      <td>0.739424</td>\n",
       "      <td>0.891699</td>\n",
       "      <td>0.848151</td>\n",
       "      <td>0.974537</td>\n",
       "      <td>0.790593</td>\n",
       "      <td>0.880773</td>\n",
       "      <td>0.817188</td>\n",
       "      <td>0.925203</td>\n",
       "    </tr>\n",
       "    <tr>\n",
       "      <th>LogisticR_std</th>\n",
       "      <td>0.758328</td>\n",
       "      <td>0.799277</td>\n",
       "      <td>0.749100</td>\n",
       "      <td>0.785420</td>\n",
       "      <td>0.845826</td>\n",
       "      <td>0.882712</td>\n",
       "      <td>0.800692</td>\n",
       "      <td>0.819114</td>\n",
       "      <td>0.821741</td>\n",
       "      <td>0.849682</td>\n",
       "    </tr>\n",
       "    <tr>\n",
       "      <th>SVM_std</th>\n",
       "      <td>0.706444</td>\n",
       "      <td>0.845493</td>\n",
       "      <td>0.762255</td>\n",
       "      <td>0.819212</td>\n",
       "      <td>0.896050</td>\n",
       "      <td>0.932418</td>\n",
       "      <td>0.786024</td>\n",
       "      <td>0.829320</td>\n",
       "      <td>0.835188</td>\n",
       "      <td>0.875716</td>\n",
       "    </tr>\n",
       "    <tr>\n",
       "      <th>XGB_std</th>\n",
       "      <td>0.735843</td>\n",
       "      <td>0.999996</td>\n",
       "      <td>0.716620</td>\n",
       "      <td>0.998778</td>\n",
       "      <td>0.796331</td>\n",
       "      <td>1.000000</td>\n",
       "      <td>0.793647</td>\n",
       "      <td>0.998227</td>\n",
       "      <td>0.794708</td>\n",
       "      <td>0.999112</td>\n",
       "    </tr>\n",
       "    <tr>\n",
       "      <th>KNN_minmax</th>\n",
       "      <td>0.721699</td>\n",
       "      <td>0.901859</td>\n",
       "      <td>0.732933</td>\n",
       "      <td>0.832245</td>\n",
       "      <td>0.827003</td>\n",
       "      <td>0.886859</td>\n",
       "      <td>0.794224</td>\n",
       "      <td>0.871560</td>\n",
       "      <td>0.809519</td>\n",
       "      <td>0.879040</td>\n",
       "    </tr>\n",
       "    <tr>\n",
       "      <th>Naive_minmax</th>\n",
       "      <td>0.771273</td>\n",
       "      <td>0.779066</td>\n",
       "      <td>0.794762</td>\n",
       "      <td>0.797237</td>\n",
       "      <td>0.940672</td>\n",
       "      <td>0.944326</td>\n",
       "      <td>0.798517</td>\n",
       "      <td>0.797816</td>\n",
       "      <td>0.863094</td>\n",
       "      <td>0.864866</td>\n",
       "    </tr>\n",
       "    <tr>\n",
       "      <th>DTC_minmax</th>\n",
       "      <td>0.651814</td>\n",
       "      <td>1.000000</td>\n",
       "      <td>0.695442</td>\n",
       "      <td>1.000000</td>\n",
       "      <td>0.767731</td>\n",
       "      <td>1.000000</td>\n",
       "      <td>0.784849</td>\n",
       "      <td>1.000000</td>\n",
       "      <td>0.775896</td>\n",
       "      <td>1.000000</td>\n",
       "    </tr>\n",
       "    <tr>\n",
       "      <th>RFC_minmax</th>\n",
       "      <td>0.751302</td>\n",
       "      <td>1.000000</td>\n",
       "      <td>0.755658</td>\n",
       "      <td>1.000000</td>\n",
       "      <td>0.855378</td>\n",
       "      <td>1.000000</td>\n",
       "      <td>0.802765</td>\n",
       "      <td>1.000000</td>\n",
       "      <td>0.827970</td>\n",
       "      <td>1.000000</td>\n",
       "    </tr>\n",
       "    <tr>\n",
       "      <th>ADA_minmax</th>\n",
       "      <td>0.707317</td>\n",
       "      <td>0.882459</td>\n",
       "      <td>0.732827</td>\n",
       "      <td>0.838774</td>\n",
       "      <td>0.822241</td>\n",
       "      <td>0.915897</td>\n",
       "      <td>0.797046</td>\n",
       "      <td>0.858807</td>\n",
       "      <td>0.808106</td>\n",
       "      <td>0.886345</td>\n",
       "    </tr>\n",
       "    <tr>\n",
       "      <th>GB_minmax</th>\n",
       "      <td>0.724808</td>\n",
       "      <td>0.964385</td>\n",
       "      <td>0.757297</td>\n",
       "      <td>0.904323</td>\n",
       "      <td>0.869412</td>\n",
       "      <td>0.976902</td>\n",
       "      <td>0.798490</td>\n",
       "      <td>0.893793</td>\n",
       "      <td>0.830857</td>\n",
       "      <td>0.933494</td>\n",
       "    </tr>\n",
       "    <tr>\n",
       "      <th>LogisticR_minmax</th>\n",
       "      <td>0.766253</td>\n",
       "      <td>0.795956</td>\n",
       "      <td>0.771985</td>\n",
       "      <td>0.784618</td>\n",
       "      <td>0.881401</td>\n",
       "      <td>0.890431</td>\n",
       "      <td>0.806057</td>\n",
       "      <td>0.813953</td>\n",
       "      <td>0.841354</td>\n",
       "      <td>0.850081</td>\n",
       "    </tr>\n",
       "    <tr>\n",
       "      <th>SVM_minmax</th>\n",
       "      <td>0.724164</td>\n",
       "      <td>0.820074</td>\n",
       "      <td>0.765574</td>\n",
       "      <td>0.793155</td>\n",
       "      <td>0.895742</td>\n",
       "      <td>0.920036</td>\n",
       "      <td>0.793482</td>\n",
       "      <td>0.807821</td>\n",
       "      <td>0.837023</td>\n",
       "      <td>0.857892</td>\n",
       "    </tr>\n",
       "    <tr>\n",
       "      <th>XGB_minmax</th>\n",
       "      <td>0.753056</td>\n",
       "      <td>0.999988</td>\n",
       "      <td>0.731228</td>\n",
       "      <td>0.998778</td>\n",
       "      <td>0.805686</td>\n",
       "      <td>1.000000</td>\n",
       "      <td>0.805013</td>\n",
       "      <td>0.998230</td>\n",
       "      <td>0.804941</td>\n",
       "      <td>0.999113</td>\n",
       "    </tr>\n",
       "    <tr>\n",
       "      <th>KNN_robust</th>\n",
       "      <td>0.708417</td>\n",
       "      <td>0.882401</td>\n",
       "      <td>0.727949</td>\n",
       "      <td>0.821666</td>\n",
       "      <td>0.829216</td>\n",
       "      <td>0.885650</td>\n",
       "      <td>0.788320</td>\n",
       "      <td>0.859698</td>\n",
       "      <td>0.806776</td>\n",
       "      <td>0.872039</td>\n",
       "    </tr>\n",
       "    <tr>\n",
       "      <th>Naive_robust</th>\n",
       "      <td>0.762018</td>\n",
       "      <td>0.773256</td>\n",
       "      <td>0.798054</td>\n",
       "      <td>0.805785</td>\n",
       "      <td>0.947815</td>\n",
       "      <td>0.958536</td>\n",
       "      <td>0.797852</td>\n",
       "      <td>0.799078</td>\n",
       "      <td>0.866019</td>\n",
       "      <td>0.871541</td>\n",
       "    </tr>\n",
       "    <tr>\n",
       "      <th>DTC_robust</th>\n",
       "      <td>0.657417</td>\n",
       "      <td>0.999852</td>\n",
       "      <td>0.692163</td>\n",
       "      <td>0.994303</td>\n",
       "      <td>0.753613</td>\n",
       "      <td>0.991707</td>\n",
       "      <td>0.790094</td>\n",
       "      <td>1.000000</td>\n",
       "      <td>0.771026</td>\n",
       "      <td>0.995820</td>\n",
       "    </tr>\n",
       "    <tr>\n",
       "      <th>RFC_robust</th>\n",
       "      <td>0.749382</td>\n",
       "      <td>0.992936</td>\n",
       "      <td>0.747541</td>\n",
       "      <td>0.977606</td>\n",
       "      <td>0.857647</td>\n",
       "      <td>0.988166</td>\n",
       "      <td>0.793197</td>\n",
       "      <td>0.979801</td>\n",
       "      <td>0.823482</td>\n",
       "      <td>0.983932</td>\n",
       "    </tr>\n",
       "    <tr>\n",
       "      <th>ADA_robust</th>\n",
       "      <td>0.721282</td>\n",
       "      <td>0.848609</td>\n",
       "      <td>0.768666</td>\n",
       "      <td>0.828584</td>\n",
       "      <td>0.907591</td>\n",
       "      <td>0.962079</td>\n",
       "      <td>0.789565</td>\n",
       "      <td>0.820055</td>\n",
       "      <td>0.843521</td>\n",
       "      <td>0.885258</td>\n",
       "    </tr>\n",
       "    <tr>\n",
       "      <th>GB_robust</th>\n",
       "      <td>0.736215</td>\n",
       "      <td>0.914805</td>\n",
       "      <td>0.785019</td>\n",
       "      <td>0.864015</td>\n",
       "      <td>0.936022</td>\n",
       "      <td>0.979861</td>\n",
       "      <td>0.790936</td>\n",
       "      <td>0.846877</td>\n",
       "      <td>0.856965</td>\n",
       "      <td>0.908450</td>\n",
       "    </tr>\n",
       "    <tr>\n",
       "      <th>LogisticR_robust</th>\n",
       "      <td>0.752381</td>\n",
       "      <td>0.792284</td>\n",
       "      <td>0.762202</td>\n",
       "      <td>0.787051</td>\n",
       "      <td>0.878824</td>\n",
       "      <td>0.904070</td>\n",
       "      <td>0.797919</td>\n",
       "      <td>0.808635</td>\n",
       "      <td>0.834898</td>\n",
       "      <td>0.853415</td>\n",
       "    </tr>\n",
       "    <tr>\n",
       "      <th>SVM_robust</th>\n",
       "      <td>0.731475</td>\n",
       "      <td>0.837456</td>\n",
       "      <td>0.789857</td>\n",
       "      <td>0.822070</td>\n",
       "      <td>0.945350</td>\n",
       "      <td>0.968616</td>\n",
       "      <td>0.791185</td>\n",
       "      <td>0.809848</td>\n",
       "      <td>0.860752</td>\n",
       "      <td>0.882069</td>\n",
       "    </tr>\n",
       "    <tr>\n",
       "      <th>XGB_robust</th>\n",
       "      <td>0.751999</td>\n",
       "      <td>0.997723</td>\n",
       "      <td>0.757364</td>\n",
       "      <td>0.978426</td>\n",
       "      <td>0.852969</td>\n",
       "      <td>0.989937</td>\n",
       "      <td>0.806678</td>\n",
       "      <td>0.979017</td>\n",
       "      <td>0.828587</td>\n",
       "      <td>0.984428</td>\n",
       "    </tr>\n",
       "  </tbody>\n",
       "</table>\n",
       "</div>"
      ],
      "text/plain": [
       "                  test_roc_auc  train_roc_auc  test_accuracy  train_accuracy  \\\n",
       "KNN_std               0.722288       0.908813       0.711715        0.840390   \n",
       "Naive_std             0.755318       0.787673       0.786619        0.804564   \n",
       "DTC_std               0.659177       1.000000       0.693816        1.000000   \n",
       "RFC_std               0.739334       1.000000       0.750766        1.000000   \n",
       "ADA_std               0.731819       0.872369       0.749100        0.829809   \n",
       "GB_std                0.729030       0.949345       0.739424        0.891699   \n",
       "LogisticR_std         0.758328       0.799277       0.749100        0.785420   \n",
       "SVM_std               0.706444       0.845493       0.762255        0.819212   \n",
       "XGB_std               0.735843       0.999996       0.716620        0.998778   \n",
       "KNN_minmax            0.721699       0.901859       0.732933        0.832245   \n",
       "Naive_minmax          0.771273       0.779066       0.794762        0.797237   \n",
       "DTC_minmax            0.651814       1.000000       0.695442        1.000000   \n",
       "RFC_minmax            0.751302       1.000000       0.755658        1.000000   \n",
       "ADA_minmax            0.707317       0.882459       0.732827        0.838774   \n",
       "GB_minmax             0.724808       0.964385       0.757297        0.904323   \n",
       "LogisticR_minmax      0.766253       0.795956       0.771985        0.784618   \n",
       "SVM_minmax            0.724164       0.820074       0.765574        0.793155   \n",
       "XGB_minmax            0.753056       0.999988       0.731228        0.998778   \n",
       "KNN_robust            0.708417       0.882401       0.727949        0.821666   \n",
       "Naive_robust          0.762018       0.773256       0.798054        0.805785   \n",
       "DTC_robust            0.657417       0.999852       0.692163        0.994303   \n",
       "RFC_robust            0.749382       0.992936       0.747541        0.977606   \n",
       "ADA_robust            0.721282       0.848609       0.768666        0.828584   \n",
       "GB_robust             0.736215       0.914805       0.785019        0.864015   \n",
       "LogisticR_robust      0.752381       0.792284       0.762202        0.787051   \n",
       "SVM_robust            0.731475       0.837456       0.789857        0.822070   \n",
       "XGB_robust            0.751999       0.997723       0.757364        0.978426   \n",
       "\n",
       "                  test_recall  train_recall  test_precision  train_precision  \\\n",
       "KNN_std              0.803333      0.888041        0.784818         0.880989   \n",
       "Naive_std            0.938403      0.954975        0.791049         0.799713   \n",
       "DTC_std              0.751148      1.000000        0.792812         1.000000   \n",
       "RFC_std              0.860112      1.000000        0.795327         1.000000   \n",
       "ADA_std              0.843417      0.912948        0.803733         0.850368   \n",
       "GB_std               0.848151      0.974537        0.790593         0.880773   \n",
       "LogisticR_std        0.845826      0.882712        0.800692         0.819114   \n",
       "SVM_std              0.896050      0.932418        0.786024         0.829320   \n",
       "XGB_std              0.796331      1.000000        0.793647         0.998227   \n",
       "KNN_minmax           0.827003      0.886859        0.794224         0.871560   \n",
       "Naive_minmax         0.940672      0.944326        0.798517         0.797816   \n",
       "DTC_minmax           0.767731      1.000000        0.784849         1.000000   \n",
       "RFC_minmax           0.855378      1.000000        0.802765         1.000000   \n",
       "ADA_minmax           0.822241      0.915897        0.797046         0.858807   \n",
       "GB_minmax            0.869412      0.976902        0.798490         0.893793   \n",
       "LogisticR_minmax     0.881401      0.890431        0.806057         0.813953   \n",
       "SVM_minmax           0.895742      0.920036        0.793482         0.807821   \n",
       "XGB_minmax           0.805686      1.000000        0.805013         0.998230   \n",
       "KNN_robust           0.829216      0.885650        0.788320         0.859698   \n",
       "Naive_robust         0.947815      0.958536        0.797852         0.799078   \n",
       "DTC_robust           0.753613      0.991707        0.790094         1.000000   \n",
       "RFC_robust           0.857647      0.988166        0.793197         0.979801   \n",
       "ADA_robust           0.907591      0.962079        0.789565         0.820055   \n",
       "GB_robust            0.936022      0.979861        0.790936         0.846877   \n",
       "LogisticR_robust     0.878824      0.904070        0.797919         0.808635   \n",
       "SVM_robust           0.945350      0.968616        0.791185         0.809848   \n",
       "XGB_robust           0.852969      0.989937        0.806678         0.979017   \n",
       "\n",
       "                   test_f1  train_f1  \n",
       "KNN_std           0.792851  0.884206  \n",
       "Naive_std         0.857975  0.870417  \n",
       "DTC_std           0.771130  1.000000  \n",
       "RFC_std           0.826001  1.000000  \n",
       "ADA_std           0.821474  0.880372  \n",
       "GB_std            0.817188  0.925203  \n",
       "LogisticR_std     0.821741  0.849682  \n",
       "SVM_std           0.835188  0.875716  \n",
       "XGB_std           0.794708  0.999112  \n",
       "KNN_minmax        0.809519  0.879040  \n",
       "Naive_minmax      0.863094  0.864866  \n",
       "DTC_minmax        0.775896  1.000000  \n",
       "RFC_minmax        0.827970  1.000000  \n",
       "ADA_minmax        0.808106  0.886345  \n",
       "GB_minmax         0.830857  0.933494  \n",
       "LogisticR_minmax  0.841354  0.850081  \n",
       "SVM_minmax        0.837023  0.857892  \n",
       "XGB_minmax        0.804941  0.999113  \n",
       "KNN_robust        0.806776  0.872039  \n",
       "Naive_robust      0.866019  0.871541  \n",
       "DTC_robust        0.771026  0.995820  \n",
       "RFC_robust        0.823482  0.983932  \n",
       "ADA_robust        0.843521  0.885258  \n",
       "GB_robust         0.856965  0.908450  \n",
       "LogisticR_robust  0.834898  0.853415  \n",
       "SVM_robust        0.860752  0.882069  \n",
       "XGB_robust        0.828587  0.984428  "
      ]
     },
     "execution_count": 203,
     "metadata": {},
     "output_type": "execute_result"
    }
   ],
   "source": [
    "results #SVCSMOTE"
   ]
  },
  {
   "cell_type": "code",
   "execution_count": 199,
   "id": "1cd69e85",
   "metadata": {},
   "outputs": [
    {
     "data": {
      "text/html": [
       "<div>\n",
       "<style scoped>\n",
       "    .dataframe tbody tr th:only-of-type {\n",
       "        vertical-align: middle;\n",
       "    }\n",
       "\n",
       "    .dataframe tbody tr th {\n",
       "        vertical-align: top;\n",
       "    }\n",
       "\n",
       "    .dataframe thead th {\n",
       "        text-align: right;\n",
       "    }\n",
       "</style>\n",
       "<table border=\"1\" class=\"dataframe\">\n",
       "  <thead>\n",
       "    <tr style=\"text-align: right;\">\n",
       "      <th></th>\n",
       "      <th>test_roc_auc</th>\n",
       "      <th>train_roc_auc</th>\n",
       "      <th>test_accuracy</th>\n",
       "      <th>train_accuracy</th>\n",
       "      <th>test_recall</th>\n",
       "      <th>train_recall</th>\n",
       "      <th>test_precision</th>\n",
       "      <th>train_precision</th>\n",
       "      <th>test_f1</th>\n",
       "      <th>train_f1</th>\n",
       "    </tr>\n",
       "  </thead>\n",
       "  <tbody>\n",
       "    <tr>\n",
       "      <th>KNN_std</th>\n",
       "      <td>0.729777</td>\n",
       "      <td>0.905057</td>\n",
       "      <td>0.723111</td>\n",
       "      <td>0.835502</td>\n",
       "      <td>0.812745</td>\n",
       "      <td>0.885674</td>\n",
       "      <td>0.790820</td>\n",
       "      <td>0.876577</td>\n",
       "      <td>0.801305</td>\n",
       "      <td>0.881022</td>\n",
       "    </tr>\n",
       "    <tr>\n",
       "      <th>Naive_std</th>\n",
       "      <td>0.763441</td>\n",
       "      <td>0.782297</td>\n",
       "      <td>0.799680</td>\n",
       "      <td>0.801713</td>\n",
       "      <td>0.950196</td>\n",
       "      <td>0.954375</td>\n",
       "      <td>0.798498</td>\n",
       "      <td>0.797286</td>\n",
       "      <td>0.867079</td>\n",
       "      <td>0.868646</td>\n",
       "    </tr>\n",
       "    <tr>\n",
       "      <th>DTC_std</th>\n",
       "      <td>0.644745</td>\n",
       "      <td>1.000000</td>\n",
       "      <td>0.684046</td>\n",
       "      <td>1.000000</td>\n",
       "      <td>0.748599</td>\n",
       "      <td>1.000000</td>\n",
       "      <td>0.785270</td>\n",
       "      <td>1.000000</td>\n",
       "      <td>0.764642</td>\n",
       "      <td>1.000000</td>\n",
       "    </tr>\n",
       "    <tr>\n",
       "      <th>RFC_std</th>\n",
       "      <td>0.760276</td>\n",
       "      <td>1.000000</td>\n",
       "      <td>0.755604</td>\n",
       "      <td>1.000000</td>\n",
       "      <td>0.869608</td>\n",
       "      <td>1.000000</td>\n",
       "      <td>0.794886</td>\n",
       "      <td>1.000000</td>\n",
       "      <td>0.829856</td>\n",
       "      <td>1.000000</td>\n",
       "    </tr>\n",
       "    <tr>\n",
       "      <th>ADA_std</th>\n",
       "      <td>0.753873</td>\n",
       "      <td>0.878194</td>\n",
       "      <td>0.762135</td>\n",
       "      <td>0.829803</td>\n",
       "      <td>0.860028</td>\n",
       "      <td>0.904040</td>\n",
       "      <td>0.809609</td>\n",
       "      <td>0.856676</td>\n",
       "      <td>0.831590</td>\n",
       "      <td>0.879571</td>\n",
       "    </tr>\n",
       "    <tr>\n",
       "      <th>GB_std</th>\n",
       "      <td>0.740382</td>\n",
       "      <td>0.953466</td>\n",
       "      <td>0.750740</td>\n",
       "      <td>0.893723</td>\n",
       "      <td>0.864790</td>\n",
       "      <td>0.978084</td>\n",
       "      <td>0.792946</td>\n",
       "      <td>0.880856</td>\n",
       "      <td>0.826539</td>\n",
       "      <td>0.926799</td>\n",
       "    </tr>\n",
       "    <tr>\n",
       "      <th>LogisticR_std</th>\n",
       "      <td>0.756370</td>\n",
       "      <td>0.798352</td>\n",
       "      <td>0.747408</td>\n",
       "      <td>0.780948</td>\n",
       "      <td>0.848179</td>\n",
       "      <td>0.876194</td>\n",
       "      <td>0.796597</td>\n",
       "      <td>0.818869</td>\n",
       "      <td>0.820270</td>\n",
       "      <td>0.845856</td>\n",
       "    </tr>\n",
       "    <tr>\n",
       "      <th>SVM_std</th>\n",
       "      <td>0.707959</td>\n",
       "      <td>0.848293</td>\n",
       "      <td>0.739398</td>\n",
       "      <td>0.822470</td>\n",
       "      <td>0.864846</td>\n",
       "      <td>0.927143</td>\n",
       "      <td>0.781078</td>\n",
       "      <td>0.833733</td>\n",
       "      <td>0.819412</td>\n",
       "      <td>0.877542</td>\n",
       "    </tr>\n",
       "    <tr>\n",
       "      <th>XGB_std</th>\n",
       "      <td>0.723495</td>\n",
       "      <td>0.999998</td>\n",
       "      <td>0.721431</td>\n",
       "      <td>0.999593</td>\n",
       "      <td>0.796134</td>\n",
       "      <td>1.000000</td>\n",
       "      <td>0.799983</td>\n",
       "      <td>0.999408</td>\n",
       "      <td>0.797516</td>\n",
       "      <td>0.999704</td>\n",
       "    </tr>\n",
       "    <tr>\n",
       "      <th>KNN_minmax</th>\n",
       "      <td>0.714959</td>\n",
       "      <td>0.900734</td>\n",
       "      <td>0.731281</td>\n",
       "      <td>0.837136</td>\n",
       "      <td>0.831821</td>\n",
       "      <td>0.914091</td>\n",
       "      <td>0.789950</td>\n",
       "      <td>0.858272</td>\n",
       "      <td>0.809684</td>\n",
       "      <td>0.885221</td>\n",
       "    </tr>\n",
       "    <tr>\n",
       "      <th>Naive_minmax</th>\n",
       "      <td>0.754306</td>\n",
       "      <td>0.781190</td>\n",
       "      <td>0.789871</td>\n",
       "      <td>0.799676</td>\n",
       "      <td>0.933613</td>\n",
       "      <td>0.947869</td>\n",
       "      <td>0.796966</td>\n",
       "      <td>0.798433</td>\n",
       "      <td>0.859384</td>\n",
       "      <td>0.866746</td>\n",
       "    </tr>\n",
       "    <tr>\n",
       "      <th>DTC_minmax</th>\n",
       "      <td>0.674637</td>\n",
       "      <td>1.000000</td>\n",
       "      <td>0.714981</td>\n",
       "      <td>1.000000</td>\n",
       "      <td>0.781933</td>\n",
       "      <td>1.000000</td>\n",
       "      <td>0.800432</td>\n",
       "      <td>1.000000</td>\n",
       "      <td>0.790245</td>\n",
       "      <td>1.000000</td>\n",
       "    </tr>\n",
       "    <tr>\n",
       "      <th>RFC_minmax</th>\n",
       "      <td>0.757488</td>\n",
       "      <td>1.000000</td>\n",
       "      <td>0.755658</td>\n",
       "      <td>1.000000</td>\n",
       "      <td>0.860112</td>\n",
       "      <td>1.000000</td>\n",
       "      <td>0.800419</td>\n",
       "      <td>1.000000</td>\n",
       "      <td>0.828675</td>\n",
       "      <td>1.000000</td>\n",
       "    </tr>\n",
       "    <tr>\n",
       "      <th>ADA_minmax</th>\n",
       "      <td>0.730604</td>\n",
       "      <td>0.878406</td>\n",
       "      <td>0.750806</td>\n",
       "      <td>0.832252</td>\n",
       "      <td>0.841289</td>\n",
       "      <td>0.909371</td>\n",
       "      <td>0.806060</td>\n",
       "      <td>0.855678</td>\n",
       "      <td>0.822905</td>\n",
       "      <td>0.881679</td>\n",
       "    </tr>\n",
       "    <tr>\n",
       "      <th>GB_minmax</th>\n",
       "      <td>0.722400</td>\n",
       "      <td>0.955757</td>\n",
       "      <td>0.724737</td>\n",
       "      <td>0.898620</td>\n",
       "      <td>0.833866</td>\n",
       "      <td>0.969794</td>\n",
       "      <td>0.782221</td>\n",
       "      <td>0.892143</td>\n",
       "      <td>0.805948</td>\n",
       "      <td>0.929302</td>\n",
       "    </tr>\n",
       "    <tr>\n",
       "      <th>LogisticR_minmax</th>\n",
       "      <td>0.769485</td>\n",
       "      <td>0.799903</td>\n",
       "      <td>0.767067</td>\n",
       "      <td>0.791123</td>\n",
       "      <td>0.890896</td>\n",
       "      <td>0.911725</td>\n",
       "      <td>0.795164</td>\n",
       "      <td>0.809111</td>\n",
       "      <td>0.839708</td>\n",
       "      <td>0.856908</td>\n",
       "    </tr>\n",
       "    <tr>\n",
       "      <th>SVM_minmax</th>\n",
       "      <td>0.727742</td>\n",
       "      <td>0.812013</td>\n",
       "      <td>0.781807</td>\n",
       "      <td>0.800892</td>\n",
       "      <td>0.926695</td>\n",
       "      <td>0.933043</td>\n",
       "      <td>0.792300</td>\n",
       "      <td>0.808181</td>\n",
       "      <td>0.853131</td>\n",
       "      <td>0.865014</td>\n",
       "    </tr>\n",
       "    <tr>\n",
       "      <th>XGB_minmax</th>\n",
       "      <td>0.751537</td>\n",
       "      <td>1.000000</td>\n",
       "      <td>0.745902</td>\n",
       "      <td>0.998779</td>\n",
       "      <td>0.831681</td>\n",
       "      <td>0.999408</td>\n",
       "      <td>0.806353</td>\n",
       "      <td>0.998818</td>\n",
       "      <td>0.818391</td>\n",
       "      <td>0.999112</td>\n",
       "    </tr>\n",
       "    <tr>\n",
       "      <th>KNN_robust</th>\n",
       "      <td>0.695743</td>\n",
       "      <td>0.880138</td>\n",
       "      <td>0.723084</td>\n",
       "      <td>0.815557</td>\n",
       "      <td>0.829272</td>\n",
       "      <td>0.889195</td>\n",
       "      <td>0.782026</td>\n",
       "      <td>0.849820</td>\n",
       "      <td>0.804070</td>\n",
       "      <td>0.868468</td>\n",
       "    </tr>\n",
       "    <tr>\n",
       "      <th>Naive_robust</th>\n",
       "      <td>0.745296</td>\n",
       "      <td>0.761772</td>\n",
       "      <td>0.786659</td>\n",
       "      <td>0.799265</td>\n",
       "      <td>0.931289</td>\n",
       "      <td>0.948458</td>\n",
       "      <td>0.794413</td>\n",
       "      <td>0.797805</td>\n",
       "      <td>0.857245</td>\n",
       "      <td>0.866554</td>\n",
       "    </tr>\n",
       "    <tr>\n",
       "      <th>DTC_robust</th>\n",
       "      <td>0.663513</td>\n",
       "      <td>0.995356</td>\n",
       "      <td>0.692136</td>\n",
       "      <td>0.980048</td>\n",
       "      <td>0.755770</td>\n",
       "      <td>0.990531</td>\n",
       "      <td>0.789376</td>\n",
       "      <td>0.981539</td>\n",
       "      <td>0.771338</td>\n",
       "      <td>0.985836</td>\n",
       "    </tr>\n",
       "    <tr>\n",
       "      <th>RFC_robust</th>\n",
       "      <td>0.735526</td>\n",
       "      <td>0.982714</td>\n",
       "      <td>0.747608</td>\n",
       "      <td>0.948681</td>\n",
       "      <td>0.860112</td>\n",
       "      <td>0.975122</td>\n",
       "      <td>0.790916</td>\n",
       "      <td>0.952135</td>\n",
       "      <td>0.823742</td>\n",
       "      <td>0.963368</td>\n",
       "    </tr>\n",
       "    <tr>\n",
       "      <th>ADA_robust</th>\n",
       "      <td>0.724439</td>\n",
       "      <td>0.840352</td>\n",
       "      <td>0.767000</td>\n",
       "      <td>0.824110</td>\n",
       "      <td>0.888487</td>\n",
       "      <td>0.949076</td>\n",
       "      <td>0.797637</td>\n",
       "      <td>0.822529</td>\n",
       "      <td>0.838904</td>\n",
       "      <td>0.881127</td>\n",
       "    </tr>\n",
       "    <tr>\n",
       "      <th>GB_robust</th>\n",
       "      <td>0.722802</td>\n",
       "      <td>0.929874</td>\n",
       "      <td>0.768706</td>\n",
       "      <td>0.868900</td>\n",
       "      <td>0.907619</td>\n",
       "      <td>0.979864</td>\n",
       "      <td>0.789198</td>\n",
       "      <td>0.852032</td>\n",
       "      <td>0.843513</td>\n",
       "      <td>0.911420</td>\n",
       "    </tr>\n",
       "    <tr>\n",
       "      <th>LogisticR_robust</th>\n",
       "      <td>0.763516</td>\n",
       "      <td>0.789287</td>\n",
       "      <td>0.760522</td>\n",
       "      <td>0.781764</td>\n",
       "      <td>0.876639</td>\n",
       "      <td>0.894539</td>\n",
       "      <td>0.797142</td>\n",
       "      <td>0.808389</td>\n",
       "      <td>0.833484</td>\n",
       "      <td>0.849137</td>\n",
       "    </tr>\n",
       "    <tr>\n",
       "      <th>SVM_robust</th>\n",
       "      <td>0.745839</td>\n",
       "      <td>0.835072</td>\n",
       "      <td>0.791497</td>\n",
       "      <td>0.819626</td>\n",
       "      <td>0.950168</td>\n",
       "      <td>0.976309</td>\n",
       "      <td>0.790211</td>\n",
       "      <td>0.803596</td>\n",
       "      <td>0.862456</td>\n",
       "      <td>0.881512</td>\n",
       "    </tr>\n",
       "    <tr>\n",
       "      <th>XGB_robust</th>\n",
       "      <td>0.740765</td>\n",
       "      <td>0.983264</td>\n",
       "      <td>0.732854</td>\n",
       "      <td>0.956824</td>\n",
       "      <td>0.829160</td>\n",
       "      <td>0.989925</td>\n",
       "      <td>0.792775</td>\n",
       "      <td>0.951729</td>\n",
       "      <td>0.809358</td>\n",
       "      <td>0.969963</td>\n",
       "    </tr>\n",
       "  </tbody>\n",
       "</table>\n",
       "</div>"
      ],
      "text/plain": [
       "                  test_roc_auc  train_roc_auc  test_accuracy  train_accuracy  \\\n",
       "KNN_std               0.729777       0.905057       0.723111        0.835502   \n",
       "Naive_std             0.763441       0.782297       0.799680        0.801713   \n",
       "DTC_std               0.644745       1.000000       0.684046        1.000000   \n",
       "RFC_std               0.760276       1.000000       0.755604        1.000000   \n",
       "ADA_std               0.753873       0.878194       0.762135        0.829803   \n",
       "GB_std                0.740382       0.953466       0.750740        0.893723   \n",
       "LogisticR_std         0.756370       0.798352       0.747408        0.780948   \n",
       "SVM_std               0.707959       0.848293       0.739398        0.822470   \n",
       "XGB_std               0.723495       0.999998       0.721431        0.999593   \n",
       "KNN_minmax            0.714959       0.900734       0.731281        0.837136   \n",
       "Naive_minmax          0.754306       0.781190       0.789871        0.799676   \n",
       "DTC_minmax            0.674637       1.000000       0.714981        1.000000   \n",
       "RFC_minmax            0.757488       1.000000       0.755658        1.000000   \n",
       "ADA_minmax            0.730604       0.878406       0.750806        0.832252   \n",
       "GB_minmax             0.722400       0.955757       0.724737        0.898620   \n",
       "LogisticR_minmax      0.769485       0.799903       0.767067        0.791123   \n",
       "SVM_minmax            0.727742       0.812013       0.781807        0.800892   \n",
       "XGB_minmax            0.751537       1.000000       0.745902        0.998779   \n",
       "KNN_robust            0.695743       0.880138       0.723084        0.815557   \n",
       "Naive_robust          0.745296       0.761772       0.786659        0.799265   \n",
       "DTC_robust            0.663513       0.995356       0.692136        0.980048   \n",
       "RFC_robust            0.735526       0.982714       0.747608        0.948681   \n",
       "ADA_robust            0.724439       0.840352       0.767000        0.824110   \n",
       "GB_robust             0.722802       0.929874       0.768706        0.868900   \n",
       "LogisticR_robust      0.763516       0.789287       0.760522        0.781764   \n",
       "SVM_robust            0.745839       0.835072       0.791497        0.819626   \n",
       "XGB_robust            0.740765       0.983264       0.732854        0.956824   \n",
       "\n",
       "                  test_recall  train_recall  test_precision  train_precision  \\\n",
       "KNN_std              0.812745      0.885674        0.790820         0.876577   \n",
       "Naive_std            0.950196      0.954375        0.798498         0.797286   \n",
       "DTC_std              0.748599      1.000000        0.785270         1.000000   \n",
       "RFC_std              0.869608      1.000000        0.794886         1.000000   \n",
       "ADA_std              0.860028      0.904040        0.809609         0.856676   \n",
       "GB_std               0.864790      0.978084        0.792946         0.880856   \n",
       "LogisticR_std        0.848179      0.876194        0.796597         0.818869   \n",
       "SVM_std              0.864846      0.927143        0.781078         0.833733   \n",
       "XGB_std              0.796134      1.000000        0.799983         0.999408   \n",
       "KNN_minmax           0.831821      0.914091        0.789950         0.858272   \n",
       "Naive_minmax         0.933613      0.947869        0.796966         0.798433   \n",
       "DTC_minmax           0.781933      1.000000        0.800432         1.000000   \n",
       "RFC_minmax           0.860112      1.000000        0.800419         1.000000   \n",
       "ADA_minmax           0.841289      0.909371        0.806060         0.855678   \n",
       "GB_minmax            0.833866      0.969794        0.782221         0.892143   \n",
       "LogisticR_minmax     0.890896      0.911725        0.795164         0.809111   \n",
       "SVM_minmax           0.926695      0.933043        0.792300         0.808181   \n",
       "XGB_minmax           0.831681      0.999408        0.806353         0.998818   \n",
       "KNN_robust           0.829272      0.889195        0.782026         0.849820   \n",
       "Naive_robust         0.931289      0.948458        0.794413         0.797805   \n",
       "DTC_robust           0.755770      0.990531        0.789376         0.981539   \n",
       "RFC_robust           0.860112      0.975122        0.790916         0.952135   \n",
       "ADA_robust           0.888487      0.949076        0.797637         0.822529   \n",
       "GB_robust            0.907619      0.979864        0.789198         0.852032   \n",
       "LogisticR_robust     0.876639      0.894539        0.797142         0.808389   \n",
       "SVM_robust           0.950168      0.976309        0.790211         0.803596   \n",
       "XGB_robust           0.829160      0.989925        0.792775         0.951729   \n",
       "\n",
       "                   test_f1  train_f1  \n",
       "KNN_std           0.801305  0.881022  \n",
       "Naive_std         0.867079  0.868646  \n",
       "DTC_std           0.764642  1.000000  \n",
       "RFC_std           0.829856  1.000000  \n",
       "ADA_std           0.831590  0.879571  \n",
       "GB_std            0.826539  0.926799  \n",
       "LogisticR_std     0.820270  0.845856  \n",
       "SVM_std           0.819412  0.877542  \n",
       "XGB_std           0.797516  0.999704  \n",
       "KNN_minmax        0.809684  0.885221  \n",
       "Naive_minmax      0.859384  0.866746  \n",
       "DTC_minmax        0.790245  1.000000  \n",
       "RFC_minmax        0.828675  1.000000  \n",
       "ADA_minmax        0.822905  0.881679  \n",
       "GB_minmax         0.805948  0.929302  \n",
       "LogisticR_minmax  0.839708  0.856908  \n",
       "SVM_minmax        0.853131  0.865014  \n",
       "XGB_minmax        0.818391  0.999112  \n",
       "KNN_robust        0.804070  0.868468  \n",
       "Naive_robust      0.857245  0.866554  \n",
       "DTC_robust        0.771338  0.985836  \n",
       "RFC_robust        0.823742  0.963368  \n",
       "ADA_robust        0.838904  0.881127  \n",
       "GB_robust         0.843513  0.911420  \n",
       "LogisticR_robust  0.833484  0.849137  \n",
       "SVM_robust        0.862456  0.881512  \n",
       "XGB_robust        0.809358  0.969963  "
      ]
     },
     "execution_count": 199,
     "metadata": {},
     "output_type": "execute_result"
    }
   ],
   "source": [
    "results #SVCSMOTE"
   ]
  },
  {
   "cell_type": "markdown",
   "id": "055fdf6a",
   "metadata": {},
   "source": [
    "## HyperParameter Tuning "
   ]
  },
  {
   "cell_type": "code",
   "execution_count": 206,
   "id": "6f0fdf2b",
   "metadata": {},
   "outputs": [
    {
     "name": "stdout",
     "output_type": "stream",
     "text": [
      "test_roc_auc : 0.764537474908992\n",
      "train_roc_auc: 0.7928674171524313\n",
      "--------------------------------------------------\n",
      "test_accuracy : 0.7573370651739304\n",
      "train_accuracy: 0.7821709469640522\n",
      "--------------------------------------------------\n",
      "test_recall : 0.8647619047619047\n",
      "train_recall: 0.8969606517654908\n",
      "--------------------------------------------------\n",
      "test_precision : 0.8000133428279602\n",
      "train_precision: 0.8075820976811903\n",
      "--------------------------------------------------\n",
      "test_f1 : 0.8298489277186428\n",
      "train_f1: 0.8496502741928568\n",
      "**************************************************\n"
     ]
    }
   ],
   "source": [
    "# Initialize RFE feature selector\n",
    "RFE_selector = RFE(LogisticRegression(), n_features_to_select=10) \n",
    "\n",
    "cat_preprocessing = Pipeline(steps=[\n",
    "    ('simple_imputer_mode', SimpleImputer(strategy='most_frequent') ),\n",
    "    ('onh_encoder', OneHotEncoder(sparse_output=False, drop='first') ),\n",
    "    ('RobustScaler',RobustScaler())\n",
    "\n",
    "])\n",
    "\n",
    "num_preprocessing = Pipeline(steps=[\n",
    "    ('knn_imputer', KNNImputer() ),\n",
    "    ('RobustScaler',RobustScaler())\n",
    "])\n",
    "\n",
    "# Create the ColumnTransformer preprocessing\n",
    "preprocessor =ColumnTransformer(\n",
    "    transformers=[\n",
    "       ('cat_preprocessing', cat_preprocessing , cat_cols)\n",
    "        ,('num_preprocessing', num_preprocessing , scaling_col)\n",
    "        #,('discrete_preprocessing', discrete_preprocessing , discrete_col)\n",
    "        ],\n",
    "    remainder='passthrough'\n",
    "     )\n",
    "# Steps Creation\n",
    "stepss = list()\n",
    "\n",
    "stepss.append(('preprocessor', preprocessor))\n",
    "stepss.append(('overSampling',SVMSMOTE()))\n",
    "stepss.append(('feature_selection_RFE',RFE_selector))\n",
    "\n",
    "stepss.append(('LR_model', LogisticRegression()))\n",
    "\n",
    "# Create the pipeline\n",
    "pipeline = Pipeline(steps=stepss)\n",
    "\n",
    "## scoring\n",
    "# Perform cross-validation\n",
    "# Example evaluation metrics\n",
    "cv_results = cross_validate(pipeline, X, y, scoring={'roc_auc': 'roc_auc',\n",
    "                                                             'accuracy':'accuracy',\n",
    "                                                             'recall':'recall',\n",
    "                                                             'precision':'precision',\n",
    "                                                             'f1':'f1'}# interested scors and metrics\n",
    "                                                             \n",
    "                                    , cv=5, return_train_score=True,n_jobs=-1,error_score='raise')  # X and y are your input data and targets\n",
    "        \n",
    "        \n",
    "# Access the results\n",
    "test_roc_auc = cv_results['test_roc_auc'].mean()\n",
    "train_roc_auc = cv_results['train_roc_auc'].mean()\n",
    "print(\"test_roc_auc :\", test_roc_auc)\n",
    "print(\"train_roc_auc:\", train_roc_auc)\n",
    "print('-'*50)\n",
    "test_accuracy = cv_results['test_accuracy'].mean()\n",
    "train_accuracy = cv_results['train_accuracy'].mean()\n",
    "print(\"test_accuracy :\", test_accuracy)\n",
    "print(\"train_accuracy:\", train_accuracy)\n",
    "print('-'*50)\n",
    "test_recall = cv_results['test_recall'].mean()\n",
    "train_recall = cv_results['train_recall'].mean()\n",
    "print(\"test_recall :\", test_recall)\n",
    "print(\"train_recall:\", train_recall)\n",
    "print('-'*50)\n",
    "test_precision = cv_results['test_precision'].mean()\n",
    "train_precision = cv_results['train_precision'].mean()\n",
    "print(\"test_precision :\", test_precision)\n",
    "print(\"train_precision:\", train_precision)\n",
    "print('-'*50)\n",
    "test_f1 = cv_results['test_f1'].mean()\n",
    "train_f1 = cv_results['train_f1'].mean()\n",
    "print(\"test_f1 :\", test_f1)\n",
    "print(\"train_f1:\", train_f1)\n",
    "result_models.append([test_roc_auc,train_roc_auc,test_accuracy,train_accuracy, test_recall , train_recall ,\n",
    "test_precision,train_precision,test_f1,train_f1])\n",
    "print('*' * 50)"
   ]
  },
  {
   "cell_type": "code",
   "execution_count": 207,
   "id": "ecbd5254",
   "metadata": {},
   "outputs": [],
   "source": [
    "param_grid = {\n",
    "    'LR_model__solver':['newton-cg', 'lbfgs', 'liblinear'],#'newton-cholesky'] ,\n",
    "    'LR_model__penalty':['l2'],#,'l1',None],\n",
    "    'LR_model__C':[100, 10, 1.0, 0.1, 0.01]#[.9,.5,.09, 0.1, 0.2,.3,.4,1,10,100]\n",
    "\n",
    "\n",
    "}"
   ]
  },
  {
   "cell_type": "code",
   "execution_count": 208,
   "id": "1d84c36c",
   "metadata": {},
   "outputs": [
    {
     "name": "stdout",
     "output_type": "stream",
     "text": [
      "Best Parameters: {'LR_model__C': 0.1, 'LR_model__penalty': 'l2', 'LR_model__solver': 'newton-cg'}\n",
      "Best Score: 0.8535016021612641\n"
     ]
    }
   ],
   "source": [
    "# Create GridSearchCV instance\n",
    "grid_search = GridSearchCV(estimator=pipeline, param_grid=param_grid, cv=5, scoring='f1'\n",
    "                                                             , n_jobs=-1, return_train_score=True)\n",
    "\n",
    "# Fit the pipeline with GridSearch to the data\n",
    "grid_search.fit(X, y)\n",
    "\n",
    "# Get the best parameters and best score\n",
    "best_params = grid_search.best_params_\n",
    "best_score = grid_search.best_score_\n",
    "\n",
    "print(\"Best Parameters:\", best_params)\n",
    "print(\"Best Score:\", best_score)"
   ]
  },
  {
   "cell_type": "code",
   "execution_count": 209,
   "id": "ea722ab1",
   "metadata": {},
   "outputs": [
    {
     "name": "stdout",
     "output_type": "stream",
     "text": [
      "Mean Test Score: 0.8535016021612641\n",
      "Mean Train Score: 0.8581514726212225\n"
     ]
    }
   ],
   "source": [
    "# Get the mean test score and mean train score for the best estimator\n",
    "mean_test_score = grid_search.cv_results_['mean_test_score'][grid_search.best_index_]\n",
    "mean_train_score = grid_search.cv_results_['mean_train_score'][grid_search.best_index_]\n",
    "\n",
    "print(\"Mean Test Score:\", mean_test_score)\n",
    "print(\"Mean Train Score:\", mean_train_score)"
   ]
  },
  {
   "cell_type": "code",
   "execution_count": 85,
   "id": "49fe6df7",
   "metadata": {},
   "outputs": [
    {
     "name": "stdout",
     "output_type": "stream",
     "text": [
      "Best Parameters: {'LR_model__C': 10, 'LR_model__penalty': 'l2', 'LR_model__solver': 'liblinear'}\n",
      "Best Score: 0.8149136400662058\n"
     ]
    }
   ],
   "source": [
    "'''# Create GridSearchCV instance\n",
    "grid_search = GridSearchCV(estimator=pipeline, param_grid=param_grid, cv=5, scoring='precision'\n",
    "                                                             , n_jobs=-1, return_train_score=True)\n",
    "\n",
    "# Fit the pipeline with GridSearch to the data\n",
    "grid_search.fit(X, y)\n",
    "\n",
    "# Get the best parameters and best score\n",
    "best_params = grid_search.best_params_\n",
    "best_score = grid_search.best_score_\n",
    "\n",
    "print(\"Best Parameters:\", best_params)\n",
    "print(\"Best Score:\", best_score)'''"
   ]
  },
  {
   "cell_type": "code",
   "execution_count": 210,
   "id": "df3389cc",
   "metadata": {},
   "outputs": [
    {
     "data": {
      "text/html": [
       "<style>#sk-container-id-5 {color: black;background-color: white;}#sk-container-id-5 pre{padding: 0;}#sk-container-id-5 div.sk-toggleable {background-color: white;}#sk-container-id-5 label.sk-toggleable__label {cursor: pointer;display: block;width: 100%;margin-bottom: 0;padding: 0.3em;box-sizing: border-box;text-align: center;}#sk-container-id-5 label.sk-toggleable__label-arrow:before {content: \"▸\";float: left;margin-right: 0.25em;color: #696969;}#sk-container-id-5 label.sk-toggleable__label-arrow:hover:before {color: black;}#sk-container-id-5 div.sk-estimator:hover label.sk-toggleable__label-arrow:before {color: black;}#sk-container-id-5 div.sk-toggleable__content {max-height: 0;max-width: 0;overflow: hidden;text-align: left;background-color: #f0f8ff;}#sk-container-id-5 div.sk-toggleable__content pre {margin: 0.2em;color: black;border-radius: 0.25em;background-color: #f0f8ff;}#sk-container-id-5 input.sk-toggleable__control:checked~div.sk-toggleable__content {max-height: 200px;max-width: 100%;overflow: auto;}#sk-container-id-5 input.sk-toggleable__control:checked~label.sk-toggleable__label-arrow:before {content: \"▾\";}#sk-container-id-5 div.sk-estimator input.sk-toggleable__control:checked~label.sk-toggleable__label {background-color: #d4ebff;}#sk-container-id-5 div.sk-label input.sk-toggleable__control:checked~label.sk-toggleable__label {background-color: #d4ebff;}#sk-container-id-5 input.sk-hidden--visually {border: 0;clip: rect(1px 1px 1px 1px);clip: rect(1px, 1px, 1px, 1px);height: 1px;margin: -1px;overflow: hidden;padding: 0;position: absolute;width: 1px;}#sk-container-id-5 div.sk-estimator {font-family: monospace;background-color: #f0f8ff;border: 1px dotted black;border-radius: 0.25em;box-sizing: border-box;margin-bottom: 0.5em;}#sk-container-id-5 div.sk-estimator:hover {background-color: #d4ebff;}#sk-container-id-5 div.sk-parallel-item::after {content: \"\";width: 100%;border-bottom: 1px solid gray;flex-grow: 1;}#sk-container-id-5 div.sk-label:hover label.sk-toggleable__label {background-color: #d4ebff;}#sk-container-id-5 div.sk-serial::before {content: \"\";position: absolute;border-left: 1px solid gray;box-sizing: border-box;top: 0;bottom: 0;left: 50%;z-index: 0;}#sk-container-id-5 div.sk-serial {display: flex;flex-direction: column;align-items: center;background-color: white;padding-right: 0.2em;padding-left: 0.2em;position: relative;}#sk-container-id-5 div.sk-item {position: relative;z-index: 1;}#sk-container-id-5 div.sk-parallel {display: flex;align-items: stretch;justify-content: center;background-color: white;position: relative;}#sk-container-id-5 div.sk-item::before, #sk-container-id-5 div.sk-parallel-item::before {content: \"\";position: absolute;border-left: 1px solid gray;box-sizing: border-box;top: 0;bottom: 0;left: 50%;z-index: -1;}#sk-container-id-5 div.sk-parallel-item {display: flex;flex-direction: column;z-index: 1;position: relative;background-color: white;}#sk-container-id-5 div.sk-parallel-item:first-child::after {align-self: flex-end;width: 50%;}#sk-container-id-5 div.sk-parallel-item:last-child::after {align-self: flex-start;width: 50%;}#sk-container-id-5 div.sk-parallel-item:only-child::after {width: 0;}#sk-container-id-5 div.sk-dashed-wrapped {border: 1px dashed gray;margin: 0 0.4em 0.5em 0.4em;box-sizing: border-box;padding-bottom: 0.4em;background-color: white;}#sk-container-id-5 div.sk-label label {font-family: monospace;font-weight: bold;display: inline-block;line-height: 1.2em;}#sk-container-id-5 div.sk-label-container {text-align: center;}#sk-container-id-5 div.sk-container {/* jupyter's `normalize.less` sets `[hidden] { display: none; }` but bootstrap.min.css set `[hidden] { display: none !important; }` so we also need the `!important` here to be able to override the default hidden behavior on the sphinx rendered scikit-learn.org. See: https://github.com/scikit-learn/scikit-learn/issues/21755 */display: inline-block !important;position: relative;}#sk-container-id-5 div.sk-text-repr-fallback {display: none;}</style><div id=\"sk-container-id-5\" class=\"sk-top-container\"><div class=\"sk-text-repr-fallback\"><pre>Pipeline(steps=[(&#x27;preprocessor&#x27;,\n",
       "                 ColumnTransformer(remainder=&#x27;passthrough&#x27;,\n",
       "                                   transformers=[(&#x27;cat_preprocessing&#x27;,\n",
       "                                                  Pipeline(steps=[(&#x27;simple_imputer_mode&#x27;,\n",
       "                                                                   SimpleImputer(strategy=&#x27;most_frequent&#x27;)),\n",
       "                                                                  (&#x27;onh_encoder&#x27;,\n",
       "                                                                   OneHotEncoder(drop=&#x27;first&#x27;,\n",
       "                                                                                 sparse_output=False)),\n",
       "                                                                  (&#x27;RobustScaler&#x27;,\n",
       "                                                                   RobustScaler())]),\n",
       "                                                  [&#x27;Gender&#x27;, &#x27;Married&#x27;,\n",
       "                                                   &#x27;Education&#x27;, &#x27;Self_Employed&#x27;,\n",
       "                                                   &#x27;Property_Area&#x27;...\n",
       "                                                  Pipeline(steps=[(&#x27;knn_imputer&#x27;,\n",
       "                                                                   KNNImputer()),\n",
       "                                                                  (&#x27;RobustScaler&#x27;,\n",
       "                                                                   RobustScaler())]),\n",
       "                                                  [&#x27;ApplicantIncome&#x27;,\n",
       "                                                   &#x27;CoapplicantIncome&#x27;,\n",
       "                                                   &#x27;LoanAmount&#x27;,\n",
       "                                                   &#x27;Loan_Amount_Term&#x27;,\n",
       "                                                   &#x27;min_installment&#x27;,\n",
       "                                                   &#x27;ratio_of_income&#x27;,\n",
       "                                                   &#x27;diff_all&#x27;])])),\n",
       "                (&#x27;overSampling&#x27;, SVMSMOTE()),\n",
       "                (&#x27;feature_selection_RFE&#x27;,\n",
       "                 RFE(estimator=LogisticRegression(), n_features_to_select=10)),\n",
       "                (&#x27;LR_model&#x27;, LogisticRegression(C=0.1, solver=&#x27;newton-cg&#x27;))])</pre><b>In a Jupyter environment, please rerun this cell to show the HTML representation or trust the notebook. <br />On GitHub, the HTML representation is unable to render, please try loading this page with nbviewer.org.</b></div><div class=\"sk-container\" hidden><div class=\"sk-item sk-dashed-wrapped\"><div class=\"sk-label-container\"><div class=\"sk-label sk-toggleable\"><input class=\"sk-toggleable__control sk-hidden--visually\" id=\"sk-estimator-id-53\" type=\"checkbox\" ><label for=\"sk-estimator-id-53\" class=\"sk-toggleable__label sk-toggleable__label-arrow\">Pipeline</label><div class=\"sk-toggleable__content\"><pre>Pipeline(steps=[(&#x27;preprocessor&#x27;,\n",
       "                 ColumnTransformer(remainder=&#x27;passthrough&#x27;,\n",
       "                                   transformers=[(&#x27;cat_preprocessing&#x27;,\n",
       "                                                  Pipeline(steps=[(&#x27;simple_imputer_mode&#x27;,\n",
       "                                                                   SimpleImputer(strategy=&#x27;most_frequent&#x27;)),\n",
       "                                                                  (&#x27;onh_encoder&#x27;,\n",
       "                                                                   OneHotEncoder(drop=&#x27;first&#x27;,\n",
       "                                                                                 sparse_output=False)),\n",
       "                                                                  (&#x27;RobustScaler&#x27;,\n",
       "                                                                   RobustScaler())]),\n",
       "                                                  [&#x27;Gender&#x27;, &#x27;Married&#x27;,\n",
       "                                                   &#x27;Education&#x27;, &#x27;Self_Employed&#x27;,\n",
       "                                                   &#x27;Property_Area&#x27;...\n",
       "                                                  Pipeline(steps=[(&#x27;knn_imputer&#x27;,\n",
       "                                                                   KNNImputer()),\n",
       "                                                                  (&#x27;RobustScaler&#x27;,\n",
       "                                                                   RobustScaler())]),\n",
       "                                                  [&#x27;ApplicantIncome&#x27;,\n",
       "                                                   &#x27;CoapplicantIncome&#x27;,\n",
       "                                                   &#x27;LoanAmount&#x27;,\n",
       "                                                   &#x27;Loan_Amount_Term&#x27;,\n",
       "                                                   &#x27;min_installment&#x27;,\n",
       "                                                   &#x27;ratio_of_income&#x27;,\n",
       "                                                   &#x27;diff_all&#x27;])])),\n",
       "                (&#x27;overSampling&#x27;, SVMSMOTE()),\n",
       "                (&#x27;feature_selection_RFE&#x27;,\n",
       "                 RFE(estimator=LogisticRegression(), n_features_to_select=10)),\n",
       "                (&#x27;LR_model&#x27;, LogisticRegression(C=0.1, solver=&#x27;newton-cg&#x27;))])</pre></div></div></div><div class=\"sk-serial\"><div class=\"sk-item sk-dashed-wrapped\"><div class=\"sk-label-container\"><div class=\"sk-label sk-toggleable\"><input class=\"sk-toggleable__control sk-hidden--visually\" id=\"sk-estimator-id-54\" type=\"checkbox\" ><label for=\"sk-estimator-id-54\" class=\"sk-toggleable__label sk-toggleable__label-arrow\">preprocessor: ColumnTransformer</label><div class=\"sk-toggleable__content\"><pre>ColumnTransformer(remainder=&#x27;passthrough&#x27;,\n",
       "                  transformers=[(&#x27;cat_preprocessing&#x27;,\n",
       "                                 Pipeline(steps=[(&#x27;simple_imputer_mode&#x27;,\n",
       "                                                  SimpleImputer(strategy=&#x27;most_frequent&#x27;)),\n",
       "                                                 (&#x27;onh_encoder&#x27;,\n",
       "                                                  OneHotEncoder(drop=&#x27;first&#x27;,\n",
       "                                                                sparse_output=False)),\n",
       "                                                 (&#x27;RobustScaler&#x27;,\n",
       "                                                  RobustScaler())]),\n",
       "                                 [&#x27;Gender&#x27;, &#x27;Married&#x27;, &#x27;Education&#x27;,\n",
       "                                  &#x27;Self_Employed&#x27;, &#x27;Property_Area&#x27;,\n",
       "                                  &#x27;Dependents&#x27;, &#x27;Credit_History&#x27;]),\n",
       "                                (&#x27;num_preprocessing&#x27;,\n",
       "                                 Pipeline(steps=[(&#x27;knn_imputer&#x27;, KNNImputer()),\n",
       "                                                 (&#x27;RobustScaler&#x27;,\n",
       "                                                  RobustScaler())]),\n",
       "                                 [&#x27;ApplicantIncome&#x27;, &#x27;CoapplicantIncome&#x27;,\n",
       "                                  &#x27;LoanAmount&#x27;, &#x27;Loan_Amount_Term&#x27;,\n",
       "                                  &#x27;min_installment&#x27;, &#x27;ratio_of_income&#x27;,\n",
       "                                  &#x27;diff_all&#x27;])])</pre></div></div></div><div class=\"sk-parallel\"><div class=\"sk-parallel-item\"><div class=\"sk-item\"><div class=\"sk-label-container\"><div class=\"sk-label sk-toggleable\"><input class=\"sk-toggleable__control sk-hidden--visually\" id=\"sk-estimator-id-55\" type=\"checkbox\" ><label for=\"sk-estimator-id-55\" class=\"sk-toggleable__label sk-toggleable__label-arrow\">cat_preprocessing</label><div class=\"sk-toggleable__content\"><pre>[&#x27;Gender&#x27;, &#x27;Married&#x27;, &#x27;Education&#x27;, &#x27;Self_Employed&#x27;, &#x27;Property_Area&#x27;, &#x27;Dependents&#x27;, &#x27;Credit_History&#x27;]</pre></div></div></div><div class=\"sk-serial\"><div class=\"sk-item\"><div class=\"sk-serial\"><div class=\"sk-item\"><div class=\"sk-estimator sk-toggleable\"><input class=\"sk-toggleable__control sk-hidden--visually\" id=\"sk-estimator-id-56\" type=\"checkbox\" ><label for=\"sk-estimator-id-56\" class=\"sk-toggleable__label sk-toggleable__label-arrow\">SimpleImputer</label><div class=\"sk-toggleable__content\"><pre>SimpleImputer(strategy=&#x27;most_frequent&#x27;)</pre></div></div></div><div class=\"sk-item\"><div class=\"sk-estimator sk-toggleable\"><input class=\"sk-toggleable__control sk-hidden--visually\" id=\"sk-estimator-id-57\" type=\"checkbox\" ><label for=\"sk-estimator-id-57\" class=\"sk-toggleable__label sk-toggleable__label-arrow\">OneHotEncoder</label><div class=\"sk-toggleable__content\"><pre>OneHotEncoder(drop=&#x27;first&#x27;, sparse_output=False)</pre></div></div></div><div class=\"sk-item\"><div class=\"sk-estimator sk-toggleable\"><input class=\"sk-toggleable__control sk-hidden--visually\" id=\"sk-estimator-id-58\" type=\"checkbox\" ><label for=\"sk-estimator-id-58\" class=\"sk-toggleable__label sk-toggleable__label-arrow\">RobustScaler</label><div class=\"sk-toggleable__content\"><pre>RobustScaler()</pre></div></div></div></div></div></div></div></div><div class=\"sk-parallel-item\"><div class=\"sk-item\"><div class=\"sk-label-container\"><div class=\"sk-label sk-toggleable\"><input class=\"sk-toggleable__control sk-hidden--visually\" id=\"sk-estimator-id-59\" type=\"checkbox\" ><label for=\"sk-estimator-id-59\" class=\"sk-toggleable__label sk-toggleable__label-arrow\">num_preprocessing</label><div class=\"sk-toggleable__content\"><pre>[&#x27;ApplicantIncome&#x27;, &#x27;CoapplicantIncome&#x27;, &#x27;LoanAmount&#x27;, &#x27;Loan_Amount_Term&#x27;, &#x27;min_installment&#x27;, &#x27;ratio_of_income&#x27;, &#x27;diff_all&#x27;]</pre></div></div></div><div class=\"sk-serial\"><div class=\"sk-item\"><div class=\"sk-serial\"><div class=\"sk-item\"><div class=\"sk-estimator sk-toggleable\"><input class=\"sk-toggleable__control sk-hidden--visually\" id=\"sk-estimator-id-60\" type=\"checkbox\" ><label for=\"sk-estimator-id-60\" class=\"sk-toggleable__label sk-toggleable__label-arrow\">KNNImputer</label><div class=\"sk-toggleable__content\"><pre>KNNImputer()</pre></div></div></div><div class=\"sk-item\"><div class=\"sk-estimator sk-toggleable\"><input class=\"sk-toggleable__control sk-hidden--visually\" id=\"sk-estimator-id-61\" type=\"checkbox\" ><label for=\"sk-estimator-id-61\" class=\"sk-toggleable__label sk-toggleable__label-arrow\">RobustScaler</label><div class=\"sk-toggleable__content\"><pre>RobustScaler()</pre></div></div></div></div></div></div></div></div><div class=\"sk-parallel-item\"><div class=\"sk-item\"><div class=\"sk-label-container\"><div class=\"sk-label sk-toggleable\"><input class=\"sk-toggleable__control sk-hidden--visually\" id=\"sk-estimator-id-62\" type=\"checkbox\" ><label for=\"sk-estimator-id-62\" class=\"sk-toggleable__label sk-toggleable__label-arrow\">remainder</label><div class=\"sk-toggleable__content\"><pre>[]</pre></div></div></div><div class=\"sk-serial\"><div class=\"sk-item\"><div class=\"sk-estimator sk-toggleable\"><input class=\"sk-toggleable__control sk-hidden--visually\" id=\"sk-estimator-id-63\" type=\"checkbox\" ><label for=\"sk-estimator-id-63\" class=\"sk-toggleable__label sk-toggleable__label-arrow\">passthrough</label><div class=\"sk-toggleable__content\"><pre>passthrough</pre></div></div></div></div></div></div></div></div><div class=\"sk-item\"><div class=\"sk-estimator sk-toggleable\"><input class=\"sk-toggleable__control sk-hidden--visually\" id=\"sk-estimator-id-64\" type=\"checkbox\" ><label for=\"sk-estimator-id-64\" class=\"sk-toggleable__label sk-toggleable__label-arrow\">SVMSMOTE</label><div class=\"sk-toggleable__content\"><pre>SVMSMOTE()</pre></div></div></div><div class=\"sk-item sk-dashed-wrapped\"><div class=\"sk-label-container\"><div class=\"sk-label sk-toggleable\"><input class=\"sk-toggleable__control sk-hidden--visually\" id=\"sk-estimator-id-65\" type=\"checkbox\" ><label for=\"sk-estimator-id-65\" class=\"sk-toggleable__label sk-toggleable__label-arrow\">feature_selection_RFE: RFE</label><div class=\"sk-toggleable__content\"><pre>RFE(estimator=LogisticRegression(), n_features_to_select=10)</pre></div></div></div><div class=\"sk-parallel\"><div class=\"sk-parallel-item\"><div class=\"sk-item\"><div class=\"sk-label-container\"><div class=\"sk-label sk-toggleable\"><input class=\"sk-toggleable__control sk-hidden--visually\" id=\"sk-estimator-id-66\" type=\"checkbox\" ><label for=\"sk-estimator-id-66\" class=\"sk-toggleable__label sk-toggleable__label-arrow\">estimator: LogisticRegression</label><div class=\"sk-toggleable__content\"><pre>LogisticRegression()</pre></div></div></div><div class=\"sk-serial\"><div class=\"sk-item\"><div class=\"sk-estimator sk-toggleable\"><input class=\"sk-toggleable__control sk-hidden--visually\" id=\"sk-estimator-id-67\" type=\"checkbox\" ><label for=\"sk-estimator-id-67\" class=\"sk-toggleable__label sk-toggleable__label-arrow\">LogisticRegression</label><div class=\"sk-toggleable__content\"><pre>LogisticRegression()</pre></div></div></div></div></div></div></div></div><div class=\"sk-item\"><div class=\"sk-estimator sk-toggleable\"><input class=\"sk-toggleable__control sk-hidden--visually\" id=\"sk-estimator-id-68\" type=\"checkbox\" ><label for=\"sk-estimator-id-68\" class=\"sk-toggleable__label sk-toggleable__label-arrow\">LogisticRegression</label><div class=\"sk-toggleable__content\"><pre>LogisticRegression(C=0.1, solver=&#x27;newton-cg&#x27;)</pre></div></div></div></div></div></div></div>"
      ],
      "text/plain": [
       "Pipeline(steps=[('preprocessor',\n",
       "                 ColumnTransformer(remainder='passthrough',\n",
       "                                   transformers=[('cat_preprocessing',\n",
       "                                                  Pipeline(steps=[('simple_imputer_mode',\n",
       "                                                                   SimpleImputer(strategy='most_frequent')),\n",
       "                                                                  ('onh_encoder',\n",
       "                                                                   OneHotEncoder(drop='first',\n",
       "                                                                                 sparse_output=False)),\n",
       "                                                                  ('RobustScaler',\n",
       "                                                                   RobustScaler())]),\n",
       "                                                  ['Gender', 'Married',\n",
       "                                                   'Education', 'Self_Employed',\n",
       "                                                   'Property_Area'...\n",
       "                                                  Pipeline(steps=[('knn_imputer',\n",
       "                                                                   KNNImputer()),\n",
       "                                                                  ('RobustScaler',\n",
       "                                                                   RobustScaler())]),\n",
       "                                                  ['ApplicantIncome',\n",
       "                                                   'CoapplicantIncome',\n",
       "                                                   'LoanAmount',\n",
       "                                                   'Loan_Amount_Term',\n",
       "                                                   'min_installment',\n",
       "                                                   'ratio_of_income',\n",
       "                                                   'diff_all'])])),\n",
       "                ('overSampling', SVMSMOTE()),\n",
       "                ('feature_selection_RFE',\n",
       "                 RFE(estimator=LogisticRegression(), n_features_to_select=10)),\n",
       "                ('LR_model', LogisticRegression(C=0.1, solver='newton-cg'))])"
      ]
     },
     "execution_count": 210,
     "metadata": {},
     "output_type": "execute_result"
    }
   ],
   "source": [
    "grid_search.best_estimator_"
   ]
  },
  {
   "cell_type": "markdown",
   "id": "c1cfb5ee",
   "metadata": {},
   "source": [
    "# Saving model with its best parameters"
   ]
  },
  {
   "cell_type": "code",
   "execution_count": 211,
   "id": "49d6225b",
   "metadata": {},
   "outputs": [],
   "source": [
    "Model = grid_search.best_estimator_"
   ]
  },
  {
   "cell_type": "code",
   "execution_count": 212,
   "id": "7164c383",
   "metadata": {},
   "outputs": [
    {
     "data": {
      "text/html": [
       "<style>#sk-container-id-6 {color: black;background-color: white;}#sk-container-id-6 pre{padding: 0;}#sk-container-id-6 div.sk-toggleable {background-color: white;}#sk-container-id-6 label.sk-toggleable__label {cursor: pointer;display: block;width: 100%;margin-bottom: 0;padding: 0.3em;box-sizing: border-box;text-align: center;}#sk-container-id-6 label.sk-toggleable__label-arrow:before {content: \"▸\";float: left;margin-right: 0.25em;color: #696969;}#sk-container-id-6 label.sk-toggleable__label-arrow:hover:before {color: black;}#sk-container-id-6 div.sk-estimator:hover label.sk-toggleable__label-arrow:before {color: black;}#sk-container-id-6 div.sk-toggleable__content {max-height: 0;max-width: 0;overflow: hidden;text-align: left;background-color: #f0f8ff;}#sk-container-id-6 div.sk-toggleable__content pre {margin: 0.2em;color: black;border-radius: 0.25em;background-color: #f0f8ff;}#sk-container-id-6 input.sk-toggleable__control:checked~div.sk-toggleable__content {max-height: 200px;max-width: 100%;overflow: auto;}#sk-container-id-6 input.sk-toggleable__control:checked~label.sk-toggleable__label-arrow:before {content: \"▾\";}#sk-container-id-6 div.sk-estimator input.sk-toggleable__control:checked~label.sk-toggleable__label {background-color: #d4ebff;}#sk-container-id-6 div.sk-label input.sk-toggleable__control:checked~label.sk-toggleable__label {background-color: #d4ebff;}#sk-container-id-6 input.sk-hidden--visually {border: 0;clip: rect(1px 1px 1px 1px);clip: rect(1px, 1px, 1px, 1px);height: 1px;margin: -1px;overflow: hidden;padding: 0;position: absolute;width: 1px;}#sk-container-id-6 div.sk-estimator {font-family: monospace;background-color: #f0f8ff;border: 1px dotted black;border-radius: 0.25em;box-sizing: border-box;margin-bottom: 0.5em;}#sk-container-id-6 div.sk-estimator:hover {background-color: #d4ebff;}#sk-container-id-6 div.sk-parallel-item::after {content: \"\";width: 100%;border-bottom: 1px solid gray;flex-grow: 1;}#sk-container-id-6 div.sk-label:hover label.sk-toggleable__label {background-color: #d4ebff;}#sk-container-id-6 div.sk-serial::before {content: \"\";position: absolute;border-left: 1px solid gray;box-sizing: border-box;top: 0;bottom: 0;left: 50%;z-index: 0;}#sk-container-id-6 div.sk-serial {display: flex;flex-direction: column;align-items: center;background-color: white;padding-right: 0.2em;padding-left: 0.2em;position: relative;}#sk-container-id-6 div.sk-item {position: relative;z-index: 1;}#sk-container-id-6 div.sk-parallel {display: flex;align-items: stretch;justify-content: center;background-color: white;position: relative;}#sk-container-id-6 div.sk-item::before, #sk-container-id-6 div.sk-parallel-item::before {content: \"\";position: absolute;border-left: 1px solid gray;box-sizing: border-box;top: 0;bottom: 0;left: 50%;z-index: -1;}#sk-container-id-6 div.sk-parallel-item {display: flex;flex-direction: column;z-index: 1;position: relative;background-color: white;}#sk-container-id-6 div.sk-parallel-item:first-child::after {align-self: flex-end;width: 50%;}#sk-container-id-6 div.sk-parallel-item:last-child::after {align-self: flex-start;width: 50%;}#sk-container-id-6 div.sk-parallel-item:only-child::after {width: 0;}#sk-container-id-6 div.sk-dashed-wrapped {border: 1px dashed gray;margin: 0 0.4em 0.5em 0.4em;box-sizing: border-box;padding-bottom: 0.4em;background-color: white;}#sk-container-id-6 div.sk-label label {font-family: monospace;font-weight: bold;display: inline-block;line-height: 1.2em;}#sk-container-id-6 div.sk-label-container {text-align: center;}#sk-container-id-6 div.sk-container {/* jupyter's `normalize.less` sets `[hidden] { display: none; }` but bootstrap.min.css set `[hidden] { display: none !important; }` so we also need the `!important` here to be able to override the default hidden behavior on the sphinx rendered scikit-learn.org. See: https://github.com/scikit-learn/scikit-learn/issues/21755 */display: inline-block !important;position: relative;}#sk-container-id-6 div.sk-text-repr-fallback {display: none;}</style><div id=\"sk-container-id-6\" class=\"sk-top-container\"><div class=\"sk-text-repr-fallback\"><pre>Pipeline(steps=[(&#x27;preprocessor&#x27;,\n",
       "                 ColumnTransformer(remainder=&#x27;passthrough&#x27;,\n",
       "                                   transformers=[(&#x27;cat_preprocessing&#x27;,\n",
       "                                                  Pipeline(steps=[(&#x27;simple_imputer_mode&#x27;,\n",
       "                                                                   SimpleImputer(strategy=&#x27;most_frequent&#x27;)),\n",
       "                                                                  (&#x27;onh_encoder&#x27;,\n",
       "                                                                   OneHotEncoder(drop=&#x27;first&#x27;,\n",
       "                                                                                 sparse_output=False)),\n",
       "                                                                  (&#x27;RobustScaler&#x27;,\n",
       "                                                                   RobustScaler())]),\n",
       "                                                  [&#x27;Gender&#x27;, &#x27;Married&#x27;,\n",
       "                                                   &#x27;Education&#x27;, &#x27;Self_Employed&#x27;,\n",
       "                                                   &#x27;Property_Area&#x27;...\n",
       "                                                  Pipeline(steps=[(&#x27;knn_imputer&#x27;,\n",
       "                                                                   KNNImputer()),\n",
       "                                                                  (&#x27;RobustScaler&#x27;,\n",
       "                                                                   RobustScaler())]),\n",
       "                                                  [&#x27;ApplicantIncome&#x27;,\n",
       "                                                   &#x27;CoapplicantIncome&#x27;,\n",
       "                                                   &#x27;LoanAmount&#x27;,\n",
       "                                                   &#x27;Loan_Amount_Term&#x27;,\n",
       "                                                   &#x27;min_installment&#x27;,\n",
       "                                                   &#x27;ratio_of_income&#x27;,\n",
       "                                                   &#x27;diff_all&#x27;])])),\n",
       "                (&#x27;overSampling&#x27;, SVMSMOTE()),\n",
       "                (&#x27;feature_selection_RFE&#x27;,\n",
       "                 RFE(estimator=LogisticRegression(), n_features_to_select=10)),\n",
       "                (&#x27;LR_model&#x27;, LogisticRegression(C=0.1, solver=&#x27;newton-cg&#x27;))])</pre><b>In a Jupyter environment, please rerun this cell to show the HTML representation or trust the notebook. <br />On GitHub, the HTML representation is unable to render, please try loading this page with nbviewer.org.</b></div><div class=\"sk-container\" hidden><div class=\"sk-item sk-dashed-wrapped\"><div class=\"sk-label-container\"><div class=\"sk-label sk-toggleable\"><input class=\"sk-toggleable__control sk-hidden--visually\" id=\"sk-estimator-id-69\" type=\"checkbox\" ><label for=\"sk-estimator-id-69\" class=\"sk-toggleable__label sk-toggleable__label-arrow\">Pipeline</label><div class=\"sk-toggleable__content\"><pre>Pipeline(steps=[(&#x27;preprocessor&#x27;,\n",
       "                 ColumnTransformer(remainder=&#x27;passthrough&#x27;,\n",
       "                                   transformers=[(&#x27;cat_preprocessing&#x27;,\n",
       "                                                  Pipeline(steps=[(&#x27;simple_imputer_mode&#x27;,\n",
       "                                                                   SimpleImputer(strategy=&#x27;most_frequent&#x27;)),\n",
       "                                                                  (&#x27;onh_encoder&#x27;,\n",
       "                                                                   OneHotEncoder(drop=&#x27;first&#x27;,\n",
       "                                                                                 sparse_output=False)),\n",
       "                                                                  (&#x27;RobustScaler&#x27;,\n",
       "                                                                   RobustScaler())]),\n",
       "                                                  [&#x27;Gender&#x27;, &#x27;Married&#x27;,\n",
       "                                                   &#x27;Education&#x27;, &#x27;Self_Employed&#x27;,\n",
       "                                                   &#x27;Property_Area&#x27;...\n",
       "                                                  Pipeline(steps=[(&#x27;knn_imputer&#x27;,\n",
       "                                                                   KNNImputer()),\n",
       "                                                                  (&#x27;RobustScaler&#x27;,\n",
       "                                                                   RobustScaler())]),\n",
       "                                                  [&#x27;ApplicantIncome&#x27;,\n",
       "                                                   &#x27;CoapplicantIncome&#x27;,\n",
       "                                                   &#x27;LoanAmount&#x27;,\n",
       "                                                   &#x27;Loan_Amount_Term&#x27;,\n",
       "                                                   &#x27;min_installment&#x27;,\n",
       "                                                   &#x27;ratio_of_income&#x27;,\n",
       "                                                   &#x27;diff_all&#x27;])])),\n",
       "                (&#x27;overSampling&#x27;, SVMSMOTE()),\n",
       "                (&#x27;feature_selection_RFE&#x27;,\n",
       "                 RFE(estimator=LogisticRegression(), n_features_to_select=10)),\n",
       "                (&#x27;LR_model&#x27;, LogisticRegression(C=0.1, solver=&#x27;newton-cg&#x27;))])</pre></div></div></div><div class=\"sk-serial\"><div class=\"sk-item sk-dashed-wrapped\"><div class=\"sk-label-container\"><div class=\"sk-label sk-toggleable\"><input class=\"sk-toggleable__control sk-hidden--visually\" id=\"sk-estimator-id-70\" type=\"checkbox\" ><label for=\"sk-estimator-id-70\" class=\"sk-toggleable__label sk-toggleable__label-arrow\">preprocessor: ColumnTransformer</label><div class=\"sk-toggleable__content\"><pre>ColumnTransformer(remainder=&#x27;passthrough&#x27;,\n",
       "                  transformers=[(&#x27;cat_preprocessing&#x27;,\n",
       "                                 Pipeline(steps=[(&#x27;simple_imputer_mode&#x27;,\n",
       "                                                  SimpleImputer(strategy=&#x27;most_frequent&#x27;)),\n",
       "                                                 (&#x27;onh_encoder&#x27;,\n",
       "                                                  OneHotEncoder(drop=&#x27;first&#x27;,\n",
       "                                                                sparse_output=False)),\n",
       "                                                 (&#x27;RobustScaler&#x27;,\n",
       "                                                  RobustScaler())]),\n",
       "                                 [&#x27;Gender&#x27;, &#x27;Married&#x27;, &#x27;Education&#x27;,\n",
       "                                  &#x27;Self_Employed&#x27;, &#x27;Property_Area&#x27;,\n",
       "                                  &#x27;Dependents&#x27;, &#x27;Credit_History&#x27;]),\n",
       "                                (&#x27;num_preprocessing&#x27;,\n",
       "                                 Pipeline(steps=[(&#x27;knn_imputer&#x27;, KNNImputer()),\n",
       "                                                 (&#x27;RobustScaler&#x27;,\n",
       "                                                  RobustScaler())]),\n",
       "                                 [&#x27;ApplicantIncome&#x27;, &#x27;CoapplicantIncome&#x27;,\n",
       "                                  &#x27;LoanAmount&#x27;, &#x27;Loan_Amount_Term&#x27;,\n",
       "                                  &#x27;min_installment&#x27;, &#x27;ratio_of_income&#x27;,\n",
       "                                  &#x27;diff_all&#x27;])])</pre></div></div></div><div class=\"sk-parallel\"><div class=\"sk-parallel-item\"><div class=\"sk-item\"><div class=\"sk-label-container\"><div class=\"sk-label sk-toggleable\"><input class=\"sk-toggleable__control sk-hidden--visually\" id=\"sk-estimator-id-71\" type=\"checkbox\" ><label for=\"sk-estimator-id-71\" class=\"sk-toggleable__label sk-toggleable__label-arrow\">cat_preprocessing</label><div class=\"sk-toggleable__content\"><pre>[&#x27;Gender&#x27;, &#x27;Married&#x27;, &#x27;Education&#x27;, &#x27;Self_Employed&#x27;, &#x27;Property_Area&#x27;, &#x27;Dependents&#x27;, &#x27;Credit_History&#x27;]</pre></div></div></div><div class=\"sk-serial\"><div class=\"sk-item\"><div class=\"sk-serial\"><div class=\"sk-item\"><div class=\"sk-estimator sk-toggleable\"><input class=\"sk-toggleable__control sk-hidden--visually\" id=\"sk-estimator-id-72\" type=\"checkbox\" ><label for=\"sk-estimator-id-72\" class=\"sk-toggleable__label sk-toggleable__label-arrow\">SimpleImputer</label><div class=\"sk-toggleable__content\"><pre>SimpleImputer(strategy=&#x27;most_frequent&#x27;)</pre></div></div></div><div class=\"sk-item\"><div class=\"sk-estimator sk-toggleable\"><input class=\"sk-toggleable__control sk-hidden--visually\" id=\"sk-estimator-id-73\" type=\"checkbox\" ><label for=\"sk-estimator-id-73\" class=\"sk-toggleable__label sk-toggleable__label-arrow\">OneHotEncoder</label><div class=\"sk-toggleable__content\"><pre>OneHotEncoder(drop=&#x27;first&#x27;, sparse_output=False)</pre></div></div></div><div class=\"sk-item\"><div class=\"sk-estimator sk-toggleable\"><input class=\"sk-toggleable__control sk-hidden--visually\" id=\"sk-estimator-id-74\" type=\"checkbox\" ><label for=\"sk-estimator-id-74\" class=\"sk-toggleable__label sk-toggleable__label-arrow\">RobustScaler</label><div class=\"sk-toggleable__content\"><pre>RobustScaler()</pre></div></div></div></div></div></div></div></div><div class=\"sk-parallel-item\"><div class=\"sk-item\"><div class=\"sk-label-container\"><div class=\"sk-label sk-toggleable\"><input class=\"sk-toggleable__control sk-hidden--visually\" id=\"sk-estimator-id-75\" type=\"checkbox\" ><label for=\"sk-estimator-id-75\" class=\"sk-toggleable__label sk-toggleable__label-arrow\">num_preprocessing</label><div class=\"sk-toggleable__content\"><pre>[&#x27;ApplicantIncome&#x27;, &#x27;CoapplicantIncome&#x27;, &#x27;LoanAmount&#x27;, &#x27;Loan_Amount_Term&#x27;, &#x27;min_installment&#x27;, &#x27;ratio_of_income&#x27;, &#x27;diff_all&#x27;]</pre></div></div></div><div class=\"sk-serial\"><div class=\"sk-item\"><div class=\"sk-serial\"><div class=\"sk-item\"><div class=\"sk-estimator sk-toggleable\"><input class=\"sk-toggleable__control sk-hidden--visually\" id=\"sk-estimator-id-76\" type=\"checkbox\" ><label for=\"sk-estimator-id-76\" class=\"sk-toggleable__label sk-toggleable__label-arrow\">KNNImputer</label><div class=\"sk-toggleable__content\"><pre>KNNImputer()</pre></div></div></div><div class=\"sk-item\"><div class=\"sk-estimator sk-toggleable\"><input class=\"sk-toggleable__control sk-hidden--visually\" id=\"sk-estimator-id-77\" type=\"checkbox\" ><label for=\"sk-estimator-id-77\" class=\"sk-toggleable__label sk-toggleable__label-arrow\">RobustScaler</label><div class=\"sk-toggleable__content\"><pre>RobustScaler()</pre></div></div></div></div></div></div></div></div><div class=\"sk-parallel-item\"><div class=\"sk-item\"><div class=\"sk-label-container\"><div class=\"sk-label sk-toggleable\"><input class=\"sk-toggleable__control sk-hidden--visually\" id=\"sk-estimator-id-78\" type=\"checkbox\" ><label for=\"sk-estimator-id-78\" class=\"sk-toggleable__label sk-toggleable__label-arrow\">remainder</label><div class=\"sk-toggleable__content\"><pre>[]</pre></div></div></div><div class=\"sk-serial\"><div class=\"sk-item\"><div class=\"sk-estimator sk-toggleable\"><input class=\"sk-toggleable__control sk-hidden--visually\" id=\"sk-estimator-id-79\" type=\"checkbox\" ><label for=\"sk-estimator-id-79\" class=\"sk-toggleable__label sk-toggleable__label-arrow\">passthrough</label><div class=\"sk-toggleable__content\"><pre>passthrough</pre></div></div></div></div></div></div></div></div><div class=\"sk-item\"><div class=\"sk-estimator sk-toggleable\"><input class=\"sk-toggleable__control sk-hidden--visually\" id=\"sk-estimator-id-80\" type=\"checkbox\" ><label for=\"sk-estimator-id-80\" class=\"sk-toggleable__label sk-toggleable__label-arrow\">SVMSMOTE</label><div class=\"sk-toggleable__content\"><pre>SVMSMOTE()</pre></div></div></div><div class=\"sk-item sk-dashed-wrapped\"><div class=\"sk-label-container\"><div class=\"sk-label sk-toggleable\"><input class=\"sk-toggleable__control sk-hidden--visually\" id=\"sk-estimator-id-81\" type=\"checkbox\" ><label for=\"sk-estimator-id-81\" class=\"sk-toggleable__label sk-toggleable__label-arrow\">feature_selection_RFE: RFE</label><div class=\"sk-toggleable__content\"><pre>RFE(estimator=LogisticRegression(), n_features_to_select=10)</pre></div></div></div><div class=\"sk-parallel\"><div class=\"sk-parallel-item\"><div class=\"sk-item\"><div class=\"sk-label-container\"><div class=\"sk-label sk-toggleable\"><input class=\"sk-toggleable__control sk-hidden--visually\" id=\"sk-estimator-id-82\" type=\"checkbox\" ><label for=\"sk-estimator-id-82\" class=\"sk-toggleable__label sk-toggleable__label-arrow\">estimator: LogisticRegression</label><div class=\"sk-toggleable__content\"><pre>LogisticRegression()</pre></div></div></div><div class=\"sk-serial\"><div class=\"sk-item\"><div class=\"sk-estimator sk-toggleable\"><input class=\"sk-toggleable__control sk-hidden--visually\" id=\"sk-estimator-id-83\" type=\"checkbox\" ><label for=\"sk-estimator-id-83\" class=\"sk-toggleable__label sk-toggleable__label-arrow\">LogisticRegression</label><div class=\"sk-toggleable__content\"><pre>LogisticRegression()</pre></div></div></div></div></div></div></div></div><div class=\"sk-item\"><div class=\"sk-estimator sk-toggleable\"><input class=\"sk-toggleable__control sk-hidden--visually\" id=\"sk-estimator-id-84\" type=\"checkbox\" ><label for=\"sk-estimator-id-84\" class=\"sk-toggleable__label sk-toggleable__label-arrow\">LogisticRegression</label><div class=\"sk-toggleable__content\"><pre>LogisticRegression(C=0.1, solver=&#x27;newton-cg&#x27;)</pre></div></div></div></div></div></div></div>"
      ],
      "text/plain": [
       "Pipeline(steps=[('preprocessor',\n",
       "                 ColumnTransformer(remainder='passthrough',\n",
       "                                   transformers=[('cat_preprocessing',\n",
       "                                                  Pipeline(steps=[('simple_imputer_mode',\n",
       "                                                                   SimpleImputer(strategy='most_frequent')),\n",
       "                                                                  ('onh_encoder',\n",
       "                                                                   OneHotEncoder(drop='first',\n",
       "                                                                                 sparse_output=False)),\n",
       "                                                                  ('RobustScaler',\n",
       "                                                                   RobustScaler())]),\n",
       "                                                  ['Gender', 'Married',\n",
       "                                                   'Education', 'Self_Employed',\n",
       "                                                   'Property_Area'...\n",
       "                                                  Pipeline(steps=[('knn_imputer',\n",
       "                                                                   KNNImputer()),\n",
       "                                                                  ('RobustScaler',\n",
       "                                                                   RobustScaler())]),\n",
       "                                                  ['ApplicantIncome',\n",
       "                                                   'CoapplicantIncome',\n",
       "                                                   'LoanAmount',\n",
       "                                                   'Loan_Amount_Term',\n",
       "                                                   'min_installment',\n",
       "                                                   'ratio_of_income',\n",
       "                                                   'diff_all'])])),\n",
       "                ('overSampling', SVMSMOTE()),\n",
       "                ('feature_selection_RFE',\n",
       "                 RFE(estimator=LogisticRegression(), n_features_to_select=10)),\n",
       "                ('LR_model', LogisticRegression(C=0.1, solver='newton-cg'))])"
      ]
     },
     "execution_count": 212,
     "metadata": {},
     "output_type": "execute_result"
    }
   ],
   "source": [
    "Model.fit(X,y)"
   ]
  },
  {
   "cell_type": "markdown",
   "id": "344d1853",
   "metadata": {},
   "source": [
    "# scoring best params"
   ]
  },
  {
   "cell_type": "code",
   "execution_count": 213,
   "id": "5867298c",
   "metadata": {},
   "outputs": [
    {
     "name": "stdout",
     "output_type": "stream",
     "text": [
      "test_roc_auc : 0.7612493715434893\n",
      "train_roc_auc: 0.7888691823339433\n",
      "--------------------------------------------------\n",
      "test_accuracy : 0.7686791949886712\n",
      "train_accuracy: 0.7862401271670558\n",
      "--------------------------------------------------\n",
      "test_recall : 0.8908683473389356\n",
      "train_recall: 0.9040138359700103\n",
      "--------------------------------------------------\n",
      "test_precision : 0.7982539607325138\n",
      "train_precision: 0.8079794261757034\n",
      "--------------------------------------------------\n",
      "test_f1 : 0.840312257066425\n",
      "train_f1: 0.8530620312549336\n",
      "**************************************************\n"
     ]
    }
   ],
   "source": [
    "cat_preprocessing = Pipeline(steps=[\n",
    "    ('simple_imputer_mode', SimpleImputer(strategy='most_frequent') ),\n",
    "    ('onh_encoder', OneHotEncoder(sparse_output=False, drop='first') ),\n",
    "    ('RobustScaler',RobustScaler())\n",
    "])\n",
    "\n",
    "num_preprocessing = Pipeline(steps=[\n",
    "    ('knn_imputer', KNNImputer() ),\n",
    "    ('RobustScaler',RobustScaler())\n",
    "])\n",
    "\n",
    "# Create the ColumnTransformer preprocessing\n",
    "preprocessor =ColumnTransformer(\n",
    "    transformers=[\n",
    "       ('cat_preprocessing', cat_preprocessing , cat_cols)\n",
    "        ,('num_preprocessing', num_preprocessing , scaling_col)\n",
    "        ],\n",
    "    remainder='passthrough'\n",
    "     )\n",
    "# Steps Creation\n",
    "stepss = list()\n",
    "\n",
    "stepss.append(('preprocessor', preprocessor))\n",
    "stepss.append(('overSampling',SVMSMOTE()))\n",
    "stepss.append(('feature_selection_RFE',RFE_selector))\n",
    "stepss.append(('LR_model', LogisticRegression(C=.1 , penalty= 'l2', solver= 'newton-cg')))\n",
    "\n",
    "# Create the pipeline\n",
    "pipeline = Pipeline(steps=stepss)\n",
    "\n",
    "## scoring\n",
    "# Perform cross-validation\n",
    "# Example evaluation metrics\n",
    "cv_results = cross_validate(pipeline, X, y, scoring={'roc_auc': 'roc_auc',\n",
    "                                                             'accuracy':'accuracy',\n",
    "                                                             'recall':'recall',\n",
    "                                                             'precision':'precision',\n",
    "                                                             'f1':'f1'}# interested scors and metrics\n",
    "                                                             \n",
    "                                    , cv=5, return_train_score=True,n_jobs=-1,error_score='raise')  # X and y are your input data and targets\n",
    "        \n",
    "# Access the results\n",
    "test_roc_auc = cv_results['test_roc_auc'].mean()\n",
    "train_roc_auc = cv_results['train_roc_auc'].mean()\n",
    "print(\"test_roc_auc :\", test_roc_auc)\n",
    "print(\"train_roc_auc:\", train_roc_auc)\n",
    "print('-'*50)\n",
    "test_accuracy = cv_results['test_accuracy'].mean()\n",
    "train_accuracy = cv_results['train_accuracy'].mean()\n",
    "print(\"test_accuracy :\", test_accuracy)\n",
    "print(\"train_accuracy:\", train_accuracy)\n",
    "print('-'*50)\n",
    "test_recall = cv_results['test_recall'].mean()\n",
    "train_recall = cv_results['train_recall'].mean()\n",
    "print(\"test_recall :\", test_recall)\n",
    "print(\"train_recall:\", train_recall)\n",
    "print('-'*50)\n",
    "test_precision = cv_results['test_precision'].mean()\n",
    "train_precision = cv_results['train_precision'].mean()\n",
    "print(\"test_precision :\", test_precision)\n",
    "print(\"train_precision:\", train_precision)\n",
    "print('-'*50)\n",
    "test_f1 = cv_results['test_f1'].mean()\n",
    "train_f1 = cv_results['train_f1'].mean()\n",
    "print(\"test_f1 :\", test_f1)\n",
    "print(\"train_f1:\", train_f1)\n",
    "result_models.append([test_roc_auc,train_roc_auc,test_accuracy,train_accuracy, test_recall , train_recall ,\n",
    "test_precision,train_precision,test_f1,train_f1])\n",
    "print('*' * 50)"
   ]
  },
  {
   "cell_type": "code",
   "execution_count": null,
   "id": "0cacc0bf",
   "metadata": {},
   "outputs": [],
   "source": []
  },
  {
   "cell_type": "markdown",
   "id": "cd3f6534",
   "metadata": {},
   "source": [
    "## Saving important objects For Deploying"
   ]
  },
  {
   "cell_type": "code",
   "execution_count": 214,
   "id": "69cf01ae",
   "metadata": {},
   "outputs": [
    {
     "data": {
      "text/plain": [
       "['Loans_Model_Final.pkl']"
      ]
     },
     "execution_count": 214,
     "metadata": {},
     "output_type": "execute_result"
    }
   ],
   "source": [
    "jb.dump(Model,\"Loans_Model_Final.pkl\")"
   ]
  },
  {
   "cell_type": "code",
   "execution_count": 215,
   "id": "fbc88a36",
   "metadata": {},
   "outputs": [
    {
     "data": {
      "text/plain": [
       "['Loans_Columns_Final.pkl']"
      ]
     },
     "execution_count": 215,
     "metadata": {},
     "output_type": "execute_result"
    }
   ],
   "source": [
    "jb.dump(X.columns,\"Loans_Columns_Final.pkl\")"
   ]
  },
  {
   "cell_type": "code",
   "execution_count": 216,
   "id": "929186e9",
   "metadata": {},
   "outputs": [
    {
     "data": {
      "text/html": [
       "<div>\n",
       "<style scoped>\n",
       "    .dataframe tbody tr th:only-of-type {\n",
       "        vertical-align: middle;\n",
       "    }\n",
       "\n",
       "    .dataframe tbody tr th {\n",
       "        vertical-align: top;\n",
       "    }\n",
       "\n",
       "    .dataframe thead th {\n",
       "        text-align: right;\n",
       "    }\n",
       "</style>\n",
       "<table border=\"1\" class=\"dataframe\">\n",
       "  <thead>\n",
       "    <tr style=\"text-align: right;\">\n",
       "      <th></th>\n",
       "      <th>Dependents</th>\n",
       "      <th>ApplicantIncome</th>\n",
       "      <th>CoapplicantIncome</th>\n",
       "      <th>LoanAmount</th>\n",
       "      <th>Loan_Amount_Term</th>\n",
       "      <th>Credit_History</th>\n",
       "      <th>min_installment</th>\n",
       "      <th>ratio_of_income</th>\n",
       "      <th>diff_all</th>\n",
       "    </tr>\n",
       "  </thead>\n",
       "  <tbody>\n",
       "    <tr>\n",
       "      <th>count</th>\n",
       "      <td>599.000000</td>\n",
       "      <td>614.000000</td>\n",
       "      <td>614.000000</td>\n",
       "      <td>592.000000</td>\n",
       "      <td>600.00000</td>\n",
       "      <td>564.000000</td>\n",
       "      <td>578.000000</td>\n",
       "      <td>578.000000</td>\n",
       "      <td>578.000000</td>\n",
       "    </tr>\n",
       "    <tr>\n",
       "      <th>mean</th>\n",
       "      <td>0.762938</td>\n",
       "      <td>5403.459283</td>\n",
       "      <td>1621.245798</td>\n",
       "      <td>146.412162</td>\n",
       "      <td>342.00000</td>\n",
       "      <td>0.842199</td>\n",
       "      <td>384.239880</td>\n",
       "      <td>10.120997</td>\n",
       "      <td>6691.381089</td>\n",
       "    </tr>\n",
       "    <tr>\n",
       "      <th>std</th>\n",
       "      <td>1.015216</td>\n",
       "      <td>6109.041673</td>\n",
       "      <td>2926.248369</td>\n",
       "      <td>85.587325</td>\n",
       "      <td>65.12041</td>\n",
       "      <td>0.364878</td>\n",
       "      <td>420.366948</td>\n",
       "      <td>20.051338</td>\n",
       "      <td>6455.041863</td>\n",
       "    </tr>\n",
       "    <tr>\n",
       "      <th>min</th>\n",
       "      <td>0.000000</td>\n",
       "      <td>150.000000</td>\n",
       "      <td>0.000000</td>\n",
       "      <td>9.000000</td>\n",
       "      <td>12.00000</td>\n",
       "      <td>0.000000</td>\n",
       "      <td>20.000000</td>\n",
       "      <td>0.670253</td>\n",
       "      <td>36.555556</td>\n",
       "    </tr>\n",
       "    <tr>\n",
       "      <th>25%</th>\n",
       "      <td>0.000000</td>\n",
       "      <td>2877.500000</td>\n",
       "      <td>0.000000</td>\n",
       "      <td>100.000000</td>\n",
       "      <td>360.00000</td>\n",
       "      <td>1.000000</td>\n",
       "      <td>228.888889</td>\n",
       "      <td>5.484486</td>\n",
       "      <td>3863.527778</td>\n",
       "    </tr>\n",
       "    <tr>\n",
       "      <th>50%</th>\n",
       "      <td>0.000000</td>\n",
       "      <td>3812.500000</td>\n",
       "      <td>1188.500000</td>\n",
       "      <td>128.000000</td>\n",
       "      <td>360.00000</td>\n",
       "      <td>1.000000</td>\n",
       "      <td>292.222222</td>\n",
       "      <td>7.074611</td>\n",
       "      <td>5046.388889</td>\n",
       "    </tr>\n",
       "    <tr>\n",
       "      <th>75%</th>\n",
       "      <td>2.000000</td>\n",
       "      <td>5795.000000</td>\n",
       "      <td>2297.250000</td>\n",
       "      <td>168.000000</td>\n",
       "      <td>360.00000</td>\n",
       "      <td>1.000000</td>\n",
       "      <td>411.111111</td>\n",
       "      <td>10.023864</td>\n",
       "      <td>7052.222222</td>\n",
       "    </tr>\n",
       "    <tr>\n",
       "      <th>max</th>\n",
       "      <td>3.000000</td>\n",
       "      <td>81000.000000</td>\n",
       "      <td>41667.000000</td>\n",
       "      <td>700.000000</td>\n",
       "      <td>480.00000</td>\n",
       "      <td>1.000000</td>\n",
       "      <td>7400.000000</td>\n",
       "      <td>373.931624</td>\n",
       "      <td>80200.000000</td>\n",
       "    </tr>\n",
       "  </tbody>\n",
       "</table>\n",
       "</div>"
      ],
      "text/plain": [
       "       Dependents  ApplicantIncome  CoapplicantIncome  LoanAmount  \\\n",
       "count  599.000000       614.000000         614.000000  592.000000   \n",
       "mean     0.762938      5403.459283        1621.245798  146.412162   \n",
       "std      1.015216      6109.041673        2926.248369   85.587325   \n",
       "min      0.000000       150.000000           0.000000    9.000000   \n",
       "25%      0.000000      2877.500000           0.000000  100.000000   \n",
       "50%      0.000000      3812.500000        1188.500000  128.000000   \n",
       "75%      2.000000      5795.000000        2297.250000  168.000000   \n",
       "max      3.000000     81000.000000       41667.000000  700.000000   \n",
       "\n",
       "       Loan_Amount_Term  Credit_History  min_installment  ratio_of_income  \\\n",
       "count         600.00000      564.000000       578.000000       578.000000   \n",
       "mean          342.00000        0.842199       384.239880        10.120997   \n",
       "std            65.12041        0.364878       420.366948        20.051338   \n",
       "min            12.00000        0.000000        20.000000         0.670253   \n",
       "25%           360.00000        1.000000       228.888889         5.484486   \n",
       "50%           360.00000        1.000000       292.222222         7.074611   \n",
       "75%           360.00000        1.000000       411.111111        10.023864   \n",
       "max           480.00000        1.000000      7400.000000       373.931624   \n",
       "\n",
       "           diff_all  \n",
       "count    578.000000  \n",
       "mean    6691.381089  \n",
       "std     6455.041863  \n",
       "min       36.555556  \n",
       "25%     3863.527778  \n",
       "50%     5046.388889  \n",
       "75%     7052.222222  \n",
       "max    80200.000000  "
      ]
     },
     "execution_count": 216,
     "metadata": {},
     "output_type": "execute_result"
    }
   ],
   "source": [
    "X.describe()"
   ]
  },
  {
   "cell_type": "code",
   "execution_count": 107,
   "id": "d8eda703",
   "metadata": {},
   "outputs": [
    {
     "data": {
      "text/plain": [
       "Index(['Gender', 'Married', 'Dependents', 'Education', 'Self_Employed',\n",
       "       'ApplicantIncome', 'CoapplicantIncome', 'LoanAmount',\n",
       "       'Loan_Amount_Term', 'Credit_History', 'Property_Area',\n",
       "       'min_installment', 'ratio_of_income', 'diff_all'],\n",
       "      dtype='object')"
      ]
     },
     "execution_count": 107,
     "metadata": {},
     "output_type": "execute_result"
    }
   ],
   "source": [
    "X.columns"
   ]
  },
  {
   "cell_type": "markdown",
   "id": "0cc21cc0",
   "metadata": {},
   "source": [
    "<a href=\"https://loan-eligibility-prediction-feature-engineering.streamlit.app/\">App Link<a/>"
   ]
  },
  {
   "cell_type": "code",
   "execution_count": null,
   "id": "7edc8049",
   "metadata": {},
   "outputs": [],
   "source": []
  }
 ],
 "metadata": {
  "kernelspec": {
   "display_name": "Python 3 (ipykernel)",
   "language": "python",
   "name": "python3"
  },
  "language_info": {
   "codemirror_mode": {
    "name": "ipython",
    "version": 3
   },
   "file_extension": ".py",
   "mimetype": "text/x-python",
   "name": "python",
   "nbconvert_exporter": "python",
   "pygments_lexer": "ipython3",
   "version": "3.11.5"
  }
 },
 "nbformat": 4,
 "nbformat_minor": 5
}
